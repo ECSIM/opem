{
 "cells": [
  {
   "cell_type": "markdown",
   "metadata": {},
   "source": [
    "#  Padulles Dynamic Model II"
   ]
  },
  {
   "cell_type": "markdown",
   "metadata": {},
   "source": [
    "### Version 0.8"
   ]
  },
  {
   "cell_type": "markdown",
   "metadata": {},
   "source": [
    "<p style=\"text-align:justify;\">\n",
    "The Padulles dynamic model can predict the transient response of cell voltage, temperature of the cell, hydrogen/oxygen out flow rates and cathode and anode channel temperatures/pressures under sudden change in load current. Hence, a dynamic fuel cell simulation is developed in this model, which incorporates the dynamics of flow and pressure in the anode and cathode channels and mass/ heat transfer transient features in the fuel cell body.\n",
    "<br/>This model is based on several assumptions: \n",
    "<ol>    \n",
    "<li>The stack is fed with hydrogen and air</li>   \n",
    "<li>Cell temperature is stable at all times</li>   \n",
    "<li>The ratio of pressures between the interior and exterior of the electrode channels is large</li>  \n",
    "<li>The channels that transport gases along the electrodes have a fixed volume </li>    \n",
    "<li>Only source of voltage loss is ohmic polarization</li>     \n",
    "<li>Nernst equation can be applied too</li>\n",
    "</ol>\n",
    "</p>"
   ]
  },
  {
   "cell_type": "markdown",
   "metadata": {},
   "source": [
    "<p style=\"text-align:justify;\">\n",
    "In this model, Nernst and fuel cell potential were modeled as a function of water, oxygen and hydrogen gases partial pressure that can be calculated from independent variables or constants. The partial pressure of gases is proportional to the molar flow of each gas. \n",
    "</p>"
   ]
  },
  {
   "cell_type": "markdown",
   "metadata": {},
   "source": [
    "<div style=\"text-align:center;\">\n",
    "    \n",
    "<img src=\"images/Padulles2-Diagram.jpg\">  \n",
    "<p style=\"text-align:center;\">Fig1. Padulles-2 Dynamic Model Block Diagram </p>\n",
    "    \n",
    "</div>"
   ]
  },
  {
   "cell_type": "markdown",
   "metadata": {},
   "source": [
    "## Nernst Voltage"
   ]
  },
  {
   "cell_type": "markdown",
   "metadata": {},
   "source": [
    "$$E_{Nernst}=N_0\\times [E_0+\\frac{RT}{2F}ln(\\frac{P_{H_2}\\times \\sqrt{P_{O_2}}}{P_{H_2O}})]$$"
   ]
  },
  {
   "cell_type": "markdown",
   "metadata": {},
   "source": [
    "$$P_{H_2}=\\frac{\\frac{1}{K_{H_2}}}{1+\\tau_{H_2}^{(s)}}[(q_{H_2}^{(inlet)}-(2\\times K_r \\times i)]$$"
   ]
  },
  {
   "cell_type": "markdown",
   "metadata": {},
   "source": [
    "$$P_{O_2}=\\frac{\\frac{1}{K_{O_2}}}{1+\\tau_{O_2}^{(s)}}[(q_{O_2}^{(inlet)}-(K_r \\times i)]$$"
   ]
  },
  {
   "cell_type": "markdown",
   "metadata": {},
   "source": [
    "$$P_{H_2O}=\\frac{\\frac{1}{K_{H_2O}}}{1+\\tau_{H_2O}^{(s)}}[(q_{H_2O}^{(inlet)}-(2\\times K_r \\times i)]$$"
   ]
  },
  {
   "cell_type": "markdown",
   "metadata": {},
   "source": [
    "$$K_r=\\frac{N_0}{4F}$$"
   ]
  },
  {
   "cell_type": "markdown",
   "metadata": {},
   "source": [
    "$$q_{O_2}^{(inlet)}=\\frac{q_{H_2}^{(inlet)}}{r_{h-o}}$$"
   ]
  },
  {
   "cell_type": "markdown",
   "metadata": {},
   "source": [
    "$$q_{H_2O}^{(inlet)}=q_{H_2}^{(inlet)}$$"
   ]
  },
  {
   "cell_type": "code",
   "execution_count": 1,
   "metadata": {},
   "outputs": [],
   "source": [
    "from opem.Dynamic.Padulles2 import Kr_Calc,qO2_Calc,PH2_Calc,PO2_Calc,PH2O_Calc,Enernst_Calc"
   ]
  },
  {
   "cell_type": "code",
   "execution_count": 2,
   "metadata": {},
   "outputs": [
    {
     "data": {
      "text/plain": [
       "1.2955435375179044e-08"
      ]
     },
     "execution_count": 2,
     "metadata": {},
     "output_type": "execute_result"
    }
   ],
   "source": [
    "Kr=Kr_Calc(N0=5)\n",
    "Kr"
   ]
  },
  {
   "cell_type": "code",
   "execution_count": 3,
   "metadata": {},
   "outputs": [
    {
     "data": {
      "text/plain": [
       "0.0003424657534246576"
      ]
     },
     "execution_count": 3,
     "metadata": {},
     "output_type": "execute_result"
    }
   ],
   "source": [
    "qO2=qO2_Calc(qH2=0.0004,rho=1.168)\n",
    "qO2"
   ]
  },
  {
   "cell_type": "code",
   "execution_count": 4,
   "metadata": {},
   "outputs": [
    {
     "data": {
      "text/plain": [
       "0.22881812879247693"
      ]
     },
     "execution_count": 4,
     "metadata": {},
     "output_type": "execute_result"
    }
   ],
   "source": [
    "PH2=PH2_Calc(KH2=0.0004,tH2=3.37,Kr=Kr,I=1,qH2=0.0004)\n",
    "PH2"
   ]
  },
  {
   "cell_type": "code",
   "execution_count": 5,
   "metadata": {},
   "outputs": [
    {
     "data": {
      "text/plain": [
       "2.0968979878594753"
      ]
     },
     "execution_count": 5,
     "metadata": {},
     "output_type": "execute_result"
    }
   ],
   "source": [
    "PO2=PO2_Calc(KO2=0.0000211,tO2=6.74,Kr=Kr,I=1,qO2=qO2)\n",
    "PO2"
   ]
  },
  {
   "cell_type": "code",
   "execution_count": 6,
   "metadata": {},
   "outputs": [
    {
     "data": {
      "text/plain": [
       "2.669532068584946"
      ]
     },
     "execution_count": 6,
     "metadata": {},
     "output_type": "execute_result"
    }
   ],
   "source": [
    "PH2O=PH2O_Calc(KH2O=0.000007716,tH2O=18.418,Kr=Kr,I=1,qH2O=0.0004)\n",
    "PH2O"
   ]
  },
  {
   "cell_type": "code",
   "execution_count": 7,
   "metadata": {},
   "outputs": [
    {
     "data": {
      "text/plain": [
       "2.845819522254369"
      ]
     },
     "execution_count": 7,
     "metadata": {},
     "output_type": "execute_result"
    }
   ],
   "source": [
    "Enernst=Enernst_Calc(E0=0.6,N0=5,T=343, PH2=PH2, PO2=PO2,PH2O=PH2O)\n",
    "Enernst"
   ]
  },
  {
   "cell_type": "markdown",
   "metadata": {},
   "source": [
    "### FC Voltage"
   ]
  },
  {
   "cell_type": "markdown",
   "metadata": {},
   "source": [
    "$$V_{Fuelcell}=E_{Nernst}-Bln(Ci)-(R^{int}\\times i)$$"
   ]
  },
  {
   "cell_type": "code",
   "execution_count": 8,
   "metadata": {},
   "outputs": [
    {
     "data": {
      "text/plain": [
       "3.0480899579320604"
      ]
     },
     "execution_count": 8,
     "metadata": {},
     "output_type": "execute_result"
    }
   ],
   "source": [
    "from opem.Dynamic.Padulles2 import Vcell_Calc\n",
    "FC_Voltage=Vcell_Calc(Enernst=Enernst, B=0.04777,C=0.0136,I=1,Rint=0.00303)\n",
    "FC_Voltage"
   ]
  },
  {
   "cell_type": "markdown",
   "metadata": {},
   "source": [
    "## Power Of PEMFC"
   ]
  },
  {
   "cell_type": "markdown",
   "metadata": {},
   "source": [
    "$$P=V_{cell}\\times i$$"
   ]
  },
  {
   "cell_type": "markdown",
   "metadata": {},
   "source": [
    "$$P_{Thermal}=i\\times(N \\times E_{th}-V_{Stack})$$"
   ]
  },
  {
   "cell_type": "markdown",
   "metadata": {},
   "source": [
    "$$E_{th}=\\frac{-\\Delta H}{nF}=1.23V$$"
   ]
  },
  {
   "cell_type": "code",
   "execution_count": 9,
   "metadata": {},
   "outputs": [
    {
     "data": {
      "text/plain": [
       "6.096179915864121"
      ]
     },
     "execution_count": 9,
     "metadata": {},
     "output_type": "execute_result"
    }
   ],
   "source": [
    "from opem.Dynamic.Padulles2 import Power_Calc,Power_Thermal_Calc\n",
    "Power=Power_Calc(Vcell=FC_Voltage,i=2)\n",
    "Power"
   ]
  },
  {
   "cell_type": "code",
   "execution_count": 10,
   "metadata": {},
   "outputs": [
    {
     "data": {
      "text/plain": [
       "6.20382008413588"
      ]
     },
     "execution_count": 10,
     "metadata": {},
     "output_type": "execute_result"
    }
   ],
   "source": [
    "Power_Thermal_Calc(VStack=FC_Voltage,N=5,i=2)"
   ]
  },
  {
   "cell_type": "markdown",
   "metadata": {},
   "source": [
    "## Efficiency of PEMFC"
   ]
  },
  {
   "cell_type": "markdown",
   "metadata": {},
   "source": [
    "$$\\eta=\\frac{\\mu_F\\times V_{Fuelcell}}{N_0\\times HHV}$$"
   ]
  },
  {
   "cell_type": "code",
   "execution_count": 11,
   "metadata": {},
   "outputs": [
    {
     "data": {
      "text/plain": [
       "0.3907807638374436"
      ]
     },
     "execution_count": 11,
     "metadata": {},
     "output_type": "execute_result"
    }
   ],
   "source": [
    "from opem.Dynamic.Padulles2 import Efficiency_Calc\n",
    "Efficiency_Calc(Vcell=FC_Voltage,N=5)"
   ]
  },
  {
   "cell_type": "markdown",
   "metadata": {},
   "source": [
    "## Linear Approximation"
   ]
  },
  {
   "cell_type": "markdown",
   "metadata": {},
   "source": [
    "Sometimes quick calculations regarding fuel cell efficiency–power-size relationships need to be made. Linear approximation is a good method to find a rough estimate of the value of polarization function at a particular point. A linear polarization curve has the following form:\n",
    "$$V_{cell}=V_0-kI$$\n",
    "where V0 is the intercept (actual open circuit voltage is always higher) and k is the slope of the curve.\n",
    "\n",
    "* Notice : <a href=\"https://en.wikipedia.org/wiki/Simple_linear_regression\">Simple linear regression</a> used for this approximation"
   ]
  },
  {
   "cell_type": "markdown",
   "metadata": {},
   "source": [
    "<table style=\"text-align:center;\">\n",
    "    <tr>\n",
    "        <td>$$Parameter$$</td>\n",
    "        <td>$$Description$$</td>\n",
    "        <td>$$Unit$$</td>\n",
    "    </tr> \n",
    "    <tr>\n",
    "        <td>$$V_0$$</td>\n",
    "        <td style=\"text-align:center;\">Intercept of the curve obtained by linear approximation</td>\n",
    "        <td>$$V$$</td>\n",
    "    </tr>\n",
    "    <tr>\n",
    "        <td>$$k$$</td>\n",
    "        <td style=\"text-align:center;\">Slope of the curve obtained by linear approximation</td>\n",
    "        <td>$$A^{-1}$$</td>\n",
    "    </tr>\n",
    "    <tr>\n",
    "        <td>$$P_{max}$$</td>\n",
    "        <td style=\"text-align:center;\">Maximum power obtained by linear approximation</td>\n",
    "        <td>$$W$$</td>\n",
    "    </tr>\n",
    "    <tr>\n",
    "        <td>$$V_{FC}|P_{max}$$</td>\n",
    "        <td style=\"text-align:center;\">Cell voltage at maximum power obtained by linear approximation</td>\n",
    "        <td>$$V$$</td>\n",
    "    </tr>\n",
    "   \n",
    "     \n",
    "    \n",
    "    \n",
    "    \n",
    "</table>"
   ]
  },
  {
   "cell_type": "markdown",
   "metadata": {},
   "source": [
    "* Notice : These parameters are only available in HTML report"
   ]
  },
  {
   "cell_type": "markdown",
   "metadata": {},
   "source": [
    "## Overall Parameters"
   ]
  },
  {
   "cell_type": "markdown",
   "metadata": {},
   "source": [
    "<table style=\"text-align:center;\">\n",
    "    <tr>\n",
    "        <td>$$Parameter$$</td>\n",
    "        <td>$$Description$$</td>\n",
    "        <td>$$Unit$$</td>\n",
    "    </tr> \n",
    "    <tr>\n",
    "        <td>$$\\eta|P_{Max}$$</td>\n",
    "        <td style=\"text-align:center;\">Cell efficiency at maximum power</td>\n",
    "        <td>$$--$$</td>\n",
    "    </tr>\n",
    "    <tr>\n",
    "        <td>$$P_{Max}$$</td>\n",
    "        <td style=\"text-align:center;\">Maximum power </td>\n",
    "        <td>$$W$$</td>\n",
    "    </tr>\n",
    "    <tr>\n",
    "        <td>$$P_{Elec} $$</td>\n",
    "        <td style=\"text-align:center;\">Total electrical power </td>\n",
    "        <td>$$W$$</td>\n",
    "    </tr>\n",
    "    <tr>\n",
    "        <td>$$P_{Thermal} $$</td>\n",
    "        <td style=\"text-align:center;\">Total thermal power   </td>\n",
    "        <td>$$W$$</td>\n",
    "    </tr>\n",
    "    <tr>\n",
    "        <td>$$V_{FC}|P_{Max}$$</td>\n",
    "        <td style=\"text-align:center;\">Cell voltage at maximum power </td>\n",
    "        <td>$$V$$</td>\n",
    "    </tr>\n",
    "   \n",
    "     \n",
    "    \n",
    "    \n",
    "    \n",
    "</table>"
   ]
  },
  {
   "cell_type": "markdown",
   "metadata": {},
   "source": [
    "* Notice : P(Thermal) & P(Elec) calculated by <a href=\"https://en.wikipedia.org/wiki/Simpson%27s_rule\">Simpson's Rule</a>\n",
    "\n",
    "* Notice : These parameters are only available in HTML report"
   ]
  },
  {
   "cell_type": "markdown",
   "metadata": {},
   "source": [
    "## Full Run"
   ]
  },
  {
   "cell_type": "markdown",
   "metadata": {},
   "source": [
    "* Run from `i`=0 to `i`=4 with `step`=0.1"
   ]
  },
  {
   "cell_type": "code",
   "execution_count": 12,
   "metadata": {
    "scrolled": true
   },
   "outputs": [],
   "source": [
    "Test_Vector={\"T\":343,\"E0\":0.6,\"N0\":5,\"KO2\":0.0000211,\"KH2\":0.0000422,\"KH2O\":0.000007716,\"tH2\":3.37,\"tO2\":6.74,\"tH2O\":18.418,\"B\":0.04777,\"C\":0.0136,\"Rint\":0.00303,\"rho\":1.168,\"qH2\":0.0004,\"i-start\":0.1,\"i-stop\":4,\"i-step\":0.1,\"Name\":\"Test\"}"
   ]
  },
  {
   "cell_type": "markdown",
   "metadata": {},
   "source": [
    "* Notice : \"Name\", new in version 0.5"
   ]
  },
  {
   "cell_type": "code",
   "execution_count": 13,
   "metadata": {},
   "outputs": [
    {
     "data": {
      "text/plain": [
       "{'EFF': [0.4265389961269225,\n",
       "  0.42225504989786394,\n",
       "  0.4197329719509197,\n",
       "  0.41793223959535725,\n",
       "  0.41652676431084773,\n",
       "  0.4153712975747617,\n",
       "  0.4143883594017745,\n",
       "  0.4135317011453444,\n",
       "  0.41277149148017567,\n",
       "  0.4120873617867766,\n",
       "  0.4114647839578894,\n",
       "  0.41089303097642904,\n",
       "  0.4103639566273662,\n",
       "  0.40987122872897686,\n",
       "  0.409409827543193,\n",
       "  0.40897570639787845,\n",
       "  0.4085655553769282,\n",
       "  0.40817663265783805,\n",
       "  0.4078066415116356,\n",
       "  0.40745363888936376,\n",
       "  0.40711596633503955,\n",
       "  0.4067921969851981,\n",
       "  0.4064810943595029,\n",
       "  0.40618157992825576,\n",
       "  0.40589270730496035,\n",
       "  0.40561364150350754,\n",
       "  0.405343642112191,\n",
       "  0.4050820495292294,\n",
       "  0.404828273614746,\n",
       "  0.40458178426735336,\n",
       "  0.4043421035464688,\n",
       "  0.40410879904574315,\n",
       "  0.40388147828648513,\n",
       "  0.403659783948294,\n",
       "  0.4034433897912177,\n",
       "  0.4032319971525013,\n",
       "  0.40302533192342654,\n",
       "  0.402823141929393,\n",
       "  0.4026251946503726],\n",
       " 'I': [0.1,\n",
       "  0.2,\n",
       "  0.3,\n",
       "  0.4,\n",
       "  0.5,\n",
       "  0.6,\n",
       "  0.7,\n",
       "  0.8,\n",
       "  0.9,\n",
       "  1.0,\n",
       "  1.1,\n",
       "  1.2,\n",
       "  1.3,\n",
       "  1.4,\n",
       "  1.5,\n",
       "  1.6,\n",
       "  1.7,\n",
       "  1.8,\n",
       "  1.9,\n",
       "  2.0,\n",
       "  2.1,\n",
       "  2.2,\n",
       "  2.3,\n",
       "  2.4,\n",
       "  2.5,\n",
       "  2.6,\n",
       "  2.7,\n",
       "  2.8,\n",
       "  2.9,\n",
       "  3.0,\n",
       "  3.1,\n",
       "  3.2,\n",
       "  3.3,\n",
       "  3.4,\n",
       "  3.5,\n",
       "  3.6,\n",
       "  3.7,\n",
       "  3.8,\n",
       "  3.9],\n",
       " 'K': -0.03641691581104169,\n",
       " 'P': [0.33270041697899955,\n",
       "  0.6587178778406679,\n",
       "  0.9821751543651522,\n",
       "  1.3039485875375147,\n",
       "  1.6244543808123062,\n",
       "  1.943937672649885,\n",
       "  2.2625604423336885,\n",
       "  2.580437815146949,\n",
       "  2.897655870190834,\n",
       "  3.2142814219368576,\n",
       "  3.5303678463586916,\n",
       "  3.845958769939376,\n",
       "  4.161090520201494,\n",
       "  4.475793817720427,\n",
       "  4.790094982255358,\n",
       "  5.104016815845523,\n",
       "  5.417579264298068,\n",
       "  5.730799922516047,\n",
       "  6.04369442720244,\n",
       "  6.356276766674075,\n",
       "  6.668559528567949,\n",
       "  6.980554100266,\n",
       "  7.292270832809483,\n",
       "  7.603719176256948,\n",
       "  7.914907792446728,\n",
       "  8.225844649691133,\n",
       "  8.536537102882745,\n",
       "  8.84699196171837,\n",
       "  9.157215549165555,\n",
       "  9.467213751856068,\n",
       "  9.776992063753617,\n",
       "  10.08655562418175,\n",
       "  10.395909251094128,\n",
       "  10.705057470308757,\n",
       "  11.014004541300244,\n",
       "  11.322754480042237,\n",
       "  11.631311079310091,\n",
       "  11.939677926787208,\n",
       "  12.247858421264336],\n",
       " 'PH2': [2.169018669476965,\n",
       "  2.1690046190953503,\n",
       "  2.1689905687137356,\n",
       "  2.1689765183321215,\n",
       "  2.1689624679505073,\n",
       "  2.1689484175688927,\n",
       "  2.1689343671872785,\n",
       "  2.168920316805664,\n",
       "  2.1689062664240497,\n",
       "  2.168892216042435,\n",
       "  2.168878165660821,\n",
       "  2.1688641152792063,\n",
       "  2.168850064897592,\n",
       "  2.168836014515978,\n",
       "  2.1688219641343633,\n",
       "  2.1688079137527487,\n",
       "  2.1687938633711346,\n",
       "  2.16877981298952,\n",
       "  2.1687657626079058,\n",
       "  2.168751712226291,\n",
       "  2.168737661844677,\n",
       "  2.168723611463063,\n",
       "  2.168709561081448,\n",
       "  2.168695510699834,\n",
       "  2.1686814603182194,\n",
       "  2.168667409936605,\n",
       "  2.1686533595549906,\n",
       "  2.168639309173376,\n",
       "  2.168625258791762,\n",
       "  2.1686112084101477,\n",
       "  2.168597158028533,\n",
       "  2.168583107646919,\n",
       "  2.1685690572653042,\n",
       "  2.16855500688369,\n",
       "  2.1685409565020755,\n",
       "  2.168526906120461,\n",
       "  2.1685128557388467,\n",
       "  2.168498805357232,\n",
       "  2.168484754975618],\n",
       " 'PH2O': [2.669687710942903,\n",
       "  2.6696704173475743,\n",
       "  2.669653123752246,\n",
       "  2.6696358301569174,\n",
       "  2.669618536561589,\n",
       "  2.6696012429662606,\n",
       "  2.669583949370932,\n",
       "  2.6695666557756033,\n",
       "  2.6695493621802746,\n",
       "  2.669532068584946,\n",
       "  2.6695147749896178,\n",
       "  2.669497481394289,\n",
       "  2.669480187798961,\n",
       "  2.6694628942036323,\n",
       "  2.6694456006083036,\n",
       "  2.669428307012975,\n",
       "  2.6694110134176463,\n",
       "  2.6693937198223177,\n",
       "  2.669376426226989,\n",
       "  2.669359132631661,\n",
       "  2.669341839036332,\n",
       "  2.669324545441004,\n",
       "  2.6693072518456753,\n",
       "  2.6692899582503467,\n",
       "  2.669272664655018,\n",
       "  2.6692553710596894,\n",
       "  2.6692380774643607,\n",
       "  2.6692207838690325,\n",
       "  2.669203490273704,\n",
       "  2.6691861966783756,\n",
       "  2.669168903083047,\n",
       "  2.6691516094877183,\n",
       "  2.6691343158923897,\n",
       "  2.669117022297061,\n",
       "  2.6690997287017324,\n",
       "  2.669082435106404,\n",
       "  2.6690651415110755,\n",
       "  2.669047847915747,\n",
       "  2.6690305543204187],\n",
       " 'PO2': [2.09696938340326,\n",
       "  2.0969614505650616,\n",
       "  2.0969535177268637,\n",
       "  2.0969455848886653,\n",
       "  2.096937652050467,\n",
       "  2.0969297192122687,\n",
       "  2.0969217863740703,\n",
       "  2.096913853535872,\n",
       "  2.0969059206976737,\n",
       "  2.0968979878594753,\n",
       "  2.096890055021277,\n",
       "  2.0968821221830787,\n",
       "  2.0968741893448803,\n",
       "  2.096866256506682,\n",
       "  2.0968583236684837,\n",
       "  2.096850390830286,\n",
       "  2.0968424579920875,\n",
       "  2.096834525153889,\n",
       "  2.096826592315691,\n",
       "  2.0968186594774925,\n",
       "  2.096810726639294,\n",
       "  2.096802793801096,\n",
       "  2.0967948609628975,\n",
       "  2.096786928124699,\n",
       "  2.096778995286501,\n",
       "  2.0967710624483025,\n",
       "  2.096763129610104,\n",
       "  2.096755196771906,\n",
       "  2.0967472639337075,\n",
       "  2.0967393310955096,\n",
       "  2.0967313982573113,\n",
       "  2.096723465419113,\n",
       "  2.0967155325809146,\n",
       "  2.0967075997427163,\n",
       "  2.096699666904518,\n",
       "  2.0966917340663196,\n",
       "  2.0966838012281213,\n",
       "  2.096675868389923,\n",
       "  2.0966679355517246],\n",
       " 'Ph': [0.2822995830210005,\n",
       "  0.5712821221593323,\n",
       "  0.8628248456348478,\n",
       "  1.1560514124624854,\n",
       "  1.450545619187694,\n",
       "  1.7460623273501152,\n",
       "  2.0424395576663112,\n",
       "  2.3395621848530515,\n",
       "  2.6373441298091667,\n",
       "  2.9357185780631427,\n",
       "  3.234632153641309,\n",
       "  3.5340412300606245,\n",
       "  3.833909479798507,\n",
       "  4.1342061822795735,\n",
       "  4.434905017744642,\n",
       "  4.7359831841544775,\n",
       "  5.037420735701932,\n",
       "  5.339200077483954,\n",
       "  5.6413055727975605,\n",
       "  5.943723233325926,\n",
       "  6.246440471432053,\n",
       "  6.5494458997340015,\n",
       "  6.8527291671905175,\n",
       "  7.156280823743052,\n",
       "  7.460092207553273,\n",
       "  7.764155350308868,\n",
       "  8.068462897117257,\n",
       "  8.37300803828163,\n",
       "  8.677784450834444,\n",
       "  8.982786248143931,\n",
       "  9.288007936246384,\n",
       "  9.593444375818251,\n",
       "  9.899090748905872,\n",
       "  10.204942529691243,\n",
       "  10.510995458699757,\n",
       "  10.817245519957764,\n",
       "  11.123688920689911,\n",
       "  11.43032207321279,\n",
       "  11.737141578735665],\n",
       " 'Status': True,\n",
       " 'V': [3.3270041697899955,\n",
       "  3.293589389203339,\n",
       "  3.273917181217174,\n",
       "  3.259871468843787,\n",
       "  3.2489087616246124,\n",
       "  3.2398961210831416,\n",
       "  3.232229203333841,\n",
       "  3.225547268933686,\n",
       "  3.219617633545371,\n",
       "  3.2142814219368576,\n",
       "  3.2094253148715377,\n",
       "  3.2049656416161465,\n",
       "  3.2008388616934567,\n",
       "  3.1969955840860194,\n",
       "  3.1933966548369055,\n",
       "  3.190010509903452,\n",
       "  3.18681133194004,\n",
       "  3.183777734731137,\n",
       "  3.180891803790758,\n",
       "  3.1781383833370374,\n",
       "  3.1755045374133086,\n",
       "  3.172979136484545,\n",
       "  3.170552536004123,\n",
       "  3.168216323440395,\n",
       "  3.1659631169786913,\n",
       "  3.163786403727359,\n",
       "  3.1616804084750902,\n",
       "  3.1596399863279894,\n",
       "  3.1576605341950192,\n",
       "  3.1557379172853564,\n",
       "  3.1538684076624572,\n",
       "  3.152048632556797,\n",
       "  3.1502755306345844,\n",
       "  3.1485463147966937,\n",
       "  3.1468584403714983,\n",
       "  3.1452095777895104,\n",
       "  3.1435975890027272,\n",
       "  3.1420205070492657,\n",
       "  3.140476518272907],\n",
       " 'V0': 3.263468110052509}"
      ]
     },
     "execution_count": 13,
     "metadata": {},
     "output_type": "execute_result"
    }
   ],
   "source": [
    "from opem.Dynamic.Padulles2 import Dynamic_Analysis\n",
    "Dynamic_Analysis(InputMethod=Test_Vector,TestMode=True,PrintMode=False,ReportMode=True)"
   ]
  },
  {
   "cell_type": "markdown",
   "metadata": {},
   "source": [
    "* Notice : \"Status\", \"V0\", \"K\" and \"EFF\" , new in version 0.8"
   ]
  },
  {
   "cell_type": "code",
   "execution_count": 14,
   "metadata": {},
   "outputs": [
    {
     "name": "stdout",
     "output_type": "stream",
     "text": [
      "###########\n",
      "Padulles-II-Model Simulation\n",
      "###########\n",
      "Analyzing . . .\n",
      "I : 0.1\n",
      "E : 3.0120122442199793 V\n",
      "FC Efficiency : 0.4265389961269225 \n",
      "FC Power : 0.33270041697899955 W\n",
      "FC Voltage : 3.3270041697899955 V\n",
      "PH2 : 2.169018669476965 atm\n",
      "PH2O : 2.669687710942903 atm\n",
      "PO2 : 2.09696938340326 atm\n",
      "Power-Thermal : 0.2822995830210005 W\n",
      "###########\n",
      "I : 0.2\n",
      "E : 3.012012104448671 V\n",
      "FC Efficiency : 0.42225504989786394 \n",
      "FC Power : 0.6587178778406679 W\n",
      "FC Voltage : 3.293589389203339 V\n",
      "PH2 : 2.1690046190953503 atm\n",
      "PH2O : 2.6696704173475743 atm\n",
      "PO2 : 2.0969614505650616 atm\n",
      "Power-Thermal : 0.5712821221593323 W\n",
      "###########\n",
      "I : 0.3\n",
      "E : 3.0120119646768333 V\n",
      "FC Efficiency : 0.4197329719509197 \n",
      "FC Power : 0.9821751543651522 W\n",
      "FC Voltage : 3.273917181217174 V\n",
      "PH2 : 2.1689905687137356 atm\n",
      "PH2O : 2.669653123752246 atm\n",
      "PO2 : 2.0969535177268637 atm\n",
      "Power-Thermal : 0.8628248456348478 W\n",
      "###########\n",
      "I : 0.4\n",
      "E : 3.0120118249044676 V\n",
      "FC Efficiency : 0.41793223959535725 \n",
      "FC Power : 1.3039485875375147 W\n",
      "FC Voltage : 3.259871468843787 V\n",
      "PH2 : 2.1689765183321215 atm\n",
      "PH2O : 2.6696358301569174 atm\n",
      "PO2 : 2.0969455848886653 atm\n",
      "Power-Thermal : 1.1560514124624854 W\n",
      "###########\n",
      "I : 0.5\n",
      "E : 3.0120116851315726 V\n",
      "FC Efficiency : 0.41652676431084773 \n",
      "FC Power : 1.6244543808123062 W\n",
      "FC Voltage : 3.2489087616246124 V\n",
      "PH2 : 2.1689624679505073 atm\n",
      "PH2O : 2.669618536561589 atm\n",
      "PO2 : 2.096937652050467 atm\n",
      "Power-Thermal : 1.450545619187694 W\n",
      "###########\n",
      "I : 0.6\n",
      "E : 3.012011545358149 V\n",
      "FC Efficiency : 0.4153712975747617 \n",
      "FC Power : 1.943937672649885 W\n",
      "FC Voltage : 3.2398961210831416 V\n",
      "PH2 : 2.1689484175688927 atm\n",
      "PH2O : 2.6696012429662606 atm\n",
      "PO2 : 2.0969297192122687 atm\n",
      "Power-Thermal : 1.7460623273501152 W\n",
      "###########\n",
      "I : 0.7\n",
      "E : 3.0120114055841967 V\n",
      "FC Efficiency : 0.4143883594017745 \n",
      "FC Power : 2.2625604423336885 W\n",
      "FC Voltage : 3.232229203333841 V\n",
      "PH2 : 2.1689343671872785 atm\n",
      "PH2O : 2.669583949370932 atm\n",
      "PO2 : 2.0969217863740703 atm\n",
      "Power-Thermal : 2.0424395576663112 W\n",
      "###########\n",
      "I : 0.8\n",
      "E : 3.0120112658097153 V\n",
      "FC Efficiency : 0.4135317011453444 \n",
      "FC Power : 2.580437815146949 W\n",
      "FC Voltage : 3.225547268933686 V\n",
      "PH2 : 2.168920316805664 atm\n",
      "PH2O : 2.6695666557756033 atm\n",
      "PO2 : 2.096913853535872 atm\n",
      "Power-Thermal : 2.3395621848530515 W\n",
      "###########\n",
      "I : 0.9\n",
      "E : 3.0120111260347056 V\n",
      "FC Efficiency : 0.41277149148017567 \n",
      "FC Power : 2.897655870190834 W\n",
      "FC Voltage : 3.219617633545371 V\n",
      "PH2 : 2.1689062664240497 atm\n",
      "PH2O : 2.6695493621802746 atm\n",
      "PO2 : 2.0969059206976737 atm\n",
      "Power-Thermal : 2.6373441298091667 W\n",
      "###########\n",
      "I : 1.0\n",
      "E : 3.0120109862591664 V\n",
      "FC Efficiency : 0.4120873617867766 \n",
      "FC Power : 3.2142814219368576 W\n",
      "FC Voltage : 3.2142814219368576 V\n",
      "PH2 : 2.168892216042435 atm\n",
      "PH2O : 2.669532068584946 atm\n",
      "PO2 : 2.0968979878594753 atm\n",
      "Power-Thermal : 2.9357185780631427 W\n",
      "###########\n",
      "I : 1.1\n",
      "E : 3.0120108464830992 V\n",
      "FC Efficiency : 0.4114647839578894 \n",
      "FC Power : 3.5303678463586916 W\n",
      "FC Voltage : 3.2094253148715377 V\n",
      "PH2 : 2.168878165660821 atm\n",
      "PH2O : 2.6695147749896178 atm\n",
      "PO2 : 2.096890055021277 atm\n",
      "Power-Thermal : 3.234632153641309 W\n",
      "###########\n",
      "I : 1.2\n",
      "E : 3.0120107067065027 V\n",
      "FC Efficiency : 0.41089303097642904 \n",
      "FC Power : 3.845958769939376 W\n",
      "FC Voltage : 3.2049656416161465 V\n",
      "PH2 : 2.1688641152792063 atm\n",
      "PH2O : 2.669497481394289 atm\n",
      "PO2 : 2.0968821221830787 atm\n",
      "Power-Thermal : 3.5340412300606245 W\n",
      "###########\n",
      "I : 1.3\n",
      "E : 3.0120105669293777 V\n",
      "FC Efficiency : 0.4103639566273662 \n",
      "FC Power : 4.161090520201494 W\n",
      "FC Voltage : 3.2008388616934567 V\n",
      "PH2 : 2.168850064897592 atm\n",
      "PH2O : 2.669480187798961 atm\n",
      "PO2 : 2.0968741893448803 atm\n",
      "Power-Thermal : 3.833909479798507 W\n",
      "###########\n",
      "I : 1.4\n",
      "E : 3.012010427151724 V\n",
      "FC Efficiency : 0.40987122872897686 \n",
      "FC Power : 4.475793817720427 W\n",
      "FC Voltage : 3.1969955840860194 V\n",
      "PH2 : 2.168836014515978 atm\n",
      "PH2O : 2.6694628942036323 atm\n",
      "PO2 : 2.096866256506682 atm\n",
      "Power-Thermal : 4.1342061822795735 W\n",
      "###########\n",
      "I : 1.5\n",
      "E : 3.012010287373541 V\n",
      "FC Efficiency : 0.409409827543193 \n",
      "FC Power : 4.790094982255358 W\n",
      "FC Voltage : 3.1933966548369055 V\n",
      "PH2 : 2.1688219641343633 atm\n",
      "PH2O : 2.6694456006083036 atm\n",
      "PO2 : 2.0968583236684837 atm\n",
      "Power-Thermal : 4.434905017744642 W\n",
      "###########\n",
      "I : 1.6\n",
      "E : 3.0120101475948298 V\n",
      "FC Efficiency : 0.40897570639787845 \n",
      "FC Power : 5.104016815845523 W\n",
      "FC Voltage : 3.190010509903452 V\n",
      "PH2 : 2.1688079137527487 atm\n",
      "PH2O : 2.669428307012975 atm\n",
      "PO2 : 2.096850390830286 atm\n",
      "Power-Thermal : 4.7359831841544775 W\n",
      "###########\n",
      "I : 1.7\n",
      "E : 3.012010007815589 V\n",
      "FC Efficiency : 0.4085655553769282 \n",
      "FC Power : 5.417579264298068 W\n",
      "FC Voltage : 3.18681133194004 V\n",
      "PH2 : 2.1687938633711346 atm\n",
      "PH2O : 2.6694110134176463 atm\n",
      "PO2 : 2.0968424579920875 atm\n",
      "Power-Thermal : 5.037420735701932 W\n",
      "###########\n",
      "I : 1.8\n",
      "E : 3.01200986803582 V\n",
      "FC Efficiency : 0.40817663265783805 \n",
      "FC Power : 5.730799922516047 W\n",
      "FC Voltage : 3.183777734731137 V\n",
      "PH2 : 2.16877981298952 atm\n",
      "PH2O : 2.6693937198223177 atm\n",
      "PO2 : 2.096834525153889 atm\n",
      "Power-Thermal : 5.339200077483954 W\n",
      "###########\n",
      "I : 1.9\n",
      "E : 3.012009728255522 V\n",
      "FC Efficiency : 0.4078066415116356 \n",
      "FC Power : 6.04369442720244 W\n",
      "FC Voltage : 3.180891803790758 V\n",
      "PH2 : 2.1687657626079058 atm\n",
      "PH2O : 2.669376426226989 atm\n",
      "PO2 : 2.096826592315691 atm\n",
      "Power-Thermal : 5.6413055727975605 W\n",
      "###########\n",
      "I : 2.0\n",
      "E : 3.012009588474695 V\n",
      "FC Efficiency : 0.40745363888936376 \n",
      "FC Power : 6.356276766674075 W\n",
      "FC Voltage : 3.1781383833370374 V\n",
      "PH2 : 2.168751712226291 atm\n",
      "PH2O : 2.669359132631661 atm\n",
      "PO2 : 2.0968186594774925 atm\n",
      "Power-Thermal : 5.943723233325926 W\n",
      "###########\n",
      "I : 2.1\n",
      "E : 3.0120094486933398 V\n",
      "FC Efficiency : 0.40711596633503955 \n",
      "FC Power : 6.668559528567949 W\n",
      "FC Voltage : 3.1755045374133086 V\n",
      "PH2 : 2.168737661844677 atm\n",
      "PH2O : 2.669341839036332 atm\n",
      "PO2 : 2.096810726639294 atm\n",
      "Power-Thermal : 6.246440471432053 W\n",
      "###########\n",
      "I : 2.2\n",
      "E : 3.0120093089114555 V\n",
      "FC Efficiency : 0.4067921969851981 \n",
      "FC Power : 6.980554100266 W\n",
      "FC Voltage : 3.172979136484545 V\n",
      "PH2 : 2.168723611463063 atm\n",
      "PH2O : 2.669324545441004 atm\n",
      "PO2 : 2.096802793801096 atm\n",
      "Power-Thermal : 6.5494458997340015 W\n",
      "###########\n",
      "I : 2.3\n",
      "E : 3.012009169129042 V\n",
      "FC Efficiency : 0.4064810943595029 \n",
      "FC Power : 7.292270832809483 W\n",
      "FC Voltage : 3.170552536004123 V\n",
      "PH2 : 2.168709561081448 atm\n",
      "PH2O : 2.6693072518456753 atm\n",
      "PO2 : 2.0967948609628975 atm\n",
      "Power-Thermal : 6.8527291671905175 W\n",
      "###########\n",
      "I : 2.4\n",
      "E : 3.0120090293460997 V\n",
      "FC Efficiency : 0.40618157992825576 \n",
      "FC Power : 7.603719176256948 W\n",
      "FC Voltage : 3.168216323440395 V\n",
      "PH2 : 2.168695510699834 atm\n",
      "PH2O : 2.6692899582503467 atm\n",
      "PO2 : 2.096786928124699 atm\n",
      "Power-Thermal : 7.156280823743052 W\n",
      "###########\n",
      "I : 2.5\n",
      "E : 3.0120088895626287 V\n",
      "FC Efficiency : 0.40589270730496035 \n",
      "FC Power : 7.914907792446728 W\n",
      "FC Voltage : 3.1659631169786913 V\n",
      "PH2 : 2.1686814603182194 atm\n",
      "PH2O : 2.669272664655018 atm\n",
      "PO2 : 2.096778995286501 atm\n",
      "Power-Thermal : 7.460092207553273 W\n",
      "###########\n",
      "I : 2.6\n",
      "E : 3.0120087497786283 V\n",
      "FC Efficiency : 0.40561364150350754 \n",
      "FC Power : 8.225844649691133 W\n",
      "FC Voltage : 3.163786403727359 V\n",
      "PH2 : 2.168667409936605 atm\n",
      "PH2O : 2.6692553710596894 atm\n",
      "PO2 : 2.0967710624483025 atm\n",
      "Power-Thermal : 7.764155350308868 W\n",
      "###########\n",
      "I : 2.7\n",
      "E : 3.0120086099941004 V\n",
      "FC Efficiency : 0.405343642112191 \n",
      "FC Power : 8.536537102882745 W\n",
      "FC Voltage : 3.1616804084750902 V\n",
      "PH2 : 2.1686533595549906 atm\n",
      "PH2O : 2.6692380774643607 atm\n",
      "PO2 : 2.096763129610104 atm\n",
      "Power-Thermal : 8.068462897117257 W\n",
      "###########\n",
      "I : 2.8\n",
      "E : 3.0120084702090426 V\n",
      "FC Efficiency : 0.4050820495292294 \n",
      "FC Power : 8.84699196171837 W\n",
      "FC Voltage : 3.1596399863279894 V\n",
      "PH2 : 2.168639309173376 atm\n",
      "PH2O : 2.6692207838690325 atm\n",
      "PO2 : 2.096755196771906 atm\n",
      "Power-Thermal : 8.37300803828163 W\n",
      "###########\n",
      "I : 2.9\n",
      "E : 3.0120083304234564 V\n",
      "FC Efficiency : 0.404828273614746 \n",
      "FC Power : 9.157215549165555 W\n",
      "FC Voltage : 3.1576605341950192 V\n",
      "PH2 : 2.168625258791762 atm\n",
      "PH2O : 2.669203490273704 atm\n",
      "PO2 : 2.0967472639337075 atm\n",
      "Power-Thermal : 8.677784450834444 W\n",
      "###########\n",
      "I : 3.0\n",
      "E : 3.012008190637341 V\n",
      "FC Efficiency : 0.40458178426735336 \n",
      "FC Power : 9.467213751856068 W\n",
      "FC Voltage : 3.1557379172853564 V\n",
      "PH2 : 2.1686112084101477 atm\n",
      "PH2O : 2.6691861966783756 atm\n",
      "PO2 : 2.0967393310955096 atm\n",
      "Power-Thermal : 8.982786248143931 W\n",
      "###########\n",
      "I : 3.1\n",
      "E : 3.0120080508506963 V\n",
      "FC Efficiency : 0.4043421035464688 \n",
      "FC Power : 9.776992063753617 W\n",
      "FC Voltage : 3.1538684076624572 V\n",
      "PH2 : 2.168597158028533 atm\n",
      "PH2O : 2.669168903083047 atm\n",
      "PO2 : 2.0967313982573113 atm\n",
      "Power-Thermal : 9.288007936246384 W\n",
      "###########\n",
      "I : 3.2\n",
      "E : 3.0120079110635234 V\n",
      "FC Efficiency : 0.40410879904574315 \n",
      "FC Power : 10.08655562418175 W\n",
      "FC Voltage : 3.152048632556797 V\n",
      "PH2 : 2.168583107646919 atm\n",
      "PH2O : 2.6691516094877183 atm\n",
      "PO2 : 2.096723465419113 atm\n",
      "Power-Thermal : 9.593444375818251 W\n",
      "###########\n",
      "I : 3.3\n",
      "E : 3.0120077712758215 V\n",
      "FC Efficiency : 0.40388147828648513 \n",
      "FC Power : 10.395909251094128 W\n",
      "FC Voltage : 3.1502755306345844 V\n",
      "PH2 : 2.1685690572653042 atm\n",
      "PH2O : 2.6691343158923897 atm\n",
      "PO2 : 2.0967155325809146 atm\n",
      "Power-Thermal : 9.899090748905872 W\n",
      "###########\n",
      "I : 3.4\n",
      "E : 3.0120076314875908 V\n",
      "FC Efficiency : 0.403659783948294 \n",
      "FC Power : 10.705057470308757 W\n",
      "FC Voltage : 3.1485463147966937 V\n",
      "PH2 : 2.16855500688369 atm\n",
      "PH2O : 2.669117022297061 atm\n",
      "PO2 : 2.0967075997427163 atm\n",
      "Power-Thermal : 10.204942529691243 W\n",
      "###########\n",
      "I : 3.5\n",
      "E : 3.012007491698831 V\n",
      "FC Efficiency : 0.4034433897912177 \n",
      "FC Power : 11.014004541300244 W\n",
      "FC Voltage : 3.1468584403714983 V\n",
      "PH2 : 2.1685409565020755 atm\n",
      "PH2O : 2.6690997287017324 atm\n",
      "PO2 : 2.096699666904518 atm\n",
      "Power-Thermal : 10.510995458699757 W\n",
      "###########\n",
      "I : 3.6\n",
      "E : 3.0120073519095425 V\n",
      "FC Efficiency : 0.4032319971525013 \n",
      "FC Power : 11.322754480042237 W\n",
      "FC Voltage : 3.1452095777895104 V\n",
      "PH2 : 2.168526906120461 atm\n",
      "PH2O : 2.669082435106404 atm\n",
      "PO2 : 2.0966917340663196 atm\n",
      "Power-Thermal : 10.817245519957764 W\n",
      "###########\n",
      "I : 3.7\n",
      "E : 3.012007212119725 V\n",
      "FC Efficiency : 0.40302533192342654 \n",
      "FC Power : 11.631311079310091 W\n",
      "FC Voltage : 3.1435975890027272 V\n",
      "PH2 : 2.1685128557388467 atm\n",
      "PH2O : 2.6690651415110755 atm\n",
      "PO2 : 2.0966838012281213 atm\n",
      "Power-Thermal : 11.123688920689911 W\n",
      "###########\n",
      "I : 3.8\n",
      "E : 3.0120070723293786 V\n",
      "FC Efficiency : 0.402823141929393 \n",
      "FC Power : 11.939677926787208 W\n",
      "FC Voltage : 3.1420205070492657 V\n",
      "PH2 : 2.168498805357232 atm\n",
      "PH2O : 2.669047847915747 atm\n",
      "PO2 : 2.096675868389923 atm\n",
      "Power-Thermal : 11.43032207321279 W\n",
      "###########\n",
      "I : 3.9\n",
      "E : 3.0120069325385037 V\n",
      "FC Efficiency : 0.4026251946503726 \n",
      "FC Power : 12.247858421264336 W\n",
      "FC Voltage : 3.140476518272907 V\n",
      "PH2 : 2.168484754975618 atm\n",
      "PH2O : 2.6690305543204187 atm\n",
      "PO2 : 2.0966679355517246 atm\n",
      "Power-Thermal : 11.737141578735665 W\n",
      "###########\n",
      "Done!\n"
     ]
    }
   ],
   "source": [
    "Data=Dynamic_Analysis(InputMethod=Test_Vector,TestMode=True,PrintMode=True,ReportMode=True)"
   ]
  },
  {
   "cell_type": "markdown",
   "metadata": {},
   "source": [
    "* Notice : \"PrintMode\" & \"ReportMode\" , new in version 0.5"
   ]
  },
  {
   "cell_type": "code",
   "execution_count": 15,
   "metadata": {},
   "outputs": [
    {
     "data": {
      "text/plain": [
       "{'Message': '[Error] Padulles-II Simulation Failed!(Check Your Inputs)',\n",
       " 'Status': False}"
      ]
     },
     "execution_count": 15,
     "metadata": {},
     "output_type": "execute_result"
    }
   ],
   "source": [
    "Dynamic_Analysis(InputMethod={},TestMode=True,PrintMode=False,ReportMode=True)"
   ]
  },
  {
   "cell_type": "markdown",
   "metadata": {},
   "source": [
    "## Parameters"
   ]
  },
  {
   "cell_type": "markdown",
   "metadata": {},
   "source": [
    "Inputs, Constants & Middle Values\n",
    "1. User : User Input\n",
    "2. System : Simulator Calculation (Middle Value)"
   ]
  },
  {
   "cell_type": "markdown",
   "metadata": {},
   "source": [
    "<table style=\"text-align:center;\">\n",
    "    <tr>\n",
    "        <td>$$Parameter$$</td>\n",
    "        <td>$$Description$$</td>\n",
    "        <td>$$Unit$$</td>\n",
    "        <td>$$Value$$</td>\n",
    "    </tr> \n",
    "    <tr>\n",
    "        <td>$$E_0$$</td>\n",
    "        <td style=\"text-align:center;\">No load voltage</td>\n",
    "        <td>$$V$$</td>\n",
    "        <td>$$User$$</td>\n",
    "    </tr>\n",
    "    <tr>\n",
    "        <td>$$K_{H_2}$$</td>\n",
    "        <td style=\"text-align:center;\">Hydrogen valve constant</td>\n",
    "        <td>$$kmol.s^{-1}.atm^{-1}$$</td>\n",
    "        <td>$$User$$</td>\n",
    "    </tr>\n",
    "    <tr>\n",
    "        <td>$$K_{H_2O}$$</td>\n",
    "        <td style=\"text-align:center;\">Water valve constant</td>\n",
    "        <td>$$kmol.s^{-1}.atm^{-1}$$</td>\n",
    "        <td>$$User$$</td>\n",
    "    </tr>\n",
    "    <tr>\n",
    "        <td>$$K_{O_2}$$</td>\n",
    "        <td style=\"text-align:center;\">Oxygen valve constant</td>\n",
    "        <td>$$kmol.s^{-1}.atm^{-1}$$</td>\n",
    "        <td>$$User$$</td>\n",
    "    </tr>\n",
    "    <tr>\n",
    "        <td>$$\\tau_{H_2}^{(s)}$$</td>\n",
    "        <td style=\"text-align:center;\">Hydrogen time constant</td>\n",
    "        <td>$$s$$</td>\n",
    "        <td>$$User$$</td>\n",
    "    </tr>\n",
    "     <tr>\n",
    "        <td>$$\\tau_{H_2O}^{(s)}$$</td>\n",
    "        <td style=\"text-align:center;\">Water time constant</td>\n",
    "        <td>$$s$$</td>\n",
    "        <td>$$User$$</td>\n",
    "    </tr>\n",
    "    <tr>\n",
    "        <td>$$\\tau_{O_2}^{(s)}$$</td>\n",
    "        <td style=\"text-align:center;\">Oxygen time constant</td>\n",
    "        <td>$$s$$</td>\n",
    "        <td>$$User$$</td>\n",
    "    </tr>\n",
    "    <tr>\n",
    "        <td>$$B$$</td>\n",
    "        <td style=\"text-align:center;\">Activation voltage constant</td>\n",
    "        <td>$$V$$</td>\n",
    "        <td>$$User$$</td>\n",
    "    </tr>\n",
    "    <tr>\n",
    "        <td>$$C$$</td>\n",
    "        <td style=\"text-align:center;\">Activation constant parameter</td>\n",
    "        <td>$$A^{-1}$$</td>\n",
    "        <td>$$User$$</td>\n",
    "    </tr>\n",
    "    <tr>\n",
    "        <td>$$R^{int}$$</td>\n",
    "        <td style=\"text-align:center;\">FuelCell internal resistance</td>\n",
    "        <td>$$\\Omega$$</td>\n",
    "        <td>$$User$$</td>\n",
    "    </tr>\n",
    "      <tr>\n",
    "        <td>$$r_{h-o}$$</td>\n",
    "        <td style=\"text-align:center;\">Hydrogen-oxygen flow ratio</td>\n",
    "        <td>$$--$$</td>\n",
    "        <td>$$User$$</td>\n",
    "    </tr>\n",
    "       <tr>\n",
    "        <td>$$q_{H_2}^{(inlet)}$$</td>\n",
    "        <td style=\"text-align:center;\">Molar flow of hydrogen</td>\n",
    "        <td>$$kmol.s^{-1}$$</td>\n",
    "        <td>$$User$$</td>\n",
    "     <tr>\n",
    "        <td>$$i_{start}$$</td>\n",
    "        <td style=\"text-align:center;\">Cell operating current start point</td>\n",
    "        <td>$$A$$</td>\n",
    "        <td>$$User$$</td>\n",
    "    </tr>\n",
    "    <tr>\n",
    "        <td>$$i_{step}$$</td>\n",
    "        <td style=\"text-align:center;\">Cell operating current step</td>\n",
    "        <td>$$A$$</td>\n",
    "        <td>$$User$$</td>\n",
    "    </tr>\n",
    "    <tr>\n",
    "        <td>$$i_{stop}$$</td>\n",
    "        <td style=\"text-align:center;\">Cell operating current end point</td>\n",
    "        <td>$$A$$</td>\n",
    "        <td>$$User$$</td>\n",
    "    </tr>\n",
    "     <tr>\n",
    "        <td>$$P_{H_2}$$</td>\n",
    "        <td style=\"text-align:center;\">Hydrogen partial pressure</td>\n",
    "        <td>$$atm$$</td>\n",
    "        <td>$$System$$</td>\n",
    "    </tr>\n",
    "     <tr>\n",
    "        <td>$$P_{H_2O}$$</td>\n",
    "        <td style=\"text-align:center;\">Water partial pressure</td>\n",
    "        <td>$$atm$$</td>\n",
    "        <td>$$System$$</td>\n",
    "    </tr>\n",
    "     <tr>\n",
    "        <td>$$P_{O_2}$$</td>\n",
    "        <td style=\"text-align:center;\">Oxygen partial pressure</td>\n",
    "        <td>$$atm$$</td>\n",
    "        <td>$$System$$</td>\n",
    "    </tr>\n",
    "     <tr>\n",
    "        <td>$$K_r$$</td>\n",
    "        <td style=\"text-align:center;\">Modeling constant</td>\n",
    "        <td>$$kmol.s^{-1}.A^{-1}$$</td>\n",
    "        <td>$$System$$</td>\n",
    "    </tr>\n",
    "      <tr>\n",
    "        <td>$$q_{O_2}^{(inlet)}$$</td>\n",
    "        <td style=\"text-align:center;\">Molar flow of oxygen</td>\n",
    "        <td>$$kmol.s^{-1}$$</td>\n",
    "        <td>$$System$$</td>\n",
    "    </tr>\n",
    "               <tr>\n",
    "        <td>$$\\mu_F$$</td>\n",
    "        <td style=\"text-align:center;\">The fuel utilization</td>\n",
    "        <td>$$--$$</td>\n",
    "        <td>$$0.95$$</td>\n",
    "    </tr>\n",
    "          <tr>\n",
    "    <td>$$HHV$$</td>\n",
    "        <td style=\"text-align:center;\">Higher Heating Value Potential</td>\n",
    "        <td>$$V$$</td>\n",
    "        <td>$$1.482$$</td>\n",
    "    </tr>\n",
    "             <tr>\n",
    "    <td>$$R$$</td>\n",
    "        <td style=\"text-align:center;\">Universal gas constant</td>\n",
    "        <td>$$J.kmol^{-1}.K^{-1}$$</td>\n",
    "        <td>$$8314.47$$</td>\n",
    "    </tr>\n",
    "             <tr>\n",
    "    <td>$$F$$</td>\n",
    "        <td style=\"text-align:center;\">Faraday’s constant</td>\n",
    "        <td>$$C.kmol^{-1}$$</td>\n",
    "        <td>$$96484600$$</td>\n",
    "    </tr>\n",
    "    <tr>\n",
    "    <td>$$E_{th}$$</td>\n",
    "        <td style=\"text-align:center;\">Theoretical Potential</td>\n",
    "        <td>$$V$$</td>\n",
    "        <td>$$1.23$$</td>\n",
    "    </tr>\n",
    "    \n",
    "    \n",
    "    \n",
    "</table>"
   ]
  },
  {
   "cell_type": "markdown",
   "metadata": {},
   "source": [
    "* Notice : $$q_{H_2}=q_{H_2O}$$"
   ]
  },
  {
   "cell_type": "markdown",
   "metadata": {},
   "source": [
    "## Reference\n",
    "<blockquote>\n",
    "J. Padulles, G.W. Ault, J.R. McDonald. 2000. \"An integrated SOFC plant dynamic model for power systems\n",
    "simulation.\" Journal of Power Sources (Elsevier) 86 (1-2): 495-500. doi:10.1016/S0378-7753(99)00430-9\n",
    "</blockquote>"
   ]
  }
 ],
 "metadata": {
  "kernelspec": {
   "display_name": "Python 3",
   "language": "python",
   "name": "python3"
  },
  "language_info": {
   "codemirror_mode": {
    "name": "ipython",
    "version": 3
   },
   "file_extension": ".py",
   "mimetype": "text/x-python",
   "name": "python",
   "nbconvert_exporter": "python",
   "pygments_lexer": "ipython3",
   "version": "3.5.2"
  }
 },
 "nbformat": 4,
 "nbformat_minor": 2
}
