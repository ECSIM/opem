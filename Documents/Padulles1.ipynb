{
 "cells": [
  {
   "cell_type": "markdown",
   "metadata": {},
   "source": [
    "#  Padulles Dynamic Model I"
   ]
  },
  {
   "cell_type": "markdown",
   "metadata": {},
   "source": [
    "### Version 0.8"
   ]
  },
  {
   "cell_type": "markdown",
   "metadata": {},
   "source": [
    "<p style=\"text-align:justify;\">\n",
    "The Padulles dynamic model can predict the transient response of cell voltage, temperature of the cell, hydrogen/oxygen out flow rates and cathode and anode channel temperatures/pressures under sudden change in load current. Hence, a dynamic fuel cell simulation is developed in this model, which incorporates the dynamics of flow and pressure in the anode and cathode channels and mass/ heat transfer transient features in the fuel cell body.\n",
    "<br/>This model is based on several assumptions :    \n",
    "\n",
    "\n",
    "<ol>    \n",
    "<li>The stack is fed with hydrogen and air</li>   \n",
    "<li>Cell temperature is stable at all times</li>   \n",
    "<li>The ratio of pressures between the interior and exterior of the electrode channels is large</li>   \n",
    "<li>The channels that transport gases along the electrodes have a fixed volume </li>    \n",
    "<li>Only source of voltage loss is ohmic polarization</li>     \n",
    "<li>Nernst equation can be applied too</li> \n",
    "</ol>\n",
    "\n",
    "</p>"
   ]
  },
  {
   "cell_type": "markdown",
   "metadata": {},
   "source": [
    "<p style=\"text-align:justify;\">\n",
    "In this model, Nernst and fuel cell potential were modeled as a function of oxygen and hydrogen gases partial pressure that can be calculated from independent variables or constants. The partial pressure of gases is proportional to the molar flow of each gas.\n",
    "</p>"
   ]
  },
  {
   "cell_type": "markdown",
   "metadata": {},
   "source": [
    "<div style=\"text-align:center;\">\n",
    "    \n",
    "<img src=\"images/Padulles-Diagram.jpg\">  \n",
    "<p style=\"text-align:center;\">Fig1. Padulles-1 Dynamic Model Block Diagram </p>\n",
    "    \n",
    "</div>"
   ]
  },
  {
   "cell_type": "markdown",
   "metadata": {},
   "source": [
    "## Nernst Voltage"
   ]
  },
  {
   "cell_type": "markdown",
   "metadata": {},
   "source": [
    "$$E_{Nernst}=N_0\\times [E_0+\\frac{RT}{2F}ln(P_{H_2}\\times \\sqrt{P_{O_2}})]$$"
   ]
  },
  {
   "cell_type": "markdown",
   "metadata": {},
   "source": [
    "$$P_{H_2}=\\frac{\\frac{1}{K_{H_2}}}{1+\\tau_{H_2}^{(s)}}[(q_{H_2}^{(inlet)}-(2\\times K_r \\times i)]$$"
   ]
  },
  {
   "cell_type": "markdown",
   "metadata": {},
   "source": [
    "$$P_{O_2}=\\frac{\\frac{1}{K_{O_2}}}{1+\\tau_{O_2}^{(s)}}[(q_{O_2}^{(inlet)}-(K_r \\times i)]$$"
   ]
  },
  {
   "cell_type": "markdown",
   "metadata": {},
   "source": [
    "$$K_r=\\frac{N_0}{4F}$$"
   ]
  },
  {
   "cell_type": "markdown",
   "metadata": {},
   "source": [
    "$$q_{O_2}^{(inlet)}=\\frac{q_{H_2}^{(inlet)}}{r_{h-o}}$$"
   ]
  },
  {
   "cell_type": "code",
   "execution_count": 1,
   "metadata": {},
   "outputs": [],
   "source": [
    "from opem.Dynamic.Padulles1 import Kr_Calc,qO2_Calc,PH2_Calc,PO2_Calc,Enernst_Calc"
   ]
  },
  {
   "cell_type": "code",
   "execution_count": 2,
   "metadata": {},
   "outputs": [
    {
     "data": {
      "text/plain": [
       "2.2801566260315118e-07"
      ]
     },
     "execution_count": 2,
     "metadata": {},
     "output_type": "execute_result"
    }
   ],
   "source": [
    "Kr=Kr_Calc(N0=88)\n",
    "Kr"
   ]
  },
  {
   "cell_type": "code",
   "execution_count": 3,
   "metadata": {},
   "outputs": [
    {
     "data": {
      "text/plain": [
       "0.0003424657534246576"
      ]
     },
     "execution_count": 3,
     "metadata": {},
     "output_type": "execute_result"
    }
   ],
   "source": [
    "qO2=qO2_Calc(qH2=0.0004,rho=1.168)\n",
    "qO2"
   ]
  },
  {
   "cell_type": "code",
   "execution_count": 4,
   "metadata": {},
   "outputs": [
    {
     "data": {
      "text/plain": [
       "2.166559852694447"
      ]
     },
     "execution_count": 4,
     "metadata": {},
     "output_type": "execute_result"
    }
   ],
   "source": [
    "PH2=PH2_Calc(KH2=0.0000422,tH2=3.37,Kr=Kr,I=1,qH2=0.0004)\n",
    "PH2"
   ]
  },
  {
   "cell_type": "code",
   "execution_count": 5,
   "metadata": {},
   "outputs": [
    {
     "data": {
      "text/plain": [
       "2.0955811367185566"
      ]
     },
     "execution_count": 5,
     "metadata": {},
     "output_type": "execute_result"
    }
   ],
   "source": [
    "PO2=PO2_Calc(KO2=0.0000211,tO2=6.74,Kr=Kr,I=1,qO2=qO2)\n",
    "PO2"
   ]
  },
  {
   "cell_type": "code",
   "execution_count": 6,
   "metadata": {},
   "outputs": [
    {
     "data": {
      "text/plain": [
       "54.28658891467849"
      ]
     },
     "execution_count": 6,
     "metadata": {},
     "output_type": "execute_result"
    }
   ],
   "source": [
    "Enernst=Enernst_Calc(E0=0.6,N0=88,T=343, PH2=PH2, PO2=PO2)\n",
    "Enernst"
   ]
  },
  {
   "cell_type": "markdown",
   "metadata": {},
   "source": [
    "### FC Voltage"
   ]
  },
  {
   "cell_type": "markdown",
   "metadata": {},
   "source": [
    "$$V_{Fuelcell}=E_{Nernst}-Bln(Ci)-(R^{int}\\times i)$$"
   ]
  },
  {
   "cell_type": "code",
   "execution_count": 7,
   "metadata": {},
   "outputs": [
    {
     "data": {
      "text/plain": [
       "54.48885935035618"
      ]
     },
     "execution_count": 7,
     "metadata": {},
     "output_type": "execute_result"
    }
   ],
   "source": [
    "from opem.Dynamic.Padulles1 import Vcell_Calc\n",
    "FC_Voltage=Vcell_Calc(Enernst=Enernst, B=0.04777,C=0.0136,I=1,Rint=0.00303)\n",
    "FC_Voltage"
   ]
  },
  {
   "cell_type": "markdown",
   "metadata": {},
   "source": [
    "## Power Of PEMFC"
   ]
  },
  {
   "cell_type": "markdown",
   "metadata": {},
   "source": [
    "$$P=V_{cell}\\times i$$"
   ]
  },
  {
   "cell_type": "markdown",
   "metadata": {},
   "source": [
    "$$P_{Thermal}=i\\times(N \\times E_{th}-V_{Stack})$$"
   ]
  },
  {
   "cell_type": "markdown",
   "metadata": {},
   "source": [
    "$$E_{th}=\\frac{-\\Delta H}{nF}=1.23V$$"
   ]
  },
  {
   "cell_type": "code",
   "execution_count": 8,
   "metadata": {},
   "outputs": [
    {
     "data": {
      "text/plain": [
       "108.97771870071236"
      ]
     },
     "execution_count": 8,
     "metadata": {},
     "output_type": "execute_result"
    }
   ],
   "source": [
    "from opem.Dynamic.Padulles1 import Power_Calc,Power_Thermal_Calc\n",
    "Power=Power_Calc(Vcell=FC_Voltage,i=2)\n",
    "Power"
   ]
  },
  {
   "cell_type": "code",
   "execution_count": 9,
   "metadata": {},
   "outputs": [
    {
     "data": {
      "text/plain": [
       "107.50228129928763"
      ]
     },
     "execution_count": 9,
     "metadata": {},
     "output_type": "execute_result"
    }
   ],
   "source": [
    "Power_Thermal_Calc(VStack=FC_Voltage,N=88,i=2)"
   ]
  },
  {
   "cell_type": "markdown",
   "metadata": {},
   "source": [
    "## Efficiency of PEMFC"
   ]
  },
  {
   "cell_type": "markdown",
   "metadata": {},
   "source": [
    "$$\\eta=\\frac{\\mu_F\\times V_{Fuelcell}}{N_0\\times HHV}$$"
   ]
  },
  {
   "cell_type": "code",
   "execution_count": 10,
   "metadata": {},
   "outputs": [
    {
     "data": {
      "text/plain": [
       "0.39691768174793257"
      ]
     },
     "execution_count": 10,
     "metadata": {},
     "output_type": "execute_result"
    }
   ],
   "source": [
    "from opem.Dynamic.Padulles1 import Efficiency_Calc\n",
    "Efficiency_Calc(Vcell=FC_Voltage,N=88)"
   ]
  },
  {
   "cell_type": "markdown",
   "metadata": {},
   "source": [
    "## Linear Approximation"
   ]
  },
  {
   "cell_type": "markdown",
   "metadata": {},
   "source": [
    "Sometimes quick calculations regarding fuel cell efficiency–power-size relationships need to be made. Linear approximation is a good method to find a rough estimate of the value of polarization function at a particular point. A linear polarization curve has the following form:\n",
    "$$V_{cell}=V_0-kI$$\n",
    "where V0 is the intercept (actual open circuit voltage is always higher) and k is the slope of the curve.\n",
    "\n",
    "* Notice : <a href=\"https://en.wikipedia.org/wiki/Simple_linear_regression\">Simple linear regression</a> used for this approximation"
   ]
  },
  {
   "cell_type": "markdown",
   "metadata": {},
   "source": [
    "<table style=\"text-align:center;\">\n",
    "    <tr>\n",
    "        <td>$$Parameter$$</td>\n",
    "        <td>$$Description$$</td>\n",
    "        <td>$$Unit$$</td>\n",
    "    </tr> \n",
    "    <tr>\n",
    "        <td>$$V_0$$</td>\n",
    "        <td style=\"text-align:center;\">Intercept of the curve obtained by linear approximation</td>\n",
    "        <td>$$V$$</td>\n",
    "    </tr>\n",
    "    <tr>\n",
    "        <td>$$k$$</td>\n",
    "        <td style=\"text-align:center;\">Slope of the curve obtained by linear approximation</td>\n",
    "        <td>$$A^{-1}$$</td>\n",
    "    </tr>\n",
    "    <tr>\n",
    "        <td>$$P_{max}$$</td>\n",
    "        <td style=\"text-align:center;\">Maximum power obtained by linear approximation</td>\n",
    "        <td>$$W$$</td>\n",
    "    </tr>\n",
    "    <tr>\n",
    "        <td>$$V_{FC}|P_{max}$$</td>\n",
    "        <td style=\"text-align:center;\">Cell voltage at maximum power obtained by linear approximation</td>\n",
    "        <td>$$V$$</td>\n",
    "    </tr>\n",
    "   \n",
    "     \n",
    "    \n",
    "    \n",
    "    \n",
    "</table>"
   ]
  },
  {
   "cell_type": "markdown",
   "metadata": {},
   "source": [
    "* Notice : These parameters are only available in HTML report"
   ]
  },
  {
   "cell_type": "markdown",
   "metadata": {},
   "source": [
    "## Overall Parameters"
   ]
  },
  {
   "cell_type": "markdown",
   "metadata": {},
   "source": [
    "<table style=\"text-align:center;\">\n",
    "    <tr>\n",
    "        <td>$$Parameter$$</td>\n",
    "        <td>$$Description$$</td>\n",
    "        <td>$$Unit$$</td>\n",
    "    </tr> \n",
    "    <tr>\n",
    "        <td>$$\\eta|P_{Max}$$</td>\n",
    "        <td style=\"text-align:center;\">Cell efficiency at maximum power</td>\n",
    "        <td>$$--$$</td>\n",
    "    </tr>\n",
    "    <tr>\n",
    "        <td>$$P_{Max}$$</td>\n",
    "        <td style=\"text-align:center;\">Maximum power </td>\n",
    "        <td>$$W$$</td>\n",
    "    </tr>\n",
    "    <tr>\n",
    "        <td>$$P_{Elec} $$</td>\n",
    "        <td style=\"text-align:center;\">Total electrical power </td>\n",
    "        <td>$$W$$</td>\n",
    "    </tr>\n",
    "    <tr>\n",
    "        <td>$$P_{Thermal} $$</td>\n",
    "        <td style=\"text-align:center;\">Total thermal power   </td>\n",
    "        <td>$$W$$</td>\n",
    "    </tr>\n",
    "    <tr>\n",
    "        <td>$$V_{FC}|P_{Max}$$</td>\n",
    "        <td style=\"text-align:center;\">Cell voltage at maximum power </td>\n",
    "        <td>$$V$$</td>\n",
    "    </tr>\n",
    "   \n",
    "     \n",
    "    \n",
    "    \n",
    "    \n",
    "</table>"
   ]
  },
  {
   "cell_type": "markdown",
   "metadata": {},
   "source": [
    "* Notice : P(Thermal) & P(Elec) calculated by <a href=\"https://en.wikipedia.org/wiki/Simpson%27s_rule\">Simpson's Rule</a>\n",
    "\n",
    "* Notice : These parameters are only available in HTML report"
   ]
  },
  {
   "cell_type": "markdown",
   "metadata": {},
   "source": [
    "## Full Run"
   ]
  },
  {
   "cell_type": "markdown",
   "metadata": {},
   "source": [
    "* Run from `i`=0 to `i`=4 with `step`=0.1"
   ]
  },
  {
   "cell_type": "code",
   "execution_count": 11,
   "metadata": {
    "scrolled": true
   },
   "outputs": [],
   "source": [
    "Test_Vector={\"T\":343,\"E0\":0.6,\"N0\":88,\"KO2\":0.0000211,\"KH2\":0.0000422,\"tH2\":3.37,\"tO2\":6.74,\"B\":0.04777,\"C\":0.0136,\"Rint\":0.00303,\"rho\":1.168,\"qH2\":0.0004,\"i-start\":0,\"i-stop\":4,\"i-step\":0.1,\"Name\":\"Test\"}"
   ]
  },
  {
   "cell_type": "markdown",
   "metadata": {},
   "source": [
    "* Notice : \"Name\", new in version 0.5"
   ]
  },
  {
   "cell_type": "code",
   "execution_count": 12,
   "metadata": {},
   "outputs": [
    {
     "name": "stdout",
     "output_type": "stream",
     "text": [
      "[Error] Vcell Calculation Error (Enernst:54.28850557413407, B:0.04777, C:0.0136, I:0, Rint:0.00303)\n",
      "[Error] PEM Efficiency Calculation Failed (Vcell:None, N:88)\n",
      "[Error] Power Calculation Error (Vcell:None, i:0)\n"
     ]
    },
    {
     "data": {
      "text/plain": [
       "{'EFF': [None,\n",
       "  0.3977513543332525,\n",
       "  0.39750655365258875,\n",
       "  0.39736185898012566,\n",
       "  0.3972581497084044,\n",
       "  0.3971768980805572,\n",
       "  0.3971098513395853,\n",
       "  0.3970526072135646,\n",
       "  0.39700253793845613,\n",
       "  0.39695794855256433,\n",
       "  0.39691768174793257,\n",
       "  0.39688091206389015,\n",
       "  0.3968470300107991,\n",
       "  0.3968155727355017,\n",
       "  0.3967861804549145,\n",
       "  0.3967585679566162,\n",
       "  0.39673250531602267,\n",
       "  0.3967078044696878,\n",
       "  0.3966843096322109,\n",
       "  0.3966618903075967,\n",
       "  0.39664043609530514,\n",
       "  0.3966198527648516,\n",
       "  0.3966000592444172,\n",
       "  0.39658098527940633,\n",
       "  0.3965625695896912,\n",
       "  0.3965447584032809,\n",
       "  0.3965275042777518,\n",
       "  0.39651076514422556,\n",
       "  0.3964945035252972,\n",
       "  0.39647868589026086,\n",
       "  0.39646328211968823,\n",
       "  0.3964482650578333,\n",
       "  0.39643361013612227,\n",
       "  0.39641929505459833,\n",
       "  0.3964052995109346,\n",
       "  0.3963916049687393,\n",
       "  0.39637819445850625,\n",
       "  0.39636505240584513,\n",
       "  0.3963521644826228,\n",
       "  0.39633951747744234],\n",
       " 'I': [0,\n",
       "  0.1,\n",
       "  0.2,\n",
       "  0.3,\n",
       "  0.4,\n",
       "  0.5,\n",
       "  0.6,\n",
       "  0.7,\n",
       "  0.8,\n",
       "  0.9,\n",
       "  1.0,\n",
       "  1.1,\n",
       "  1.2,\n",
       "  1.3,\n",
       "  1.4,\n",
       "  1.5,\n",
       "  1.6,\n",
       "  1.7,\n",
       "  1.8,\n",
       "  1.9,\n",
       "  2.0,\n",
       "  2.1,\n",
       "  2.2,\n",
       "  2.3,\n",
       "  2.4,\n",
       "  2.5,\n",
       "  2.6,\n",
       "  2.7,\n",
       "  2.8,\n",
       "  2.9,\n",
       "  3.0,\n",
       "  3.1,\n",
       "  3.2,\n",
       "  3.3,\n",
       "  3.4,\n",
       "  3.5,\n",
       "  3.6,\n",
       "  3.7,\n",
       "  3.8,\n",
       "  3.9],\n",
       " 'K': -0.03833515487668971,\n",
       " 'P': [None,\n",
       "  5.4603305922868905,\n",
       "  10.913939937085477,\n",
       "  16.364950800237498,\n",
       "  21.814239516787904,\n",
       "  27.262222284249443,\n",
       "  32.709144235138965,\n",
       "  38.155167342794705,\n",
       "  43.60040672655301,\n",
       "  49.044948459566434,\n",
       "  54.48885935035618,\n",
       "  59.93219276894392,\n",
       "  65.37499233585899,\n",
       "  70.81729437266857,\n",
       "  76.25912959399092,\n",
       "  81.7005243136264,\n",
       "  87.14150132765376,\n",
       "  92.58208057591786,\n",
       "  98.02227964735785,\n",
       "  103.46211417271105,\n",
       "  108.90159813432699,\n",
       "  114.34074411387355,\n",
       "  119.77956349276191,\n",
       "  125.21806661606087,\n",
       "  130.65626292785475,\n",
       "  136.09416108400603,\n",
       "  141.5317690468494,\n",
       "  146.9690941652981,\n",
       "  152.40614324306785,\n",
       "  157.84292259714354,\n",
       "  163.2794381081724,\n",
       "  168.71569526413202,\n",
       "  174.15169919835796,\n",
       "  179.58745472281433,\n",
       "  185.02296635732776,\n",
       "  190.45823835537988,\n",
       "  195.89327472694944,\n",
       "  201.32807925881536,\n",
       "  206.76265553266293,\n",
       "  212.1970069412828],\n",
       " 'PH2': [2.169032719858579,\n",
       "  2.168785433142166,\n",
       "  2.1685381464257527,\n",
       "  2.168290859709339,\n",
       "  2.1680435729929264,\n",
       "  2.1677962862765128,\n",
       "  2.1675489995600996,\n",
       "  2.1673017128436864,\n",
       "  2.1670544261272733,\n",
       "  2.16680713941086,\n",
       "  2.166559852694447,\n",
       "  2.1663125659780333,\n",
       "  2.16606527926162,\n",
       "  2.165817992545207,\n",
       "  2.165570705828794,\n",
       "  2.1653234191123807,\n",
       "  2.1650761323959675,\n",
       "  2.164828845679554,\n",
       "  2.164581558963141,\n",
       "  2.1643342722467276,\n",
       "  2.1640869855303144,\n",
       "  2.1638396988139013,\n",
       "  2.1635924120974876,\n",
       "  2.163345125381075,\n",
       "  2.1630978386646613,\n",
       "  2.162850551948248,\n",
       "  2.162603265231835,\n",
       "  2.162355978515422,\n",
       "  2.1621086917990087,\n",
       "  2.1618614050825955,\n",
       "  2.161614118366182,\n",
       "  2.1613668316497687,\n",
       "  2.1611195449333556,\n",
       "  2.1608722582169424,\n",
       "  2.1606249715005292,\n",
       "  2.160377684784116,\n",
       "  2.1601303980677025,\n",
       "  2.1598831113512893,\n",
       "  2.159635824634876,\n",
       "  2.159388537918463],\n",
       " 'PO2': [2.0969773162414582,\n",
       "  2.096837698289168,\n",
       "  2.096698080336878,\n",
       "  2.096558462384588,\n",
       "  2.0964188444322978,\n",
       "  2.0962792264800076,\n",
       "  2.0961396085277175,\n",
       "  2.0959999905754274,\n",
       "  2.0958603726231373,\n",
       "  2.0957207546708467,\n",
       "  2.0955811367185566,\n",
       "  2.095441518766267,\n",
       "  2.0953019008139764,\n",
       "  2.0951622828616863,\n",
       "  2.095022664909396,\n",
       "  2.094883046957106,\n",
       "  2.094743429004816,\n",
       "  2.094603811052526,\n",
       "  2.0944641931002357,\n",
       "  2.094324575147945,\n",
       "  2.0941849571956554,\n",
       "  2.094045339243365,\n",
       "  2.0939057212910748,\n",
       "  2.0937661033387847,\n",
       "  2.0936264853864945,\n",
       "  2.0934868674342044,\n",
       "  2.0933472494819143,\n",
       "  2.093207631529624,\n",
       "  2.093068013577334,\n",
       "  2.092928395625044,\n",
       "  2.0927887776727534,\n",
       "  2.0926491597204633,\n",
       "  2.0925095417681736,\n",
       "  2.092369923815883,\n",
       "  2.092230305863593,\n",
       "  2.092090687911303,\n",
       "  2.0919510699590127,\n",
       "  2.0918114520067226,\n",
       "  2.0916718340544325,\n",
       "  2.0915322161021423],\n",
       " 'Ph': [None,\n",
       "  5.36366940771311,\n",
       "  10.734060062914523,\n",
       "  16.1070491997625,\n",
       "  21.4817604832121,\n",
       "  26.857777715750554,\n",
       "  32.23485576486103,\n",
       "  37.61283265720528,\n",
       "  42.991593273446995,\n",
       "  48.37105154043357,\n",
       "  53.751140649643816,\n",
       "  59.13180723105608,\n",
       "  64.51300766414099,\n",
       "  69.89470562733142,\n",
       "  75.27687040600905,\n",
       "  80.65947568637358,\n",
       "  86.04249867234626,\n",
       "  91.42591942408212,\n",
       "  96.80972035264215,\n",
       "  102.19388582728892,\n",
       "  107.578401865673,\n",
       "  112.96325588612645,\n",
       "  118.34843650723809,\n",
       "  123.7339333839391,\n",
       "  129.11973707214523,\n",
       "  134.50583891599396,\n",
       "  139.8922309531506,\n",
       "  145.27890583470193,\n",
       "  150.66585675693213,\n",
       "  156.05307740285645,\n",
       "  161.4405618918276,\n",
       "  166.828304735868,\n",
       "  172.21630080164203,\n",
       "  177.60454527718562,\n",
       "  182.9930336426722,\n",
       "  188.38176164462013,\n",
       "  193.77072527305054,\n",
       "  199.15992074118464,\n",
       "  204.54934446733702,\n",
       "  209.9389930587172],\n",
       " 'Status': True,\n",
       " 'V': [None,\n",
       "  54.6033059228689,\n",
       "  54.56969968542738,\n",
       "  54.54983600079166,\n",
       "  54.535598791969754,\n",
       "  54.524444568498886,\n",
       "  54.515240391898274,\n",
       "  54.507381918278156,\n",
       "  54.50050840819126,\n",
       "  54.49438717729603,\n",
       "  54.48885935035618,\n",
       "  54.483811608130836,\n",
       "  54.4791602798825,\n",
       "  54.47484182512967,\n",
       "  54.470806852850664,\n",
       "  54.46701620908427,\n",
       "  54.46343832978359,\n",
       "  54.46004739759874,\n",
       "  54.456822026309915,\n",
       "  54.45374430142687,\n",
       "  54.450799067163494,\n",
       "  54.44797338755883,\n",
       "  54.44525613307359,\n",
       "  54.4426376591569,\n",
       "  54.44010955327281,\n",
       "  54.43766443360241,\n",
       "  54.435295787249764,\n",
       "  54.432997838999285,\n",
       "  54.4307654439528,\n",
       "  54.428593999015014,\n",
       "  54.4264793693908,\n",
       "  54.42441782713936,\n",
       "  54.42240599948686,\n",
       "  54.420440825095255,\n",
       "  54.41851951686111,\n",
       "  54.41663953010853,\n",
       "  54.414798535263735,\n",
       "  54.41299439427442,\n",
       "  54.41122514017446,\n",
       "  54.40948895930328],\n",
       " 'V0': 54.539964013494824}"
      ]
     },
     "execution_count": 12,
     "metadata": {},
     "output_type": "execute_result"
    }
   ],
   "source": [
    "from opem.Dynamic.Padulles1 import Dynamic_Analysis\n",
    "Dynamic_Analysis(InputMethod=Test_Vector,TestMode=True,PrintMode=False,ReportMode=True)"
   ]
  },
  {
   "cell_type": "markdown",
   "metadata": {},
   "source": [
    "* Notice : \"Status\", \"V0\", \"K\" and \"EFF\" , new in version 0.8"
   ]
  },
  {
   "cell_type": "code",
   "execution_count": 13,
   "metadata": {},
   "outputs": [
    {
     "name": "stdout",
     "output_type": "stream",
     "text": [
      "###########\n",
      "Padulles-I-Model Simulation\n",
      "###########\n",
      "Analyzing . . .\n",
      "[Error] Vcell Calculation Error (Enernst:54.28850557413407, B:0.04777, C:0.0136, I:0, Rint:0.00303)\n",
      "[Error] PEM Efficiency Calculation Failed (Vcell:None, N:88)\n",
      "[Error] Power Calculation Error (Vcell:None, i:0)\n",
      "I : 0\n",
      "E : 54.28850557413407 V\n",
      "FC Efficiency : None \n",
      "FC Power : None W\n",
      "FC Voltage : None V\n",
      "PH2 : 2.169032719858579 atm\n",
      "PO2 : 2.0969773162414582 atm\n",
      "Power-Thermal : None W\n",
      "###########\n",
      "I : 0.1\n",
      "E : 54.288313997298886 V\n",
      "FC Efficiency : 0.3977513543332525 \n",
      "FC Power : 5.4603305922868905 W\n",
      "FC Voltage : 54.6033059228689 V\n",
      "PH2 : 2.168785433142166 atm\n",
      "PO2 : 2.096837698289168 atm\n",
      "Power-Thermal : 5.36366940771311 W\n",
      "###########\n",
      "I : 0.2\n",
      "E : 54.28812240067271 V\n",
      "FC Efficiency : 0.39750655365258875 \n",
      "FC Power : 10.913939937085477 W\n",
      "FC Voltage : 54.56969968542738 V\n",
      "PH2 : 2.1685381464257527 atm\n",
      "PO2 : 2.096698080336878 atm\n",
      "Power-Thermal : 10.734060062914523 W\n",
      "###########\n",
      "I : 0.3\n",
      "E : 54.287930784251316 V\n",
      "FC Efficiency : 0.39736185898012566 \n",
      "FC Power : 16.364950800237498 W\n",
      "FC Voltage : 54.54983600079166 V\n",
      "PH2 : 2.168290859709339 atm\n",
      "PO2 : 2.096558462384588 atm\n",
      "Power-Thermal : 16.1070491997625 W\n",
      "###########\n",
      "I : 0.4\n",
      "E : 54.28773914803044 V\n",
      "FC Efficiency : 0.3972581497084044 \n",
      "FC Power : 21.814239516787904 W\n",
      "FC Voltage : 54.535598791969754 V\n",
      "PH2 : 2.1680435729929264 atm\n",
      "PO2 : 2.0964188444322978 atm\n",
      "Power-Thermal : 21.4817604832121 W\n",
      "###########\n",
      "I : 0.5\n",
      "E : 54.28754749200584 V\n",
      "FC Efficiency : 0.3971768980805572 \n",
      "FC Power : 27.262222284249443 W\n",
      "FC Voltage : 54.524444568498886 V\n",
      "PH2 : 2.1677962862765128 atm\n",
      "PO2 : 2.0962792264800076 atm\n",
      "Power-Thermal : 26.857777715750554 W\n",
      "###########\n",
      "I : 0.6\n",
      "E : 54.28735581617328 V\n",
      "FC Efficiency : 0.3971098513395853 \n",
      "FC Power : 32.709144235138965 W\n",
      "FC Voltage : 54.515240391898274 V\n",
      "PH2 : 2.1675489995600996 atm\n",
      "PO2 : 2.0961396085277175 atm\n",
      "Power-Thermal : 32.23485576486103 W\n",
      "###########\n",
      "I : 0.7\n",
      "E : 54.287164120528516 V\n",
      "FC Efficiency : 0.3970526072135646 \n",
      "FC Power : 38.155167342794705 W\n",
      "FC Voltage : 54.507381918278156 V\n",
      "PH2 : 2.1673017128436864 atm\n",
      "PO2 : 2.0959999905754274 atm\n",
      "Power-Thermal : 37.61283265720528 W\n",
      "###########\n",
      "I : 0.8\n",
      "E : 54.28697240506729 V\n",
      "FC Efficiency : 0.39700253793845613 \n",
      "FC Power : 43.60040672655301 W\n",
      "FC Voltage : 54.50050840819126 V\n",
      "PH2 : 2.1670544261272733 atm\n",
      "PO2 : 2.0958603726231373 atm\n",
      "Power-Thermal : 42.991593273446995 W\n",
      "###########\n",
      "I : 0.9\n",
      "E : 54.286780669785365 V\n",
      "FC Efficiency : 0.39695794855256433 \n",
      "FC Power : 49.044948459566434 W\n",
      "FC Voltage : 54.49438717729603 V\n",
      "PH2 : 2.16680713941086 atm\n",
      "PO2 : 2.0957207546708467 atm\n",
      "Power-Thermal : 48.37105154043357 W\n",
      "###########\n",
      "I : 1.0\n",
      "E : 54.28658891467849 V\n",
      "FC Efficiency : 0.39691768174793257 \n",
      "FC Power : 54.48885935035618 W\n",
      "FC Voltage : 54.48885935035618 V\n",
      "PH2 : 2.166559852694447 atm\n",
      "PO2 : 2.0955811367185566 atm\n",
      "Power-Thermal : 53.751140649643816 W\n",
      "###########\n",
      "I : 1.1\n",
      "E : 54.2863971397424 V\n",
      "FC Efficiency : 0.39688091206389015 \n",
      "FC Power : 59.93219276894392 W\n",
      "FC Voltage : 54.483811608130836 V\n",
      "PH2 : 2.1663125659780333 atm\n",
      "PO2 : 2.095441518766267 atm\n",
      "Power-Thermal : 59.13180723105608 W\n",
      "###########\n",
      "I : 1.2\n",
      "E : 54.286205344972856 V\n",
      "FC Efficiency : 0.3968470300107991 \n",
      "FC Power : 65.37499233585899 W\n",
      "FC Voltage : 54.4791602798825 V\n",
      "PH2 : 2.16606527926162 atm\n",
      "PO2 : 2.0953019008139764 atm\n",
      "Power-Thermal : 64.51300766414099 W\n",
      "###########\n",
      "I : 1.3\n",
      "E : 54.286013530365594 V\n",
      "FC Efficiency : 0.3968155727355017 \n",
      "FC Power : 70.81729437266857 W\n",
      "FC Voltage : 54.47484182512967 V\n",
      "PH2 : 2.165817992545207 atm\n",
      "PO2 : 2.0951622828616863 atm\n",
      "Power-Thermal : 69.89470562733142 W\n",
      "###########\n",
      "I : 1.4\n",
      "E : 54.28582169591637 V\n",
      "FC Efficiency : 0.3967861804549145 \n",
      "FC Power : 76.25912959399092 W\n",
      "FC Voltage : 54.470806852850664 V\n",
      "PH2 : 2.165570705828794 atm\n",
      "PO2 : 2.095022664909396 atm\n",
      "Power-Thermal : 75.27687040600905 W\n",
      "###########\n",
      "I : 1.5\n",
      "E : 54.28562984162091 V\n",
      "FC Efficiency : 0.3967585679566162 \n",
      "FC Power : 81.7005243136264 W\n",
      "FC Voltage : 54.46701620908427 V\n",
      "PH2 : 2.1653234191123807 atm\n",
      "PO2 : 2.094883046957106 atm\n",
      "Power-Thermal : 80.65947568637358 W\n",
      "###########\n",
      "I : 1.6\n",
      "E : 54.28543796747497 V\n",
      "FC Efficiency : 0.39673250531602267 \n",
      "FC Power : 87.14150132765376 W\n",
      "FC Voltage : 54.46343832978359 V\n",
      "PH2 : 2.1650761323959675 atm\n",
      "PO2 : 2.094743429004816 atm\n",
      "Power-Thermal : 86.04249867234626 W\n",
      "###########\n",
      "I : 1.7\n",
      "E : 54.28524607347429 V\n",
      "FC Efficiency : 0.3967078044696878 \n",
      "FC Power : 92.58208057591786 W\n",
      "FC Voltage : 54.46004739759874 V\n",
      "PH2 : 2.164828845679554 atm\n",
      "PO2 : 2.094603811052526 atm\n",
      "Power-Thermal : 91.42591942408212 W\n",
      "###########\n",
      "I : 1.8\n",
      "E : 54.285054159614596 V\n",
      "FC Efficiency : 0.3966843096322109 \n",
      "FC Power : 98.02227964735785 W\n",
      "FC Voltage : 54.456822026309915 V\n",
      "PH2 : 2.164581558963141 atm\n",
      "PO2 : 2.0944641931002357 atm\n",
      "Power-Thermal : 96.80972035264215 W\n",
      "###########\n",
      "I : 1.9\n",
      "E : 54.284862225891644 V\n",
      "FC Efficiency : 0.3966618903075967 \n",
      "FC Power : 103.46211417271105 W\n",
      "FC Voltage : 54.45374430142687 V\n",
      "PH2 : 2.1643342722467276 atm\n",
      "PO2 : 2.094324575147945 atm\n",
      "Power-Thermal : 102.19388582728892 W\n",
      "###########\n",
      "I : 2.0\n",
      "E : 54.28467027230115 V\n",
      "FC Efficiency : 0.39664043609530514 \n",
      "FC Power : 108.90159813432699 W\n",
      "FC Voltage : 54.450799067163494 V\n",
      "PH2 : 2.1640869855303144 atm\n",
      "PO2 : 2.0941849571956554 atm\n",
      "Power-Thermal : 107.578401865673 W\n",
      "###########\n",
      "I : 2.1\n",
      "E : 54.28447829883886 V\n",
      "FC Efficiency : 0.3966198527648516 \n",
      "FC Power : 114.34074411387355 W\n",
      "FC Voltage : 54.44797338755883 V\n",
      "PH2 : 2.1638396988139013 atm\n",
      "PO2 : 2.094045339243365 atm\n",
      "Power-Thermal : 112.96325588612645 W\n",
      "###########\n",
      "I : 2.2\n",
      "E : 54.2842863055005 V\n",
      "FC Efficiency : 0.3966000592444172 \n",
      "FC Power : 119.77956349276191 W\n",
      "FC Voltage : 54.44525613307359 V\n",
      "PH2 : 2.1635924120974876 atm\n",
      "PO2 : 2.0939057212910748 atm\n",
      "Power-Thermal : 118.34843650723809 W\n",
      "###########\n",
      "I : 2.3\n",
      "E : 54.284094292281814 V\n",
      "FC Efficiency : 0.39658098527940633 \n",
      "FC Power : 125.21806661606087 W\n",
      "FC Voltage : 54.4426376591569 V\n",
      "PH2 : 2.163345125381075 atm\n",
      "PO2 : 2.0937661033387847 atm\n",
      "Power-Thermal : 123.7339333839391 W\n",
      "###########\n",
      "I : 2.4\n",
      "E : 54.28390225917852 V\n",
      "FC Efficiency : 0.3965625695896912 \n",
      "FC Power : 130.65626292785475 W\n",
      "FC Voltage : 54.44010955327281 V\n",
      "PH2 : 2.1630978386646613 atm\n",
      "PO2 : 2.0936264853864945 atm\n",
      "Power-Thermal : 129.11973707214523 W\n",
      "###########\n",
      "I : 2.5\n",
      "E : 54.28371020618635 V\n",
      "FC Efficiency : 0.3965447584032809 \n",
      "FC Power : 136.09416108400603 W\n",
      "FC Voltage : 54.43766443360241 V\n",
      "PH2 : 2.162850551948248 atm\n",
      "PO2 : 2.0934868674342044 atm\n",
      "Power-Thermal : 134.50583891599396 W\n",
      "###########\n",
      "I : 2.6\n",
      "E : 54.28351813330103 V\n",
      "FC Efficiency : 0.3965275042777518 \n",
      "FC Power : 141.5317690468494 W\n",
      "FC Voltage : 54.435295787249764 V\n",
      "PH2 : 2.162603265231835 atm\n",
      "PO2 : 2.0933472494819143 atm\n",
      "Power-Thermal : 139.8922309531506 W\n",
      "###########\n",
      "I : 2.7\n",
      "E : 54.2833260405183 V\n",
      "FC Efficiency : 0.39651076514422556 \n",
      "FC Power : 146.9690941652981 W\n",
      "FC Voltage : 54.432997838999285 V\n",
      "PH2 : 2.162355978515422 atm\n",
      "PO2 : 2.093207631529624 atm\n",
      "Power-Thermal : 145.27890583470193 W\n",
      "###########\n",
      "I : 2.8\n",
      "E : 54.28313392783386 V\n",
      "FC Efficiency : 0.3964945035252972 \n",
      "FC Power : 152.40614324306785 W\n",
      "FC Voltage : 54.4307654439528 V\n",
      "PH2 : 2.1621086917990087 atm\n",
      "PO2 : 2.093068013577334 atm\n",
      "Power-Thermal : 150.66585675693213 W\n",
      "###########\n",
      "I : 2.9\n",
      "E : 54.28294179524345 V\n",
      "FC Efficiency : 0.39647868589026086 \n",
      "FC Power : 157.84292259714354 W\n",
      "FC Voltage : 54.428593999015014 V\n",
      "PH2 : 2.1618614050825955 atm\n",
      "PO2 : 2.092928395625044 atm\n",
      "Power-Thermal : 156.05307740285645 W\n",
      "###########\n",
      "I : 3.0\n",
      "E : 54.282749642742786 V\n",
      "FC Efficiency : 0.39646328211968823 \n",
      "FC Power : 163.2794381081724 W\n",
      "FC Voltage : 54.4264793693908 V\n",
      "PH2 : 2.161614118366182 atm\n",
      "PO2 : 2.0927887776727534 atm\n",
      "Power-Thermal : 161.4405618918276 W\n",
      "###########\n",
      "I : 3.1\n",
      "E : 54.282557470327596 V\n",
      "FC Efficiency : 0.3964482650578333 \n",
      "FC Power : 168.71569526413202 W\n",
      "FC Voltage : 54.42441782713936 V\n",
      "PH2 : 2.1613668316497687 atm\n",
      "PO2 : 2.0926491597204633 atm\n",
      "Power-Thermal : 166.828304735868 W\n",
      "###########\n",
      "I : 3.2\n",
      "E : 54.282365277993584 V\n",
      "FC Efficiency : 0.39643361013612227 \n",
      "FC Power : 174.15169919835796 W\n",
      "FC Voltage : 54.42240599948686 V\n",
      "PH2 : 2.1611195449333556 atm\n",
      "PO2 : 2.0925095417681736 atm\n",
      "Power-Thermal : 172.21630080164203 W\n",
      "###########\n",
      "I : 3.3\n",
      "E : 54.282173065736494 V\n",
      "FC Efficiency : 0.39641929505459833 \n",
      "FC Power : 179.58745472281433 W\n",
      "FC Voltage : 54.420440825095255 V\n",
      "PH2 : 2.1608722582169424 atm\n",
      "PO2 : 2.092369923815883 atm\n",
      "Power-Thermal : 177.60454527718562 W\n",
      "###########\n",
      "I : 3.4\n",
      "E : 54.28198083355201 V\n",
      "FC Efficiency : 0.3964052995109346 \n",
      "FC Power : 185.02296635732776 W\n",
      "FC Voltage : 54.41851951686111 V\n",
      "PH2 : 2.1606249715005292 atm\n",
      "PO2 : 2.092230305863593 atm\n",
      "Power-Thermal : 182.9930336426722 W\n",
      "###########\n",
      "I : 3.5\n",
      "E : 54.28178858143586 V\n",
      "FC Efficiency : 0.3963916049687393 \n",
      "FC Power : 190.45823835537988 W\n",
      "FC Voltage : 54.41663953010853 V\n",
      "PH2 : 2.160377684784116 atm\n",
      "PO2 : 2.092090687911303 atm\n",
      "Power-Thermal : 188.38176164462013 W\n",
      "###########\n",
      "I : 3.6\n",
      "E : 54.281596309383765 V\n",
      "FC Efficiency : 0.39637819445850625 \n",
      "FC Power : 195.89327472694944 W\n",
      "FC Voltage : 54.414798535263735 V\n",
      "PH2 : 2.1601303980677025 atm\n",
      "PO2 : 2.0919510699590127 atm\n",
      "Power-Thermal : 193.77072527305054 W\n",
      "###########\n",
      "I : 3.7\n",
      "E : 54.281404017391424 V\n",
      "FC Efficiency : 0.39636505240584513 \n",
      "FC Power : 201.32807925881536 W\n",
      "FC Voltage : 54.41299439427442 V\n",
      "PH2 : 2.1598831113512893 atm\n",
      "PO2 : 2.0918114520067226 atm\n",
      "Power-Thermal : 199.15992074118464 W\n",
      "###########\n",
      "I : 3.8\n",
      "E : 54.28121170545457 V\n",
      "FC Efficiency : 0.3963521644826228 \n",
      "FC Power : 206.76265553266293 W\n",
      "FC Voltage : 54.41122514017446 V\n",
      "PH2 : 2.159635824634876 atm\n",
      "PO2 : 2.0916718340544325 atm\n",
      "Power-Thermal : 204.54934446733702 W\n",
      "###########\n",
      "I : 3.9\n",
      "E : 54.28101937356888 V\n",
      "FC Efficiency : 0.39633951747744234 \n",
      "FC Power : 212.1970069412828 W\n",
      "FC Voltage : 54.40948895930328 V\n",
      "PH2 : 2.159388537918463 atm\n",
      "PO2 : 2.0915322161021423 atm\n",
      "Power-Thermal : 209.9389930587172 W\n",
      "###########\n",
      "Warning : There are errors in the simulations in some of I amounts; please refer to the .opem file for review. If you are confident about this parameters, ignore this error.\n"
     ]
    },
    {
     "name": "stdout",
     "output_type": "stream",
     "text": [
      "Done!\n"
     ]
    }
   ],
   "source": [
    "Data=Dynamic_Analysis(InputMethod=Test_Vector,TestMode=True,PrintMode=True,ReportMode=True)"
   ]
  },
  {
   "cell_type": "markdown",
   "metadata": {},
   "source": [
    "* Notice : \"PrintMode\" & \"ReportMode\" , new in version 0.5"
   ]
  },
  {
   "cell_type": "code",
   "execution_count": 14,
   "metadata": {},
   "outputs": [
    {
     "data": {
      "text/plain": [
       "{'Message': '[Error] Padulles-I Simulation Failed!(Check Your Inputs)',\n",
       " 'Status': False}"
      ]
     },
     "execution_count": 14,
     "metadata": {},
     "output_type": "execute_result"
    }
   ],
   "source": [
    "Dynamic_Analysis(InputMethod={},TestMode=True,PrintMode=False,ReportMode=True)"
   ]
  },
  {
   "cell_type": "markdown",
   "metadata": {},
   "source": [
    "## Parameters"
   ]
  },
  {
   "cell_type": "markdown",
   "metadata": {},
   "source": [
    "Inputs, Constants & Middle Values\n",
    "1. User : User Input\n",
    "2. System : Simulator Calculation (Middle Value)"
   ]
  },
  {
   "cell_type": "markdown",
   "metadata": {},
   "source": [
    "<table style=\"text-align:center;\">\n",
    "    <tr>\n",
    "        <td>$$Parameter$$</td>\n",
    "        <td>$$Description$$</td>\n",
    "        <td>$$Unit$$</td>\n",
    "        <td>$$Value$$</td>\n",
    "    </tr> \n",
    "    <tr>\n",
    "        <td>$$E_0$$</td>\n",
    "        <td style=\"text-align:center;\">No load voltage</td>\n",
    "        <td>$$V$$</td>\n",
    "        <td>$$User$$</td>\n",
    "    </tr>\n",
    "    <tr>\n",
    "        <td>$$K_{H_2}$$</td>\n",
    "        <td style=\"text-align:center;\">Hydrogen valve constant</td>\n",
    "        <td>$$kmol.s^{-1}.atm^{-1}$$</td>\n",
    "        <td>$$User$$</td>\n",
    "    </tr>\n",
    "    <tr>\n",
    "        <td>$$K_{O_2}$$</td>\n",
    "        <td style=\"text-align:center;\">Oxygen valve constant</td>\n",
    "        <td>$$kmol.s^{-1}.atm^{-1}$$</td>\n",
    "        <td>$$User$$</td>\n",
    "    </tr>\n",
    "    <tr>\n",
    "        <td>$$\\tau_{H_2}^{(s)}$$</td>\n",
    "        <td style=\"text-align:center;\">Hydrogen time constant</td>\n",
    "        <td>$$s$$</td>\n",
    "        <td>$$User$$</td>\n",
    "    </tr>\n",
    "    <tr>\n",
    "        <td>$$\\tau_{O_2}^{(s)}$$</td>\n",
    "        <td style=\"text-align:center;\">Oxygen time constant</td>\n",
    "        <td>$$s$$</td>\n",
    "        <td>$$User$$</td>\n",
    "    </tr>\n",
    "    <tr>\n",
    "        <td>$$B$$</td>\n",
    "        <td style=\"text-align:center;\">Activation voltage constant</td>\n",
    "        <td>$$V$$</td>\n",
    "        <td>$$User$$</td>\n",
    "    </tr>\n",
    "    <tr>\n",
    "        <td>$$C$$</td>\n",
    "        <td style=\"text-align:center;\">Activation constant parameter</td>\n",
    "        <td>$$A^{-1}$$</td>\n",
    "        <td>$$User$$</td>\n",
    "    </tr>\n",
    "    <tr>\n",
    "        <td>$$R^{int}$$</td>\n",
    "        <td style=\"text-align:center;\">FuelCell internal resistance</td>\n",
    "        <td>$$\\Omega$$</td>\n",
    "        <td>$$User$$</td>\n",
    "    </tr>\n",
    "      <tr>\n",
    "        <td>$$r_{h-o}$$</td>\n",
    "        <td style=\"text-align:center;\">Hydrogen-oxygen flow ratio</td>\n",
    "        <td>$$--$$</td>\n",
    "        <td>$$User$$</td>\n",
    "    </tr>\n",
    "       <tr>\n",
    "        <td>$$q_{H_2}^{(inlet)}$$</td>\n",
    "        <td style=\"text-align:center;\">Molar flow of hydrogen</td>\n",
    "        <td>$$kmol.s^{-1}$$</td>\n",
    "        <td>$$User$$</td>\n",
    "    </tr>\n",
    "     <tr>\n",
    "        <td>$$i_{start}$$</td>\n",
    "        <td style=\"text-align:center;\">Cell operating current start point</td>\n",
    "        <td>$$A$$</td>\n",
    "        <td>$$User$$</td>\n",
    "    </tr>\n",
    "    <tr>\n",
    "        <td>$$i_{step}$$</td>\n",
    "        <td style=\"text-align:center;\">Cell operating current step</td>\n",
    "        <td>$$A$$</td>\n",
    "        <td>$$User$$</td>\n",
    "    </tr>\n",
    "    <tr>\n",
    "        <td>$$i_{stop}$$</td>\n",
    "        <td style=\"text-align:center;\">Cell operating current end point</td>\n",
    "        <td>$$A$$</td>\n",
    "        <td>$$User$$</td>\n",
    "    </tr>\n",
    "     <tr>\n",
    "        <td>$$P_{H_2}$$</td>\n",
    "        <td style=\"text-align:center;\">Hydrogen partial pressure</td>\n",
    "        <td>$$atm$$</td>\n",
    "        <td>$$System$$</td>\n",
    "    </tr>\n",
    "     <tr>\n",
    "        <td>$$P_{O_2}$$</td>\n",
    "        <td style=\"text-align:center;\">Oxygen partial pressure</td>\n",
    "        <td>$$atm$$</td>\n",
    "        <td>$$System$$</td>\n",
    "    </tr>\n",
    "     <tr>\n",
    "        <td>$$K_r$$</td>\n",
    "        <td style=\"text-align:center;\">Modeling constant</td>\n",
    "        <td>$$kmol.s^{-1}.A^{-1}$$</td>\n",
    "        <td>$$System$$</td>\n",
    "    </tr>\n",
    "      <tr>\n",
    "        <td>$$q_{O_2}^{(inlet)}$$</td>\n",
    "        <td style=\"text-align:center;\">Molar flow of oxygen</td>\n",
    "        <td>$$kmol.s^{-1}$$</td>\n",
    "        <td>$$System$$</td>\n",
    "    </tr>\n",
    "               <tr>\n",
    "        <td>$$\\mu_F$$</td>\n",
    "        <td style=\"text-align:center;\">The fuel utilization</td>\n",
    "        <td>$$--$$</td>\n",
    "        <td>$$0.95$$</td>\n",
    "    </tr>\n",
    "          <tr>\n",
    "    <td>$$HHV$$</td>\n",
    "        <td style=\"text-align:center;\">Higher Heating Value Potential</td>\n",
    "        <td>$$V$$</td>\n",
    "        <td>$$1.482$$</td>\n",
    "    </tr>\n",
    "             <tr>\n",
    "    <td>$$R$$</td>\n",
    "        <td style=\"text-align:center;\">Universal gas constant</td>\n",
    "        <td>$$J.kmol^{-1}.K^{-1}$$</td>\n",
    "        <td>$$8314.47$$</td>\n",
    "    </tr>\n",
    "             <tr>\n",
    "    <td>$$F$$</td>\n",
    "        <td style=\"text-align:center;\">Faraday’s constant</td>\n",
    "        <td>$$C.kmol^{-1}$$</td>\n",
    "        <td>$$96484600$$</td>\n",
    "    </tr>\n",
    "    <tr>\n",
    "    <td>$$E_{th}$$</td>\n",
    "        <td style=\"text-align:center;\">Theoretical Potential</td>\n",
    "        <td>$$V$$</td>\n",
    "        <td>$$1.23$$</td>\n",
    "    </tr>\n",
    "    \n",
    "    \n",
    "    \n",
    "</table>"
   ]
  },
  {
   "cell_type": "markdown",
   "metadata": {},
   "source": [
    "## Reference\n",
    "<blockquote>\n",
    "J. Padulles, G.W. Ault, J.R. McDonald. 2000. \"An integrated SOFC plant dynamic model for power systems\n",
    "simulation.\" Journal of Power Sources (Elsevier) 86 (1-2): 495-500. doi:10.1016/S0378-7753(99)00430-9.\n",
    "</blockquote>"
   ]
  }
 ],
 "metadata": {
  "kernelspec": {
   "display_name": "Python 3",
   "language": "python",
   "name": "python3"
  },
  "language_info": {
   "codemirror_mode": {
    "name": "ipython",
    "version": 3
   },
   "file_extension": ".py",
   "mimetype": "text/x-python",
   "name": "python",
   "nbconvert_exporter": "python",
   "pygments_lexer": "ipython3",
   "version": "3.5.2"
  }
 },
 "nbformat": 4,
 "nbformat_minor": 2
}
