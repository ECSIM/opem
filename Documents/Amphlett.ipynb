{
 "cells": [
  {
   "cell_type": "markdown",
   "metadata": {},
   "source": [
    "#  Amphlett Static Model"
   ]
  },
  {
   "cell_type": "markdown",
   "metadata": {},
   "source": [
    "### Version 0.8"
   ]
  },
  {
   "cell_type": "markdown",
   "metadata": {},
   "source": [
    "<p style=\"text-align:justify;\">\n",
    "The Amphlett static model has been used to predict the performance of proton exchange membrane fuel cell. Key concepts in Amphlett static model are Nernst voltage, activation polarization loss, ohmic polarization loss and concentration polarization loss. Amphlett static model has a mechanistic and empirical approach to describe the performance of proton exchange membrane fuel cell. The ideal standard potential of an H2/O2 fuel cell is 1.229 V with liquid water product. The actual cell potential is decreased from its reference potential because of irreversible losses.\n",
    "</p>"
   ]
  },
  {
   "cell_type": "markdown",
   "metadata": {},
   "source": [
    "<div style=\"text-align:center;\">\n",
    "   \n",
    "<img src=\"images/Static-Model-Graphic.jpg\">  \n",
    "<p style=\"text-align:center;\">Fig1. Graphical Abstract of Static Models</p>\n",
    "</div>"
   ]
  },
  {
   "cell_type": "markdown",
   "metadata": {},
   "source": [
    "## Nernst Voltage\n",
    "\n",
    "$$E_{Nernst}(V)=1.229-(8.5\\times10^{-4})(T-298.15)+(4.308\\times10^{-5})(T)[\\ln(P_{H2})+0.5ln(P_{O2})]$$\n"
   ]
  },
  {
   "cell_type": "code",
   "execution_count": 1,
   "metadata": {},
   "outputs": [
    {
     "data": {
      "text/plain": [
       "1.19075"
      ]
     },
     "execution_count": 1,
     "metadata": {},
     "output_type": "execute_result"
    }
   ],
   "source": [
    "from opem.Static.Amphlett import Enernst_Calc\n",
    "Enernst=Enernst_Calc(T=343.15,PH2=1,PO2=1)\n",
    "Enernst"
   ]
  },
  {
   "cell_type": "markdown",
   "metadata": {},
   "source": [
    "* Notice : from opem.Amphlett in version (0.3>)"
   ]
  },
  {
   "cell_type": "markdown",
   "metadata": {},
   "source": [
    "## PEM Losses Model"
   ]
  },
  {
   "cell_type": "markdown",
   "metadata": {},
   "source": [
    "### Activation"
   ]
  },
  {
   "cell_type": "markdown",
   "metadata": {},
   "source": [
    "$$\\eta_{activation}=\\xi_{1}+\\xi_{2}T+\\xi_{3}T[ln(C_{O_{2}})]+\\xi_{4}T[ln(i)]$$"
   ]
  },
  {
   "cell_type": "markdown",
   "metadata": {},
   "source": [
    "$$\\xi_{1}=-0.948$$"
   ]
  },
  {
   "cell_type": "markdown",
   "metadata": {},
   "source": [
    "$$\\xi_{2}=0.00286+0.0002\\times ln(A)+(4.3\\times10^{-5})[ln(C_{H_{2}})]$$"
   ]
  },
  {
   "cell_type": "markdown",
   "metadata": {},
   "source": [
    "$$\\xi_{3}=7.6\\times10^{-5}$$"
   ]
  },
  {
   "cell_type": "markdown",
   "metadata": {},
   "source": [
    "$$\\xi_{4}=-1.93\\times10^{-4}$$"
   ]
  },
  {
   "cell_type": "markdown",
   "metadata": {},
   "source": [
    "$$C_{H_{2}}=\\frac{P_{H_2}}{1.09\\times10^{6}\\times exp(\\frac{77}{T})}$$"
   ]
  },
  {
   "cell_type": "markdown",
   "metadata": {},
   "source": [
    "$$C_{O_{2}}=\\frac{P_{O_2}}{5.08\\times10^{6}\\times exp(\\frac{-498}{T})}$$"
   ]
  },
  {
   "cell_type": "code",
   "execution_count": 2,
   "metadata": {},
   "outputs": [
    {
     "name": "stdout",
     "output_type": "stream",
     "text": [
      "XI1=-0.948\n",
      "XI3=7.6e-05\n",
      "XI4=-0.000193\n"
     ]
    }
   ],
   "source": [
    "from opem.Params import xi1,xi3,xi4\n",
    "print(\"XI1=\"+str(xi1))\n",
    "print(\"XI3=\"+str(xi3))\n",
    "print(\"XI4=\"+str(xi4))"
   ]
  },
  {
   "cell_type": "code",
   "execution_count": 3,
   "metadata": {},
   "outputs": [
    {
     "name": "stdout",
     "output_type": "stream",
     "text": [
      "XI2=0.0030373688787134006\n",
      "CO2=8.402541445801334e-07\n",
      "CH2=7.330294784824117e-07\n"
     ]
    }
   ],
   "source": [
    "from opem.Static.Amphlett import CO2_Calc,CH2_Calc,Xi2_Calc\n",
    "CO2=CO2_Calc(PO2=1,T=343.15)\n",
    "CH2=CH2_Calc(PH2=1,T=343.15)\n",
    "XI2=Xi2_Calc(A=50.6,PH2=1,T=343.15)\n",
    "print(\"XI2=\"+str(XI2))\n",
    "print(\"CO2=\"+str(CO2))\n",
    "print(\"CH2=\"+str(CH2))"
   ]
  },
  {
   "cell_type": "code",
   "execution_count": 4,
   "metadata": {},
   "outputs": [
    {
     "data": {
      "text/plain": [
       "0.3164719546471556"
      ]
     },
     "execution_count": 4,
     "metadata": {},
     "output_type": "execute_result"
    }
   ],
   "source": [
    "from opem.Static.Amphlett import Eta_Act_Calc\n",
    "Eta_Act=Eta_Act_Calc(T=343.15,PO2=1 , PH2=1, i=2, A=50.6)\n",
    "Eta_Act"
   ]
  },
  {
   "cell_type": "markdown",
   "metadata": {},
   "source": [
    "### Ohmic"
   ]
  },
  {
   "cell_type": "markdown",
   "metadata": {},
   "source": [
    "$$\\eta_{ohmic}=i(R_{electronic}+R_{Proton})$$"
   ]
  },
  {
   "cell_type": "markdown",
   "metadata": {},
   "source": [
    "$$R_{Proton}=\\frac{\\rho_m\\times I}{A}$$"
   ]
  },
  {
   "cell_type": "markdown",
   "metadata": {},
   "source": [
    "$$\\rho_m=\\frac{181.6[1+0.03(\\frac{i}{A})+0.062(\\frac{T}{303})^2(\\frac{i}{A})^{2.5}]}{[\\lambda-0.634-3(\\frac{i}{A})]exp[4.18(\\frac{T-303}{T})]}$$"
   ]
  },
  {
   "cell_type": "markdown",
   "metadata": {},
   "source": [
    "* `Relectronic` Should be approximately constant over the relatively narrow\n",
    "temperature range of PEM fuel cell operation.\n",
    "Therefore, the parameter Relectronic can be taken as a constant, but\n",
    "is generally difficult to predict and, therefore, is initially an unknown."
   ]
  },
  {
   "cell_type": "code",
   "execution_count": 5,
   "metadata": {},
   "outputs": [
    {
     "data": {
      "text/plain": [
       "5.011385192458396"
      ]
     },
     "execution_count": 5,
     "metadata": {},
     "output_type": "execute_result"
    }
   ],
   "source": [
    "from opem.Static.Amphlett import Rho_Calc\n",
    "Rho_Calc(i=2, A=50.6, T=343.15, lambda_param=23)"
   ]
  },
  {
   "cell_type": "code",
   "execution_count": 6,
   "metadata": {},
   "outputs": [
    {
     "data": {
      "text/plain": [
       "0.0035257966966703337"
      ]
     },
     "execution_count": 6,
     "metadata": {},
     "output_type": "execute_result"
    }
   ],
   "source": [
    "from opem.Static.Amphlett import Eta_Ohmic_Calc\n",
    "Eta_Ohmic=Eta_Ohmic_Calc(i=2, l=0.0178, A=50.6, T=343.15, lambda_param=23, R_elec=0)\n",
    "Eta_Ohmic"
   ]
  },
  {
   "cell_type": "markdown",
   "metadata": {},
   "source": [
    "### Concentration"
   ]
  },
  {
   "cell_type": "markdown",
   "metadata": {},
   "source": [
    "$$\\eta_{Concentration}=-B\\times ln(1-\\frac{J}{J_{Max}})$$"
   ]
  },
  {
   "cell_type": "markdown",
   "metadata": {},
   "source": [
    "$$J=\\frac{i}{A}$$"
   ]
  },
  {
   "cell_type": "markdown",
   "metadata": {},
   "source": [
    "$$J_{Max}=\\frac{i_L}{A}$$"
   ]
  },
  {
   "cell_type": "code",
   "execution_count": 7,
   "metadata": {},
   "outputs": [
    {
     "data": {
      "text/plain": [
       "0.0004272617031588504"
      ]
     },
     "execution_count": 7,
     "metadata": {},
     "output_type": "execute_result"
    }
   ],
   "source": [
    "from opem.Static.Amphlett import Eta_Conc_Calc\n",
    "Eta_Conc=Eta_Conc_Calc(i=2, A=50.6, B=0.016, JMax=1.5)\n",
    "Eta_Conc"
   ]
  },
  {
   "cell_type": "markdown",
   "metadata": {},
   "source": [
    "### VCell & VStack"
   ]
  },
  {
   "cell_type": "markdown",
   "metadata": {},
   "source": [
    "$$Loss=\\eta_{Activation}+\\eta_{Ohmic}+\\eta_{Concentration}$$"
   ]
  },
  {
   "cell_type": "markdown",
   "metadata": {},
   "source": [
    "$$V_{cell}=E_{Nernst}-Loss$$"
   ]
  },
  {
   "cell_type": "markdown",
   "metadata": {},
   "source": [
    "$$V_{Stack}=N\\times V_{cell}$$"
   ]
  },
  {
   "cell_type": "code",
   "execution_count": 8,
   "metadata": {},
   "outputs": [
    {
     "data": {
      "text/plain": [
       "0.32042501304698484"
      ]
     },
     "execution_count": 8,
     "metadata": {},
     "output_type": "execute_result"
    }
   ],
   "source": [
    "from opem.Static.Amphlett import Loss_Calc,Vcell_Calc,VStack_Calc\n",
    "Loss=Loss_Calc(Eta_Act=Eta_Act,Eta_Conc=Eta_Conc,Eta_Ohmic=Eta_Ohmic)\n",
    "Loss"
   ]
  },
  {
   "cell_type": "code",
   "execution_count": 9,
   "metadata": {},
   "outputs": [
    {
     "data": {
      "text/plain": [
       "0.8703249869530152"
      ]
     },
     "execution_count": 9,
     "metadata": {},
     "output_type": "execute_result"
    }
   ],
   "source": [
    "Vcell=Vcell_Calc(Enernst=Enernst,Loss=Loss)\n",
    "Vcell"
   ]
  },
  {
   "cell_type": "code",
   "execution_count": 10,
   "metadata": {},
   "outputs": [
    {
     "data": {
      "text/plain": [
       "1.7406499739060304"
      ]
     },
     "execution_count": 10,
     "metadata": {},
     "output_type": "execute_result"
    }
   ],
   "source": [
    "VStack=VStack_Calc(Vcell=Vcell,N=2)\n",
    "VStack"
   ]
  },
  {
   "cell_type": "markdown",
   "metadata": {},
   "source": [
    "## Power Of PEMFC"
   ]
  },
  {
   "cell_type": "markdown",
   "metadata": {},
   "source": [
    "$$P=V_{cell}\\times i$$"
   ]
  },
  {
   "cell_type": "markdown",
   "metadata": {},
   "source": [
    "$$P_{Stack}=N\\times P$$"
   ]
  },
  {
   "cell_type": "markdown",
   "metadata": {},
   "source": [
    "$$P_{Thermal}=i\\times(N \\times E_{th}-V_{Stack})$$"
   ]
  },
  {
   "cell_type": "markdown",
   "metadata": {},
   "source": [
    "$$E_{th}=\\frac{-\\Delta H}{nF}=1.23V$$"
   ]
  },
  {
   "cell_type": "code",
   "execution_count": 11,
   "metadata": {},
   "outputs": [
    {
     "data": {
      "text/plain": [
       "1.7406499739060304"
      ]
     },
     "execution_count": 11,
     "metadata": {},
     "output_type": "execute_result"
    }
   ],
   "source": [
    "from opem.Static.Amphlett import Power_Calc,PowerStack_Calc,Power_Thermal_Calc\n",
    "Power=Power_Calc(Vcell=Vcell,i=2)\n",
    "Power"
   ]
  },
  {
   "cell_type": "code",
   "execution_count": 12,
   "metadata": {},
   "outputs": [
    {
     "data": {
      "text/plain": [
       "3.4812999478120608"
      ]
     },
     "execution_count": 12,
     "metadata": {},
     "output_type": "execute_result"
    }
   ],
   "source": [
    "PowerStack_Calc(Power=Power,N=2)"
   ]
  },
  {
   "cell_type": "code",
   "execution_count": 13,
   "metadata": {},
   "outputs": [
    {
     "data": {
      "text/plain": [
       "1.4387000521879392"
      ]
     },
     "execution_count": 13,
     "metadata": {},
     "output_type": "execute_result"
    }
   ],
   "source": [
    "Power_Thermal_Calc(VStack=VStack,N=2,i=2)"
   ]
  },
  {
   "cell_type": "markdown",
   "metadata": {},
   "source": [
    "## Efficiency of PEMFC"
   ]
  },
  {
   "cell_type": "markdown",
   "metadata": {},
   "source": [
    "$$\\eta=\\frac{\\mu_F\\times V_{cell}}{HHV}$$"
   ]
  },
  {
   "cell_type": "code",
   "execution_count": 14,
   "metadata": {},
   "outputs": [],
   "source": [
    "from opem.Params import uF,HHV\n",
    "from opem.Static.Amphlett import Efficiency_Calc"
   ]
  },
  {
   "cell_type": "code",
   "execution_count": 15,
   "metadata": {},
   "outputs": [
    {
     "data": {
      "text/plain": [
       "0.95"
      ]
     },
     "execution_count": 15,
     "metadata": {},
     "output_type": "execute_result"
    }
   ],
   "source": [
    "uF"
   ]
  },
  {
   "cell_type": "code",
   "execution_count": 16,
   "metadata": {},
   "outputs": [
    {
     "data": {
      "text/plain": [
       "1.482"
      ]
     },
     "execution_count": 16,
     "metadata": {},
     "output_type": "execute_result"
    }
   ],
   "source": [
    "HHV"
   ]
  },
  {
   "cell_type": "code",
   "execution_count": 17,
   "metadata": {},
   "outputs": [
    {
     "data": {
      "text/plain": [
       "0.5579006326621893"
      ]
     },
     "execution_count": 17,
     "metadata": {},
     "output_type": "execute_result"
    }
   ],
   "source": [
    "Efficiency_Calc(Vcell=Vcell)"
   ]
  },
  {
   "cell_type": "markdown",
   "metadata": {},
   "source": [
    "## Linear Approximation"
   ]
  },
  {
   "cell_type": "markdown",
   "metadata": {},
   "source": [
    "Sometimes quick calculations regarding fuel cell efficiency–power-size relationships need to be made. Linear approximation is a good method to find a rough estimate of the value of polarization function at a particular point. A linear polarization curve has the following form:\n",
    "$$V_{cell}=V_0-kI$$\n",
    "where V0 is the intercept (actual open circuit voltage is always higher) and k is the slope of the curve.\n",
    "\n",
    "* Notice : <a href=\"https://en.wikipedia.org/wiki/Simple_linear_regression\">Simple linear regression</a> used for this approximation"
   ]
  },
  {
   "cell_type": "markdown",
   "metadata": {},
   "source": [
    "<table style=\"text-align:center;\">\n",
    "    <tr>\n",
    "        <td>$$Parameter$$</td>\n",
    "        <td>$$Description$$</td>\n",
    "        <td>$$Unit$$</td>\n",
    "    </tr> \n",
    "    <tr>\n",
    "        <td>$$V_0$$</td>\n",
    "        <td style=\"text-align:center;\">Intercept of the curve obtained by linear approximation</td>\n",
    "        <td>$$V$$</td>\n",
    "    </tr>\n",
    "    <tr>\n",
    "        <td>$$k$$</td>\n",
    "        <td style=\"text-align:center;\">Slope of the curve obtained by linear approximation</td>\n",
    "        <td>$$A^{-1}$$</td>\n",
    "    </tr>\n",
    "    <tr>\n",
    "        <td>$$P_{max}$$</td>\n",
    "        <td style=\"text-align:center;\">Maximum power obtained by linear approximation</td>\n",
    "        <td>$$W$$</td>\n",
    "    </tr>\n",
    "    <tr>\n",
    "        <td>$$V_{FC}|P_{max}$$</td>\n",
    "        <td style=\"text-align:center;\">Cell voltage at maximum power obtained by linear approximation</td>\n",
    "        <td>$$V$$</td>\n",
    "    </tr>\n",
    "   \n",
    "     \n",
    "    \n",
    "    \n",
    "    \n",
    "</table>"
   ]
  },
  {
   "cell_type": "markdown",
   "metadata": {},
   "source": [
    "* Notice : These parameters are only available in HTML report"
   ]
  },
  {
   "cell_type": "markdown",
   "metadata": {},
   "source": [
    "## Overall Parameters"
   ]
  },
  {
   "cell_type": "markdown",
   "metadata": {},
   "source": [
    "<table style=\"text-align:center;\">\n",
    "    <tr>\n",
    "        <td>$$Parameter$$</td>\n",
    "        <td>$$Description$$</td>\n",
    "        <td>$$Unit$$</td>\n",
    "    </tr> \n",
    "    <tr>\n",
    "        <td>$$\\eta|P_{Max}$$</td>\n",
    "        <td style=\"text-align:center;\">Cell efficiency at maximum power</td>\n",
    "        <td>$$--$$</td>\n",
    "    </tr>\n",
    "    <tr>\n",
    "        <td>$$P_{Max}$$</td>\n",
    "        <td style=\"text-align:center;\">Maximum power </td>\n",
    "        <td>$$W$$</td>\n",
    "    </tr>\n",
    "    <tr>\n",
    "        <td>$$P_{Elec} $$</td>\n",
    "        <td style=\"text-align:center;\">Total electrical power </td>\n",
    "        <td>$$W$$</td>\n",
    "    </tr>\n",
    "    <tr>\n",
    "        <td>$$P_{Thermal} $$</td>\n",
    "        <td style=\"text-align:center;\">Total thermal power   </td>\n",
    "        <td>$$W$$</td>\n",
    "    </tr>\n",
    "    <tr>\n",
    "        <td>$$V_{FC}|P_{Max}$$</td>\n",
    "        <td style=\"text-align:center;\">Cell voltage at maximum power </td>\n",
    "        <td>$$V$$</td>\n",
    "    </tr>\n",
    "   \n",
    "     \n",
    "    \n",
    "    \n",
    "    \n",
    "</table>"
   ]
  },
  {
   "cell_type": "markdown",
   "metadata": {},
   "source": [
    "* Notice : P(Thermal) & P(Elec) calculated by <a href=\"https://en.wikipedia.org/wiki/Simpson%27s_rule\">Simpson's Rule</a>\n",
    "\n",
    "* Notice : These parameters are only available in HTML report"
   ]
  },
  {
   "cell_type": "markdown",
   "metadata": {},
   "source": [
    "## Full Run"
   ]
  },
  {
   "cell_type": "markdown",
   "metadata": {},
   "source": [
    "* Run from `i`=0 to `i`=2 with `step`=0.1"
   ]
  },
  {
   "cell_type": "code",
   "execution_count": 18,
   "metadata": {
    "scrolled": true
   },
   "outputs": [],
   "source": [
    "Test_Vector={\"T\":343.15,\"PH2\":1,\"PO2\":1,\"i-start\":0,\"i-stop\":2,\"i-step\":0.1,\"A\":50.6,\"l\":0.0178,\"lambda\":23,\"N\":1,\"R\":0,\"JMax\":1.5,\"B\":0.016,\"Name\":\"Test\"}"
   ]
  },
  {
   "cell_type": "markdown",
   "metadata": {},
   "source": [
    "* Notice : \"Name\", new in version 0.5"
   ]
  },
  {
   "cell_type": "code",
   "execution_count": 19,
   "metadata": {},
   "outputs": [
    {
     "data": {
      "text/plain": [
       "{'EFF': [0.763301282051282,\n",
       "  0.6874890758222313,\n",
       "  0.6579364138373093,\n",
       "  0.6405968621886462,\n",
       "  0.628257558614402,\n",
       "  0.618658070249436,\n",
       "  0.610791539932373,\n",
       "  0.60412087931632,\n",
       "  0.5983254944546936,\n",
       "  0.5931985956180685,\n",
       "  0.5885989881753353,\n",
       "  0.5844259636913888,\n",
       "  0.5806051627342551,\n",
       "  0.5770801158862924,\n",
       "  0.5738069285336743,\n",
       "  0.5707508038668997,\n",
       "  0.567883690327933,\n",
       "  0.5651826435194095,\n",
       "  0.5626286570434207,\n",
       "  0.5602058098699769],\n",
       " 'I': [0,\n",
       "  0.1,\n",
       "  0.2,\n",
       "  0.3,\n",
       "  0.4,\n",
       "  0.5,\n",
       "  0.6,\n",
       "  0.7,\n",
       "  0.8,\n",
       "  0.9,\n",
       "  1.0,\n",
       "  1.1,\n",
       "  1.2,\n",
       "  1.3,\n",
       "  1.4,\n",
       "  1.5,\n",
       "  1.6,\n",
       "  1.7,\n",
       "  1.8,\n",
       "  1.9],\n",
       " 'K': -0.11440911221732857,\n",
       " 'P': [0.0,\n",
       "  0.1072482958282681,\n",
       "  0.2052761611172405,\n",
       "  0.29979933150428645,\n",
       "  0.3920327165753869,\n",
       "  0.4825532947945601,\n",
       "  0.5717008813767012,\n",
       "  0.6597000002134213,\n",
       "  0.7467102170794577,\n",
       "  0.8328508282477683,\n",
       "  0.9182144215535232,\n",
       "  1.0028749536944233,\n",
       "  1.0868928646385256,\n",
       "  1.1703184750174012,\n",
       "  1.2531943319175447,\n",
       "  1.3355568810485454,\n",
       "  1.417437691058521,\n",
       "  1.498864370613474,\n",
       "  1.5798612689779254,\n",
       "  1.6604500204546115],\n",
       " 'Ph': [0.0,\n",
       "  0.015751704171731908,\n",
       "  0.0407238388827595,\n",
       "  0.06920066849571356,\n",
       "  0.09996728342461313,\n",
       "  0.13244670520543989,\n",
       "  0.16629911862329885,\n",
       "  0.20129999978657856,\n",
       "  0.23728978292054237,\n",
       "  0.2741491717522317,\n",
       "  0.3117855784464768,\n",
       "  0.3501250463055768,\n",
       "  0.3891071353614744,\n",
       "  0.428681524982599,\n",
       "  0.4688056680824551,\n",
       "  0.5094431189514546,\n",
       "  0.5505623089414792,\n",
       "  0.5921356293865259,\n",
       "  0.6341387310220746,\n",
       "  0.6765499795453883],\n",
       " 'Status': True,\n",
       " 'V': [1.19075,\n",
       "  1.072482958282681,\n",
       "  1.0263808055862025,\n",
       "  0.9993311050142881,\n",
       "  0.9800817914384672,\n",
       "  0.9651065895891202,\n",
       "  0.9528348022945019,\n",
       "  0.9424285717334592,\n",
       "  0.933387771349322,\n",
       "  0.925389809164187,\n",
       "  0.9182144215535232,\n",
       "  0.9117045033585666,\n",
       "  0.905744053865438,\n",
       "  0.9002449807826162,\n",
       "  0.895138808512532,\n",
       "  0.8903712540323636,\n",
       "  0.8858985569115755,\n",
       "  0.8816849238902789,\n",
       "  0.8777007049877363,\n",
       "  0.873921063397164],\n",
       " 'V0': 1.0551285303936633}"
      ]
     },
     "execution_count": 19,
     "metadata": {},
     "output_type": "execute_result"
    }
   ],
   "source": [
    "from opem.Static.Amphlett import Static_Analysis\n",
    "Static_Analysis(InputMethod=Test_Vector,TestMode=True,PrintMode=False,ReportMode=True)"
   ]
  },
  {
   "cell_type": "markdown",
   "metadata": {},
   "source": [
    "* Notice : \"Status\", \"V0\", \"K\" and \"EFF\" , new in version 0.8"
   ]
  },
  {
   "cell_type": "code",
   "execution_count": 20,
   "metadata": {},
   "outputs": [
    {
     "data": {
      "text/plain": [
       "{'EFF': [0.763301282051282,\n",
       "  0.6874890758222313,\n",
       "  0.6579364138373093,\n",
       "  0.6405968621886462,\n",
       "  0.628257558614402,\n",
       "  0.618658070249436,\n",
       "  0.610791539932373,\n",
       "  0.60412087931632,\n",
       "  0.5983254944546936,\n",
       "  0.5931985956180685,\n",
       "  0.5885989881753353,\n",
       "  0.5844259636913888,\n",
       "  0.5806051627342551,\n",
       "  0.5770801158862924,\n",
       "  0.5738069285336743,\n",
       "  0.5707508038668997,\n",
       "  0.567883690327933,\n",
       "  0.5651826435194095,\n",
       "  0.5626286570434207,\n",
       "  0.5602058098699769],\n",
       " 'I': [0,\n",
       "  0.1,\n",
       "  0.2,\n",
       "  0.3,\n",
       "  0.4,\n",
       "  0.5,\n",
       "  0.6,\n",
       "  0.7,\n",
       "  0.8,\n",
       "  0.9,\n",
       "  1.0,\n",
       "  1.1,\n",
       "  1.2,\n",
       "  1.3,\n",
       "  1.4,\n",
       "  1.5,\n",
       "  1.6,\n",
       "  1.7,\n",
       "  1.8,\n",
       "  1.9],\n",
       " 'K': -0.11440911221732857,\n",
       " 'P': [0.0,\n",
       "  0.1072482958282681,\n",
       "  0.2052761611172405,\n",
       "  0.29979933150428645,\n",
       "  0.3920327165753869,\n",
       "  0.4825532947945601,\n",
       "  0.5717008813767012,\n",
       "  0.6597000002134213,\n",
       "  0.7467102170794577,\n",
       "  0.8328508282477683,\n",
       "  0.9182144215535232,\n",
       "  1.0028749536944233,\n",
       "  1.0868928646385256,\n",
       "  1.1703184750174012,\n",
       "  1.2531943319175447,\n",
       "  1.3355568810485454,\n",
       "  1.417437691058521,\n",
       "  1.498864370613474,\n",
       "  1.5798612689779254,\n",
       "  1.6604500204546115],\n",
       " 'Ph': [0.0,\n",
       "  0.015751704171731908,\n",
       "  0.0407238388827595,\n",
       "  0.06920066849571356,\n",
       "  0.09996728342461313,\n",
       "  0.13244670520543989,\n",
       "  0.16629911862329885,\n",
       "  0.20129999978657856,\n",
       "  0.23728978292054237,\n",
       "  0.2741491717522317,\n",
       "  0.3117855784464768,\n",
       "  0.3501250463055768,\n",
       "  0.3891071353614744,\n",
       "  0.428681524982599,\n",
       "  0.4688056680824551,\n",
       "  0.5094431189514546,\n",
       "  0.5505623089414792,\n",
       "  0.5921356293865259,\n",
       "  0.6341387310220746,\n",
       "  0.6765499795453883],\n",
       " 'Status': True,\n",
       " 'V': [1.19075,\n",
       "  1.072482958282681,\n",
       "  1.0263808055862025,\n",
       "  0.9993311050142881,\n",
       "  0.9800817914384672,\n",
       "  0.9651065895891202,\n",
       "  0.9528348022945019,\n",
       "  0.9424285717334592,\n",
       "  0.933387771349322,\n",
       "  0.925389809164187,\n",
       "  0.9182144215535232,\n",
       "  0.9117045033585666,\n",
       "  0.905744053865438,\n",
       "  0.9002449807826162,\n",
       "  0.895138808512532,\n",
       "  0.8903712540323636,\n",
       "  0.8858985569115755,\n",
       "  0.8816849238902789,\n",
       "  0.8777007049877363,\n",
       "  0.873921063397164],\n",
       " 'V0': 1.0551285303936633}"
      ]
     },
     "execution_count": 20,
     "metadata": {},
     "output_type": "execute_result"
    }
   ],
   "source": [
    "Static_Analysis(InputMethod=Test_Vector,TestMode=True,PrintMode=False,ReportMode=True)"
   ]
  },
  {
   "cell_type": "markdown",
   "metadata": {},
   "source": [
    "* Notice : \"PrintMode\" & \"ReportMode\" , new in version 0.5"
   ]
  },
  {
   "cell_type": "code",
   "execution_count": 21,
   "metadata": {},
   "outputs": [
    {
     "data": {
      "text/plain": [
       "{'Message': '[Error] Amphlett Simulation Failed!(Check Your Inputs)',\n",
       " 'Status': False}"
      ]
     },
     "execution_count": 21,
     "metadata": {},
     "output_type": "execute_result"
    }
   ],
   "source": [
    "Static_Analysis(InputMethod={},TestMode=True,PrintMode=False,ReportMode=True)"
   ]
  },
  {
   "cell_type": "markdown",
   "metadata": {},
   "source": [
    "## Parameters"
   ]
  },
  {
   "cell_type": "markdown",
   "metadata": {},
   "source": [
    "Inputs, Constants & Middle Values\n",
    "1. User : User Input\n",
    "2. System : Simulator Calculation (Middle Value)"
   ]
  },
  {
   "cell_type": "markdown",
   "metadata": {},
   "source": [
    "<table style=\"text-align:center;\">\n",
    "    <tr>\n",
    "        <td>$$Parameter$$</td>\n",
    "        <td>$$Description$$</td>\n",
    "        <td>$$Unit$$</td>\n",
    "        <td>$$Value$$</td>\n",
    "    </tr> \n",
    "    <tr>\n",
    "        <td>$$P_{H2}$$</td>\n",
    "        <td style=\"text-align:center;\">Partial Pressure</td>\n",
    "        <td>$$atm$$</td>\n",
    "        <td>$$User$$</td>\n",
    "    </tr>\n",
    "    <tr>\n",
    "        <td>$$P_{O2}$$</td>\n",
    "        <td style=\"text-align:center;\">Partial Pressure</td>\n",
    "        <td>$$atm$$</td>\n",
    "        <td>$$User$$</td>\n",
    "        \n",
    "    </tr>\n",
    "    <tr>\n",
    "        <td>$$T$$</td>\n",
    "        <td style=\"text-align:center;\">Cell Operation Temperature</td>\n",
    "        <td>$$K$$</td>\n",
    "        <td>$$User$$</td>\n",
    "    </tr>\n",
    "    <tr>\n",
    "        <td>$$l$$</td>\n",
    "        <td style=\"text-align:center;\">Membrane Thickness</td>\n",
    "        <td>$$cm$$</td>\n",
    "        <td>$$User$$</td>\n",
    "    </tr>\n",
    "    <tr>\n",
    "        <td>$$A$$</td>\n",
    "        <td style=\"text-align:center;\">Active area</td>\n",
    "        <td>$$cm^2$$</td>\n",
    "        <td>$$User$$</td>\n",
    "    </tr>\n",
    "         <tr>\n",
    "        <td>$$\\lambda$$</td>\n",
    "        <td style=\"text-align:center;\">An adjustable parameter with a possible minimum value of 14 and a maximum value of 23</td>\n",
    "        <td>$$--$$</td>\n",
    "        <td>$$User$$</td>\n",
    "    </tr>\n",
    "     <tr>\n",
    "        <td>$$J_{Max}$$</td>\n",
    "        <td style=\"text-align:center;\">Maximum current density of the cell</td>\n",
    "        <td>$$Acm^{-2}$$</td>\n",
    "        <td>$$User$$</td>\n",
    "    </tr>\n",
    "    \n",
    "          <tr>\n",
    "        <td>$$B$$</td>\n",
    "        <td style=\"text-align:center;\">An empirical constant depending on the cell and its operation state</td>\n",
    "        <td>$$V$$</td>\n",
    "        <td>$$User$$</td>\n",
    "    </tr>\n",
    "    \n",
    "              <tr>\n",
    "        <td>$$N$$</td>\n",
    "        <td style=\"text-align:center;\">Number of single cells</td>\n",
    "        <td>$$--$$</td>\n",
    "        <td>$$User$$</td>\n",
    "    </tr>\n",
    "    \n",
    "     <tr>\n",
    "        <td>$$R_{electronic}$$</td>\n",
    "        <td style=\"text-align:center;\">R-Electronic</td>\n",
    "        <td>$$\\Omega$$</td>\n",
    "        <td>$$User$$</td>\n",
    "    </tr>\n",
    "    \n",
    "    \n",
    "     <tr>\n",
    "        <td>$$i_{start}$$</td>\n",
    "        <td style=\"text-align:center;\">Cell operating current start point</td>\n",
    "        <td>$$A$$</td>\n",
    "        <td>$$User$$</td>\n",
    "    </tr>\n",
    "    \n",
    "    <tr>\n",
    "        <td>$$i_{step}$$</td>\n",
    "        <td style=\"text-align:center;\">Cell operating current step</td>\n",
    "        <td>$$A$$</td>\n",
    "        <td>$$User$$</td>\n",
    "    </tr>\n",
    "    \n",
    "    <tr>\n",
    "        <td>$$i_{stop}$$</td>\n",
    "        <td style=\"text-align:center;\">Cell operating current end point</td>\n",
    "        <td>$$A$$</td>\n",
    "        <td>$$User$$</td>\n",
    "    </tr>\n",
    "    \n",
    "    <tr>\n",
    "        <td>$$\\rho$$</td>\n",
    "        <td style=\"text-align:center;\">Membrane Specific Resistivity</td>\n",
    "        <td>$$\\Omega cm$$</td>\n",
    "        <td>$$System$$</td>\n",
    "    </tr>\n",
    "\n",
    "     <tr>\n",
    "        <td>$$J$$</td>\n",
    "        <td style=\"text-align:center;\">Actual current density of the cell </td>\n",
    "        <td>$$Acm^{-2}$$</td>\n",
    "        <td>$$System$$</td>\n",
    "    </tr> \n",
    "    \n",
    "    <tr>\n",
    "        <td>$$C_{O_2}$$</td>\n",
    "        <td style=\"text-align:center;\">Concentration of oxygen in the catalytic interface of the cathode</td>\n",
    "        <td>$$molcm^{-3}$$</td>\n",
    "        <td>$$System$$</td>\n",
    "    </tr> \n",
    "     <tr>\n",
    "        <td>$$C_{H_2}$$</td>\n",
    "        <td style=\"text-align:center;\">Concentration of hydrogen in the catalytic interface of the anode</td>\n",
    "        <td>$$molcm^{-3}$$</td>\n",
    "        <td>$$System$$</td>\n",
    "    </tr> \n",
    "    <tr>\n",
    "        <td>$$R_{Proton}$$</td>\n",
    "        <td style=\"text-align:center;\">Resistance to proton flow</td>\n",
    "        <td>$$\\Omega$$</td>\n",
    "        <td>$$System$$</td>\n",
    "    </tr> \n",
    "    \n",
    "     <tr>\n",
    "        <td>$$\\xi_2$$</td>\n",
    "        <td style=\"text-align:center;\">Parametric coefficients for cell model</td>\n",
    "        <td>$$--$$</td>\n",
    "        <td>$$System$$</td>\n",
    "    </tr> \n",
    "     <tr>\n",
    "        <td>$$\\xi_1$$</td>\n",
    "        <td style=\"text-align:center;\">Parametric coefficients for cell model</td>\n",
    "        <td>$$--$$</td>\n",
    "        <td>$$-0.948$$</td>\n",
    "    </tr> \n",
    "     <tr>\n",
    "        <td>$$\\xi_3$$</td>\n",
    "        <td style=\"text-align:center;\">Parametric coefficients for cell model</td>\n",
    "        <td>$$--$$</td>\n",
    "        <td>$$7.6\\times10^{-5}$$</td>\n",
    "    </tr> \n",
    "     <tr>\n",
    "        <td>$$\\xi_4$$</td>\n",
    "        <td style=\"text-align:center;\">Parametric coefficients for cell model</td>\n",
    "        <td>$$--$$</td>\n",
    "        <td>$$-1.93\\times10^{-4}$$</td>\n",
    "    </tr> \n",
    "          <tr>\n",
    "        <td>$$\\mu_F$$</td>\n",
    "        <td style=\"text-align:center;\">The fuel utilization</td>\n",
    "        <td>$$--$$</td>\n",
    "        <td>$$0.95$$</td>\n",
    "    </tr>\n",
    "          <tr>\n",
    "    <td>$$HHV$$</td>\n",
    "        <td style=\"text-align:center;\">Higher Heating Value Potential</td>\n",
    "        <td>$$V$$</td>\n",
    "        <td>$$1.482$$</td>\n",
    "    </tr>\n",
    "    \n",
    "          <tr>\n",
    "    <td>$$E_{th}$$</td>\n",
    "        <td style=\"text-align:center;\">Theoretical Potential</td>\n",
    "        <td>$$V$$</td>\n",
    "        <td>$$1.23$$</td>\n",
    "    </tr>\n",
    "     \n",
    "    \n",
    "    \n",
    "    \n",
    "</table>"
   ]
  },
  {
   "cell_type": "markdown",
   "metadata": {},
   "source": [
    "## Reference\n",
    "<blockquote>\n",
    "1-J. C. Amphlett, R. M. Baumert, R. F. Mann, B. A. Peppley, and P. R. Roberge. 1995. \"Performance Modeling of the Ballard Mark IV Solid Polymer Electrolyte Fuel Cell.\" J. Electrochem. Soc. (The Electrochemical Society, Inc.) 142 (1): 9-15. doi: 10.1149/1.2043959.\n",
    "</blockquote>\n",
    "<blockquote>\n",
    "2-Jeferson M. Correa, Felix A. Farret, Vladimir A. Popov, Marcelo G. Simoes. 2005. \"Sensitivity Analysis of the Modeling Parameters Used in Simulation of Proton Exchange Membrane Fuel Cells.\" IEEE Transactions on Energy Conversion (IEEE) 20 (1): 211-218. doi:10.1109/TEC.2004.842382.\n",
    "</blockquote>"
   ]
  }
 ],
 "metadata": {
  "kernelspec": {
   "display_name": "Python 3",
   "language": "python",
   "name": "python3"
  },
  "language_info": {
   "codemirror_mode": {
    "name": "ipython",
    "version": 3
   },
   "file_extension": ".py",
   "mimetype": "text/x-python",
   "name": "python",
   "nbconvert_exporter": "python",
   "pygments_lexer": "ipython3",
   "version": "3.5.2"
  }
 },
 "nbformat": 4,
 "nbformat_minor": 2
}
