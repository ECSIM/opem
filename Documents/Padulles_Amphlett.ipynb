{
 "cells": [
  {
   "cell_type": "markdown",
   "metadata": {},
   "source": [
    "#  Padulles-Amphlett Dynamic Model"
   ]
  },
  {
   "cell_type": "markdown",
   "metadata": {},
   "source": [
    "### Version 0.8"
   ]
  },
  {
   "cell_type": "markdown",
   "metadata": {},
   "source": [
    "<p style=\"text-align:justify;\">\n",
    "The Padulles dynamic model can predict the transient response of cell voltage, temperature of the cell, hydrogen/oxygen out flow rates and cathode and anode channel temperatures/pressures under sudden change in load current. Hence, a dynamic fuel cell simulation is developed in this model, which incorporates the dynamics of flow and pressure in the anode and cathode channels and mass/ heat transfer transient features in the fuel cell body.\n",
    "<br/>This model is based on several assumptions: \n",
    "<ol>    \n",
    "<li>The stack is fed with hydrogen and air</li>    \n",
    "<li>Cell temperature is stable at all times</li>   \n",
    "<li>The ratio of pressures between the interior and exterior of the electrode channels is large</li>  \n",
    "<li>The channels that transport gases along the electrodes have a fixed volume </li>    \n",
    "<li>Only source of voltage loss is ohmic polarization</li>     \n",
    "<li>Nernst equation can be applied too</li>  \n",
    "</ol>\n",
    "</p>"
   ]
  },
  {
   "cell_type": "markdown",
   "metadata": {},
   "source": [
    "<p style=\"text-align:justify;\">\n",
    "This model is an integration of Padulles-Hauer dynamic model with Amphlett static model. The advantage of this dynamic model is using Amphlett equation for simulating the polarization values. Amphlett model as the most complicated and preferable static model, but the most precise. Based on this model, the obtained polarization voltage is identical to the experimental results.  \n",
    "</p>    "
   ]
  },
  {
   "cell_type": "markdown",
   "metadata": {},
   "source": [
    "<div style=\"text-align:center;\">\n",
    "    \n",
    "<img src=\"images/Padulles-Amphlett-Diagram.jpg\">  \n",
    "<p style=\"text-align:center;\">Fig1. Padulles-Amphlett Dynamic Model Block Diagram </p>\n",
    "    \n",
    "</div>"
   ]
  },
  {
   "cell_type": "markdown",
   "metadata": {},
   "source": [
    "## Nernst Voltage"
   ]
  },
  {
   "cell_type": "markdown",
   "metadata": {},
   "source": [
    "$$E_{Nernst}=N_0\\times [E_0+\\frac{RT}{2F}ln(\\frac{P_{H_2}\\times \\sqrt{P_{O_2}}}{P_{H_2O}})]$$"
   ]
  },
  {
   "cell_type": "markdown",
   "metadata": {},
   "source": [
    "$$P_{H_2}=\\frac{\\frac{1}{K_{H_2}}}{1+\\tau_{H_2}^{(s)}}[(q_{H_2}^{(inlet)}-(2\\times K_r \\times i)]$$"
   ]
  },
  {
   "cell_type": "markdown",
   "metadata": {},
   "source": [
    "$$\\frac{q_{H_2}^{(inlet)}}{q_{methanol}}=\\frac{CV}{\\tau_{1}^{(s)}+(\\tau_{2}^{(s)})^2+(\\tau_{1}+\\tau_{2})^{(s)}+1}$$"
   ]
  },
  {
   "cell_type": "markdown",
   "metadata": {},
   "source": [
    "$$P_{O_2}=\\frac{\\frac{1}{K_{O_2}}}{1+\\tau_{O_2}^{(s)}}[(q_{O_2}^{(inlet)}-(K_r \\times i)]$$"
   ]
  },
  {
   "cell_type": "markdown",
   "metadata": {},
   "source": [
    "$$P_{H_2O}=\\frac{\\frac{1}{K_{H_2O}}}{1+\\tau_{H_2O}^{(s)}}[(q_{H_2O}^{(inlet)}-(2\\times K_r \\times i)]$$"
   ]
  },
  {
   "cell_type": "markdown",
   "metadata": {},
   "source": [
    "$$K_r=\\frac{N_0}{4F}$$"
   ]
  },
  {
   "cell_type": "markdown",
   "metadata": {},
   "source": [
    "$$q_{O_2}^{(inlet)}=\\frac{q_{H_2}^{(inlet)}}{r_{h-o}}$$"
   ]
  },
  {
   "cell_type": "markdown",
   "metadata": {},
   "source": [
    "$$q_{H_2O}^{(inlet)}=q_{H_2}^{(inlet)}$$"
   ]
  },
  {
   "cell_type": "code",
   "execution_count": 1,
   "metadata": {},
   "outputs": [],
   "source": [
    "from opem.Dynamic.Padulles_Amphlett import qH2_Calc,Kr_Calc,qO2_Calc,PH2_Calc,PO2_Calc,PH2O_Calc,Enernst_Calc"
   ]
  },
  {
   "cell_type": "code",
   "execution_count": 2,
   "metadata": {},
   "outputs": [
    {
     "data": {
      "text/plain": [
       "3.6363636363636364e-05"
      ]
     },
     "execution_count": 2,
     "metadata": {},
     "output_type": "execute_result"
    }
   ],
   "source": [
    "qH2=qH2_Calc(qMethanol=0.0002,CV=2,t1=2,t2=2)\n",
    "qH2"
   ]
  },
  {
   "cell_type": "code",
   "execution_count": 3,
   "metadata": {},
   "outputs": [
    {
     "data": {
      "text/plain": [
       "1.2955435375179044e-08"
      ]
     },
     "execution_count": 3,
     "metadata": {},
     "output_type": "execute_result"
    }
   ],
   "source": [
    "Kr=Kr_Calc(N0=5)\n",
    "Kr"
   ]
  },
  {
   "cell_type": "code",
   "execution_count": 4,
   "metadata": {},
   "outputs": [
    {
     "data": {
      "text/plain": [
       "3.113325031133251e-05"
      ]
     },
     "execution_count": 4,
     "metadata": {},
     "output_type": "execute_result"
    }
   ],
   "source": [
    "qO2=qO2_Calc(qH2=qH2,rho=1.168)\n",
    "qO2"
   ]
  },
  {
   "cell_type": "code",
   "execution_count": 5,
   "metadata": {},
   "outputs": [
    {
     "data": {
      "text/plain": [
       "0.19704428889827239"
      ]
     },
     "execution_count": 5,
     "metadata": {},
     "output_type": "execute_result"
    }
   ],
   "source": [
    "PH2=PH2_Calc(KH2=0.0000422,tH2=3.37,Kr=Kr,I=1,qH2=qH2)\n",
    "PH2"
   ]
  },
  {
   "cell_type": "code",
   "execution_count": 6,
   "metadata": {},
   "outputs": [
    {
     "data": {
      "text/plain": [
       "0.1905549730945132"
      ]
     },
     "execution_count": 6,
     "metadata": {},
     "output_type": "execute_result"
    }
   ],
   "source": [
    "PO2=PO2_Calc(KO2=0.0000211,tO2=6.74,Kr=Kr,I=1,qO2=qO2)\n",
    "PO2"
   ]
  },
  {
   "cell_type": "code",
   "execution_count": 7,
   "metadata": {},
   "outputs": [
    {
     "data": {
      "text/plain": [
       "0.2425275190047356"
      ]
     },
     "execution_count": 7,
     "metadata": {},
     "output_type": "execute_result"
    }
   ],
   "source": [
    "PH2O=PH2O_Calc(KH2O=0.000007716,tH2O=18.418,Kr=Kr,I=1,qH2O=qH2)\n",
    "PH2O"
   ]
  },
  {
   "cell_type": "code",
   "execution_count": 8,
   "metadata": {},
   "outputs": [
    {
     "data": {
      "text/plain": [
       "2.9234016588243374"
      ]
     },
     "execution_count": 8,
     "metadata": {},
     "output_type": "execute_result"
    }
   ],
   "source": [
    "Enernst=Enernst_Calc(E0=0.6,N0=5,T=343, PH2=PH2, PO2=PO2,PH2O=PH2O)\n",
    "Enernst"
   ]
  },
  {
   "cell_type": "markdown",
   "metadata": {},
   "source": [
    "## PEM Losses Model"
   ]
  },
  {
   "cell_type": "markdown",
   "metadata": {},
   "source": [
    "### Activation"
   ]
  },
  {
   "cell_type": "markdown",
   "metadata": {},
   "source": [
    "$$\\eta_{activation}=\\xi_{1}+\\xi_{2}T+\\xi_{3}T[ln(C_{O_{2}})]+\\xi_{4}T[ln(i)]$$"
   ]
  },
  {
   "cell_type": "markdown",
   "metadata": {},
   "source": [
    "$$\\xi_{1}=-0.948$$"
   ]
  },
  {
   "cell_type": "markdown",
   "metadata": {},
   "source": [
    "$$\\xi_{2}=0.00286+0.0002\\times ln(A)+(4.3\\times10^{-5})[ln(C_{H_{2}})]$$"
   ]
  },
  {
   "cell_type": "markdown",
   "metadata": {},
   "source": [
    "$$\\xi_{3}=7.6\\times10^{-5}$$"
   ]
  },
  {
   "cell_type": "markdown",
   "metadata": {},
   "source": [
    "$$\\xi_{4}=-1.93\\times10^{-4}$$"
   ]
  },
  {
   "cell_type": "markdown",
   "metadata": {},
   "source": [
    "$$C_{H_{2}}=\\frac{P_{H_2}}{1.09\\times10^{6}\\times exp(\\frac{77}{T})}$$"
   ]
  },
  {
   "cell_type": "markdown",
   "metadata": {},
   "source": [
    "$$C_{O_{2}}=\\frac{P_{O_2}}{5.08\\times10^{6}\\times exp(\\frac{-498}{T})}$$"
   ]
  },
  {
   "cell_type": "code",
   "execution_count": 9,
   "metadata": {},
   "outputs": [
    {
     "data": {
      "text/plain": [
       "0.38390602046791616"
      ]
     },
     "execution_count": 9,
     "metadata": {},
     "output_type": "execute_result"
    }
   ],
   "source": [
    "from opem.Dynamic.Padulles_Amphlett import Eta_Act_Calc\n",
    "Eta_Act=Eta_Act_Calc(T=343,PO2=PO2 , PH2=PH2, i=2, A=50.6)\n",
    "Eta_Act"
   ]
  },
  {
   "cell_type": "markdown",
   "metadata": {},
   "source": [
    "### Ohmic"
   ]
  },
  {
   "cell_type": "markdown",
   "metadata": {},
   "source": [
    "$$\\eta_{ohmic}=i(R_{electronic}+R_{Proton})$$"
   ]
  },
  {
   "cell_type": "markdown",
   "metadata": {},
   "source": [
    "$$R_{Proton}=\\frac{\\rho_m\\times I}{A}$$"
   ]
  },
  {
   "cell_type": "markdown",
   "metadata": {},
   "source": [
    "$$\\rho_m=\\frac{181.6[1+0.03(\\frac{i}{A})+0.062(\\frac{T}{303})^2(\\frac{i}{A})^{2.5}]}{[\\lambda-0.634-3(\\frac{i}{A})]exp[4.18(\\frac{T-303}{T})]}$$"
   ]
  },
  {
   "cell_type": "markdown",
   "metadata": {},
   "source": [
    "* `Relectronic` Should be approximately constant over the relatively narrow\n",
    "temperature range of PEM fuel cell operation.\n",
    "Therefore, the parameter Relectronic can be taken as a constant, but\n",
    "is generally difficult to predict and, therefore, is initially an unknown."
   ]
  },
  {
   "cell_type": "code",
   "execution_count": 10,
   "metadata": {},
   "outputs": [
    {
     "data": {
      "text/plain": [
       "0.003531492225469087"
      ]
     },
     "execution_count": 10,
     "metadata": {},
     "output_type": "execute_result"
    }
   ],
   "source": [
    "from opem.Dynamic.Padulles_Amphlett import Eta_Ohmic_Calc\n",
    "Eta_Ohmic=Eta_Ohmic_Calc(i=2, l=0.0178, A=50.6, T=343, lambda_param=23, R_elec=0)\n",
    "Eta_Ohmic"
   ]
  },
  {
   "cell_type": "markdown",
   "metadata": {},
   "source": [
    "### Concentration"
   ]
  },
  {
   "cell_type": "markdown",
   "metadata": {},
   "source": [
    "$$\\eta_{Concentration}=-B\\times ln(1-\\frac{J}{J_{Max}})$$"
   ]
  },
  {
   "cell_type": "markdown",
   "metadata": {},
   "source": [
    "$$J=\\frac{i}{A}$$"
   ]
  },
  {
   "cell_type": "markdown",
   "metadata": {},
   "source": [
    "$$J_{Max}=\\frac{i_L}{A}$$"
   ]
  },
  {
   "cell_type": "code",
   "execution_count": 11,
   "metadata": {},
   "outputs": [
    {
     "data": {
      "text/plain": [
       "0.0004272617031588504"
      ]
     },
     "execution_count": 11,
     "metadata": {},
     "output_type": "execute_result"
    }
   ],
   "source": [
    "from opem.Dynamic.Padulles_Amphlett import Eta_Conc_Calc\n",
    "Eta_Conc=Eta_Conc_Calc(i=2, A=50.6, B=0.016, JMax=1.5)\n",
    "Eta_Conc"
   ]
  },
  {
   "cell_type": "markdown",
   "metadata": {},
   "source": [
    "### FC Voltage"
   ]
  },
  {
   "cell_type": "markdown",
   "metadata": {},
   "source": [
    "$$Loss=\\eta_{Activation}+\\eta_{Ohmic}+\\eta_{Concentration}$$"
   ]
  },
  {
   "cell_type": "markdown",
   "metadata": {},
   "source": [
    "$$V_{Fuelcell}=E_{Nernst}-N_0\\times Loss$$"
   ]
  },
  {
   "cell_type": "code",
   "execution_count": 12,
   "metadata": {},
   "outputs": [
    {
     "data": {
      "text/plain": [
       "0.38786477439654415"
      ]
     },
     "execution_count": 12,
     "metadata": {},
     "output_type": "execute_result"
    }
   ],
   "source": [
    "from opem.Dynamic.Padulles_Amphlett import Loss_Calc,Vcell_Calc\n",
    "Loss=Loss_Calc(Eta_Act=Eta_Act,Eta_Conc=Eta_Conc,Eta_Ohmic=Eta_Ohmic)\n",
    "Loss"
   ]
  },
  {
   "cell_type": "code",
   "execution_count": 13,
   "metadata": {},
   "outputs": [
    {
     "data": {
      "text/plain": [
       "0.9840777868416166"
      ]
     },
     "execution_count": 13,
     "metadata": {},
     "output_type": "execute_result"
    }
   ],
   "source": [
    "FC_Voltage=Vcell_Calc(Enernst=Enernst, Loss=Loss, N=5)\n",
    "FC_Voltage"
   ]
  },
  {
   "cell_type": "markdown",
   "metadata": {},
   "source": [
    "## Power Of PEMFC"
   ]
  },
  {
   "cell_type": "markdown",
   "metadata": {},
   "source": [
    "$$P=V_{cell}\\times i$$"
   ]
  },
  {
   "cell_type": "markdown",
   "metadata": {},
   "source": [
    "$$P_{Thermal}=i\\times(N \\times E_{th}-V_{Stack})$$"
   ]
  },
  {
   "cell_type": "markdown",
   "metadata": {},
   "source": [
    "$$E_{th}=\\frac{-\\Delta H}{nF}=1.23V$$"
   ]
  },
  {
   "cell_type": "code",
   "execution_count": 14,
   "metadata": {},
   "outputs": [
    {
     "data": {
      "text/plain": [
       "1.9681555736832332"
      ]
     },
     "execution_count": 14,
     "metadata": {},
     "output_type": "execute_result"
    }
   ],
   "source": [
    "from opem.Dynamic.Padulles_Amphlett import Power_Calc,Power_Thermal_Calc\n",
    "Power=Power_Calc(Vcell=FC_Voltage,i=2)\n",
    "Power"
   ]
  },
  {
   "cell_type": "code",
   "execution_count": 15,
   "metadata": {},
   "outputs": [
    {
     "data": {
      "text/plain": [
       "10.331844426316767"
      ]
     },
     "execution_count": 15,
     "metadata": {},
     "output_type": "execute_result"
    }
   ],
   "source": [
    "Power_Thermal_Calc(VStack=FC_Voltage,N=5,i=2)"
   ]
  },
  {
   "cell_type": "markdown",
   "metadata": {},
   "source": [
    "## Efficiency of PEMFC"
   ]
  },
  {
   "cell_type": "markdown",
   "metadata": {},
   "source": [
    "$$\\eta=\\frac{\\mu_F\\times V_{Fuelcell}}{N_0\\times HHV}$$"
   ]
  },
  {
   "cell_type": "code",
   "execution_count": 16,
   "metadata": {},
   "outputs": [
    {
     "data": {
      "text/plain": [
       "0.1261638188258483"
      ]
     },
     "execution_count": 16,
     "metadata": {},
     "output_type": "execute_result"
    }
   ],
   "source": [
    "from opem.Dynamic.Padulles_Amphlett import Efficiency_Calc\n",
    "Efficiency_Calc(Vcell=FC_Voltage,N=5)"
   ]
  },
  {
   "cell_type": "markdown",
   "metadata": {},
   "source": [
    "## Linear Approximation"
   ]
  },
  {
   "cell_type": "markdown",
   "metadata": {},
   "source": [
    "Sometimes quick calculations regarding fuel cell efficiency–power-size relationships need to be made. Linear approximation is a good method to find a rough estimate of the value of polarization function at a particular point. A linear polarization curve has the following form:\n",
    "$$V_{cell}=V_0-kI$$\n",
    "where V0 is the intercept (actual open circuit voltage is always higher) and k is the slope of the curve.\n",
    "\n",
    "* Notice : <a href=\"https://en.wikipedia.org/wiki/Simple_linear_regression\">Simple linear regression</a> used for this approximation"
   ]
  },
  {
   "cell_type": "markdown",
   "metadata": {},
   "source": [
    "<table style=\"text-align:center;\">\n",
    "    <tr>\n",
    "        <td>$$Parameter$$</td>\n",
    "        <td>$$Description$$</td>\n",
    "        <td>$$Unit$$</td>\n",
    "    </tr> \n",
    "    <tr>\n",
    "        <td>$$V_0$$</td>\n",
    "        <td style=\"text-align:center;\">Intercept of the curve obtained by linear approximation</td>\n",
    "        <td>$$V$$</td>\n",
    "    </tr>\n",
    "    <tr>\n",
    "        <td>$$k$$</td>\n",
    "        <td style=\"text-align:center;\">Slope of the curve obtained by linear approximation</td>\n",
    "        <td>$$A^{-1}$$</td>\n",
    "    </tr>\n",
    "    <tr>\n",
    "        <td>$$P_{max}$$</td>\n",
    "        <td style=\"text-align:center;\">Maximum power obtained by linear approximation</td>\n",
    "        <td>$$W$$</td>\n",
    "    </tr>\n",
    "    <tr>\n",
    "        <td>$$V_{FC}|P_{max}$$</td>\n",
    "        <td style=\"text-align:center;\">Cell voltage at maximum power obtained by linear approximation</td>\n",
    "        <td>$$V$$</td>\n",
    "    </tr>\n",
    "   \n",
    "     \n",
    "    \n",
    "    \n",
    "    \n",
    "</table>"
   ]
  },
  {
   "cell_type": "markdown",
   "metadata": {},
   "source": [
    "* Notice : These parameters are only available in HTML report"
   ]
  },
  {
   "cell_type": "markdown",
   "metadata": {},
   "source": [
    "## Overall Parameters"
   ]
  },
  {
   "cell_type": "markdown",
   "metadata": {},
   "source": [
    "<table style=\"text-align:center;\">\n",
    "    <tr>\n",
    "        <td>$$Parameter$$</td>\n",
    "        <td>$$Description$$</td>\n",
    "        <td>$$Unit$$</td>\n",
    "    </tr> \n",
    "    <tr>\n",
    "        <td>$$\\eta|P_{Max}$$</td>\n",
    "        <td style=\"text-align:center;\">Cell efficiency at maximum power</td>\n",
    "        <td>$$--$$</td>\n",
    "    </tr>\n",
    "    <tr>\n",
    "        <td>$$P_{Max}$$</td>\n",
    "        <td style=\"text-align:center;\">Maximum power </td>\n",
    "        <td>$$W$$</td>\n",
    "    </tr>\n",
    "    <tr>\n",
    "        <td>$$P_{Elec} $$</td>\n",
    "        <td style=\"text-align:center;\">Total electrical power </td>\n",
    "        <td>$$W$$</td>\n",
    "    </tr>\n",
    "    <tr>\n",
    "        <td>$$P_{Thermal} $$</td>\n",
    "        <td style=\"text-align:center;\">Total thermal power   </td>\n",
    "        <td>$$W$$</td>\n",
    "    </tr>\n",
    "    <tr>\n",
    "        <td>$$V_{FC}|P_{Max}$$</td>\n",
    "        <td style=\"text-align:center;\">Cell voltage at maximum power </td>\n",
    "        <td>$$V$$</td>\n",
    "    </tr>\n",
    "   \n",
    "     \n",
    "    \n",
    "    \n",
    "    \n",
    "</table>"
   ]
  },
  {
   "cell_type": "markdown",
   "metadata": {},
   "source": [
    "* Notice : P(Thermal) & P(Elec) calculated by <a href=\"https://en.wikipedia.org/wiki/Simpson%27s_rule\">Simpson's Rule</a>\n",
    "\n",
    "* Notice : These parameters are only available in HTML report"
   ]
  },
  {
   "cell_type": "markdown",
   "metadata": {},
   "source": [
    "## Full Run"
   ]
  },
  {
   "cell_type": "markdown",
   "metadata": {},
   "source": [
    "* Run from `i`=0 to `i`=4 with `step`=0.1"
   ]
  },
  {
   "cell_type": "code",
   "execution_count": 17,
   "metadata": {
    "scrolled": true
   },
   "outputs": [],
   "source": [
    "Test_Vector={\"A\":50.6,\"l\":0.0178,\"lambda\":23,\"JMax\":1.5,\"T\":343,\"E0\":1.229,\"N0\":5,\"KO2\":0.0000211,\"KH2\":0.0000422,\"KH2O\":0.000007716,\"tH2\":3.37,\"tO2\":6.74,\"t1\":2,\"t2\":2,\"tH2O\":18.418,\"B\":0.016,\"R\":0,\"rho\":1.168,\"qMethanol\":0.0002,\"CV\":2,\"i-start\":0.1,\"i-stop\":4,\"i-step\":0.1,\"Name\":\"Test\"}"
   ]
  },
  {
   "cell_type": "code",
   "execution_count": 18,
   "metadata": {},
   "outputs": [
    {
     "data": {
      "text/plain": [
       "{'EFF': [0.6589193654570529,\n",
       "  0.629377818863534,\n",
       "  0.6120440436878553,\n",
       "  0.5997083306020967,\n",
       "  0.5901112348363035,\n",
       "  0.582246339352968,\n",
       "  0.5755767905806046,\n",
       "  0.5697821347125663,\n",
       "  0.564655672412507,\n",
       "  0.5600562707690275,\n",
       "  0.5558832653691355,\n",
       "  0.5520623292851136,\n",
       "  0.548537017783373,\n",
       "  0.5452634554373536,\n",
       "  0.5422068606479247,\n",
       "  0.539339194118889,\n",
       "  0.5366375214822406,\n",
       "  0.5340828446480225,\n",
       "  0.5316592495454955,\n",
       "  0.5293532727253193,\n",
       "  0.5271534226603188,\n",
       "  0.5250498125090778,\n",
       "  0.5230338745789967,\n",
       "  0.5210981356038789,\n",
       "  0.5192360379260482,\n",
       "  0.5174417957708685,\n",
       "  0.5157102786607133,\n",
       "  0.5140369160418929,\n",
       "  0.5124176186550433,\n",
       "  0.5108487132409738,\n",
       "  0.5093268879567676,\n",
       "  0.5078491464607577,\n",
       "  0.5064127690649867,\n",
       "  0.5050152796886153,\n",
       "  0.503654417602863,\n",
       "  0.5023281131572472,\n",
       "  0.501034466832334,\n",
       "  0.4997717310865285,\n",
       "  0.49853829456127663],\n",
       " 'I': [0.1,\n",
       "  0.2,\n",
       "  0.3,\n",
       "  0.4,\n",
       "  0.5,\n",
       "  0.6,\n",
       "  0.7,\n",
       "  0.8,\n",
       "  0.9,\n",
       "  1.0,\n",
       "  1.1,\n",
       "  1.2,\n",
       "  1.3,\n",
       "  1.4,\n",
       "  1.5,\n",
       "  1.6,\n",
       "  1.7,\n",
       "  1.8,\n",
       "  1.9,\n",
       "  2.0,\n",
       "  2.1,\n",
       "  2.2,\n",
       "  2.3,\n",
       "  2.4,\n",
       "  2.5,\n",
       "  2.6,\n",
       "  2.7,\n",
       "  2.8,\n",
       "  2.9,\n",
       "  3.0,\n",
       "  3.1,\n",
       "  3.2,\n",
       "  3.3,\n",
       "  3.4,\n",
       "  3.5,\n",
       "  3.6,\n",
       "  3.7,\n",
       "  3.8,\n",
       "  3.9],\n",
       " 'K': -0.24141814874622033,\n",
       " 'P': [0.5139571050565013,\n",
       "  0.9818293974271133,\n",
       "  1.4321830622295815,\n",
       "  1.871089991478542,\n",
       "  2.3014338158615835,\n",
       "  2.72491286817189,\n",
       "  3.142649276570101,\n",
       "  3.555440520606415,\n",
       "  3.9638828203358005,\n",
       "  4.368438911998416,\n",
       "  4.769478416867183,\n",
       "  5.167303402108664,\n",
       "  5.562165360323403,\n",
       "  5.954276933375901,\n",
       "  6.343820269580719,\n",
       "  6.7309531426037355,\n",
       "  7.115813534854511,\n",
       "  7.4985231388582365,\n",
       "  7.8791900782642434,\n",
       "  8.257911054514981,\n",
       "  8.634773063176024,\n",
       "  9.009854782655777,\n",
       "  9.383227709947201,\n",
       "  9.754957098504613,\n",
       "  10.12510273955794,\n",
       "  10.493719618233213,\n",
       "  10.860858468594623,\n",
       "  11.226566246354942,\n",
       "  11.590886533977079,\n",
       "  11.953859889838787,\n",
       "  12.315524150794642,\n",
       "  12.675914695660513,\n",
       "  13.035064675732759,\n",
       "  13.393005217342077,\n",
       "  13.74976560055816,\n",
       "  14.105373417455501,\n",
       "  14.459854712781162,\n",
       "  14.813234109404705,\n",
       "  15.165534920554036],\n",
       " 'PH2': [0.19717074233280188,\n",
       "  0.1971566919511875,\n",
       "  0.19714264156957312,\n",
       "  0.19712859118795872,\n",
       "  0.19711454080634436,\n",
       "  0.19710049042472996,\n",
       "  0.19708644004311557,\n",
       "  0.19707238966150117,\n",
       "  0.19705833927988675,\n",
       "  0.19704428889827239,\n",
       "  0.197030238516658,\n",
       "  0.1970161881350436,\n",
       "  0.19700213775342923,\n",
       "  0.19698808737181484,\n",
       "  0.19697403699020044,\n",
       "  0.19695998660858605,\n",
       "  0.19694593622697168,\n",
       "  0.19693188584535729,\n",
       "  0.1969178354637429,\n",
       "  0.19690378508212852,\n",
       "  0.19688973470051413,\n",
       "  0.19687568431889974,\n",
       "  0.19686163393728537,\n",
       "  0.19684758355567097,\n",
       "  0.19683353317405658,\n",
       "  0.19681948279244216,\n",
       "  0.19680543241082776,\n",
       "  0.1967913820292134,\n",
       "  0.196777331647599,\n",
       "  0.1967632812659846,\n",
       "  0.19674923088437024,\n",
       "  0.19673518050275585,\n",
       "  0.19672113012114145,\n",
       "  0.19670707973952706,\n",
       "  0.1966930293579127,\n",
       "  0.1966789789762983,\n",
       "  0.1966649285946839,\n",
       "  0.19665087821306954,\n",
       "  0.19663682783145514],\n",
       " 'PH2O': [0.2426831613626925,\n",
       "  0.24266586776736396,\n",
       "  0.24264857417203542,\n",
       "  0.24263128057670688,\n",
       "  0.24261398698137834,\n",
       "  0.2425966933860498,\n",
       "  0.24257939979072127,\n",
       "  0.24256210619539273,\n",
       "  0.24254481260006414,\n",
       "  0.2425275190047356,\n",
       "  0.24251022540940706,\n",
       "  0.24249293181407852,\n",
       "  0.24247563821874998,\n",
       "  0.24245834462342142,\n",
       "  0.24244105102809288,\n",
       "  0.24242375743276434,\n",
       "  0.2424064638374358,\n",
       "  0.24238917024210727,\n",
       "  0.24237187664677873,\n",
       "  0.2423545830514502,\n",
       "  0.24233728945612165,\n",
       "  0.2423199958607931,\n",
       "  0.24230270226546458,\n",
       "  0.242285408670136,\n",
       "  0.24226811507480747,\n",
       "  0.2422508214794789,\n",
       "  0.24223352788415034,\n",
       "  0.2422162342888218,\n",
       "  0.24219894069349326,\n",
       "  0.24218164709816473,\n",
       "  0.2421643535028362,\n",
       "  0.24214705990750765,\n",
       "  0.2421297663121791,\n",
       "  0.24211247271685057,\n",
       "  0.24209517912152204,\n",
       "  0.2420778855261935,\n",
       "  0.24206059193086493,\n",
       "  0.2420432983355364,\n",
       "  0.24202600474020786],\n",
       " 'PO2': [0.1906263686382979,\n",
       "  0.1906184358000996,\n",
       "  0.1906105029619013,\n",
       "  0.19060257012370302,\n",
       "  0.1905946372855047,\n",
       "  0.1905867044473064,\n",
       "  0.19057877160910808,\n",
       "  0.1905708387709098,\n",
       "  0.19056290593271147,\n",
       "  0.1905549730945132,\n",
       "  0.19054704025631486,\n",
       "  0.19053910741811658,\n",
       "  0.19053117457991825,\n",
       "  0.19052324174171997,\n",
       "  0.19051530890352164,\n",
       "  0.19050737606532336,\n",
       "  0.19049944322712503,\n",
       "  0.19049151038892673,\n",
       "  0.19048357755072845,\n",
       "  0.19047564471253012,\n",
       "  0.19046771187433184,\n",
       "  0.1904597790361335,\n",
       "  0.19045184619793523,\n",
       "  0.1904439133597369,\n",
       "  0.19043598052153862,\n",
       "  0.1904280476833403,\n",
       "  0.190420114845142,\n",
       "  0.19041218200694368,\n",
       "  0.1904042491687454,\n",
       "  0.19039631633054707,\n",
       "  0.1903883834923488,\n",
       "  0.19038045065415046,\n",
       "  0.19037251781595219,\n",
       "  0.19036458497775385,\n",
       "  0.19035665213955555,\n",
       "  0.19034871930135727,\n",
       "  0.19034078646315894,\n",
       "  0.19033285362496066,\n",
       "  0.19032492078676233],\n",
       " 'Ph': [0.10104289494349877,\n",
       "  0.2481706025728869,\n",
       "  0.41281693777041856,\n",
       "  0.5889100085214584,\n",
       "  0.7735661841384167,\n",
       "  0.9650871318281099,\n",
       "  1.162350723429899,\n",
       "  1.3645594793935858,\n",
       "  1.5711171796642,\n",
       "  1.7815610880015846,\n",
       "  1.9955215831328177,\n",
       "  2.212696597891336,\n",
       "  2.4328346396765976,\n",
       "  2.6557230666240987,\n",
       "  2.881179730419282,\n",
       "  3.1090468573962653,\n",
       "  3.339186465145489,\n",
       "  3.5714768611417647,\n",
       "  3.8058099217357566,\n",
       "  4.04208894548502,\n",
       "  4.280226936823977,\n",
       "  4.520145217344226,\n",
       "  4.761772290052799,\n",
       "  5.005042901495387,\n",
       "  5.24989726044206,\n",
       "  5.4962803817667885,\n",
       "  5.744141531405379,\n",
       "  5.993433753645058,\n",
       "  6.244113466022921,\n",
       "  6.496140110161214,\n",
       "  6.74947584920536,\n",
       "  7.0040853043394895,\n",
       "  7.259935324267242,\n",
       "  7.516994782657924,\n",
       "  7.775234399441842,\n",
       "  8.034626582544501,\n",
       "  8.29514528721884,\n",
       "  8.556765890595296,\n",
       "  8.819465079445965],\n",
       " 'Status': True,\n",
       " 'V': [5.139571050565013,\n",
       "  4.909146987135566,\n",
       "  4.773943540765272,\n",
       "  4.677724978696355,\n",
       "  4.602867631723167,\n",
       "  4.54152144695315,\n",
       "  4.489498966528716,\n",
       "  4.444300650758018,\n",
       "  4.404314244817556,\n",
       "  4.368438911998416,\n",
       "  4.335889469879257,\n",
       "  4.306086168423887,\n",
       "  4.27858873871031,\n",
       "  4.253054952411358,\n",
       "  4.229213513053812,\n",
       "  4.2068457141273345,\n",
       "  4.185772667561477,\n",
       "  4.165846188254576,\n",
       "  4.146942146454865,\n",
       "  4.1289555272574905,\n",
       "  4.1117966967504875,\n",
       "  4.095388537570807,\n",
       "  4.0796642217161745,\n",
       "  4.0645654577102555,\n",
       "  4.050041095823176,\n",
       "  4.036046007012774,\n",
       "  4.022540173553564,\n",
       "  4.009487945126765,\n",
       "  3.996857425509338,\n",
       "  3.9846199632795956,\n",
       "  3.9727497260627875,\n",
       "  3.96122334239391,\n",
       "  3.9500195987068967,\n",
       "  3.9391191815711992,\n",
       "  3.9285044573023313,\n",
       "  3.918159282626528,\n",
       "  3.9080688412922058,\n",
       "  3.8982195024749227,\n",
       "  3.888598697577958],\n",
       " 'V0': 4.698328442367755}"
      ]
     },
     "execution_count": 18,
     "metadata": {},
     "output_type": "execute_result"
    }
   ],
   "source": [
    "from opem.Dynamic.Padulles_Amphlett import Dynamic_Analysis\n",
    "Dynamic_Analysis(InputMethod=Test_Vector,TestMode=True,PrintMode=False,ReportMode=True)"
   ]
  },
  {
   "cell_type": "markdown",
   "metadata": {},
   "source": [
    "* Notice : \"Status\", \"V0\", \"K\" and \"EFF\" , new in version 0.8"
   ]
  },
  {
   "cell_type": "code",
   "execution_count": 19,
   "metadata": {},
   "outputs": [
    {
     "name": "stdout",
     "output_type": "stream",
     "text": [
      "###########\n",
      "Padulles-Amphlett-Model Simulation\n",
      "###########\n",
      "Analyzing . . .\n",
      "I : 0.1\n",
      "E : 6.0684154992732005 V\n",
      "Eta Activation : 0.18557231242539243 V\n",
      "Eta Concentration : 2.109426805213159e-05 V\n",
      "Eta Ohmic : 0.00017548304819292376 V\n",
      "FC Efficiency : 0.6589193654570529 \n",
      "FC Power : 0.5139571050565013 W\n",
      "FC Voltage : 5.139571050565013 V\n",
      "Loss : 0.1857688897416375 V\n",
      "PH2 : 0.19717074233280188 atm\n",
      "PH2O : 0.2426831613626925 atm\n",
      "PO2 : 0.1906263686382979 atm\n",
      "Power-Thermal : 0.10104289494349877 W\n",
      "###########\n",
      "I : 0.2\n",
      "E : 6.068413961701556 V\n",
      "Eta Activation : 0.23146009851376736 V\n",
      "Eta Concentration : 4.221638333089875e-05 V\n",
      "Eta Ohmic : 0.0003510800160998837 V\n",
      "FC Efficiency : 0.629377818863534 \n",
      "FC Power : 0.9818293974271133 W\n",
      "FC Voltage : 4.909146987135566 V\n",
      "Loss : 0.23185339491319815 V\n",
      "PH2 : 0.1971566919511875 atm\n",
      "PH2O : 0.24266586776736396 atm\n",
      "PO2 : 0.1906184358000996 atm\n",
      "Power-Thermal : 0.2481706025728869 W\n",
      "###########\n",
      "I : 0.3\n",
      "E : 6.068412424065923 V\n",
      "Eta Activation : 0.2583036192079603 V\n",
      "Eta Concentration : 6.336641945755048e-05 V\n",
      "Eta Ohmic : 0.0005267910327125488 V\n",
      "FC Efficiency : 0.6120440436878553 \n",
      "FC Power : 1.4321830622295815 W\n",
      "FC Voltage : 4.773943540765272 V\n",
      "Loss : 0.25889377666013036 V\n",
      "PH2 : 0.19714264156957312 atm\n",
      "PH2O : 0.24264857417203542 atm\n",
      "PO2 : 0.1906105029619013 atm\n",
      "Power-Thermal : 0.41281693777041856 W\n",
      "###########\n",
      "I : 0.4\n",
      "E : 6.068410886366294 V\n",
      "Eta Activation : 0.27735002084480426 V\n",
      "Eta Concentration : 8.454445034568427e-05 V\n",
      "Eta Ohmic : 0.0007026162388380664 V\n",
      "FC Efficiency : 0.5997083306020967 \n",
      "FC Power : 1.871089991478542 W\n",
      "FC Voltage : 4.677724978696355 V\n",
      "Loss : 0.278137181533988 V\n",
      "PH2 : 0.19712859118795872 atm\n",
      "PH2O : 0.24263128057670688 atm\n",
      "PO2 : 0.19060257012370302 atm\n",
      "Power-Thermal : 0.5889100085214584 W\n",
      "###########\n",
      "I : 0.5\n",
      "E : 6.068409348602667 V\n",
      "Eta Activation : 0.2921240370409447 V\n",
      "Eta Concentration : 0.00010575055020278165 V\n",
      "Eta Ohmic : 0.0008785557847524419 V\n",
      "FC Efficiency : 0.5901112348363035 \n",
      "FC Power : 2.3014338158615835 W\n",
      "FC Voltage : 4.602867631723167 V\n",
      "Loss : 0.2931083433758999 V\n",
      "PH2 : 0.19711454080634436 atm\n",
      "PH2O : 0.24261398698137834 atm\n",
      "PO2 : 0.1905946372855047 atm\n",
      "Power-Thermal : 0.7735661841384167 W\n",
      "###########\n",
      "I : 0.6\n",
      "E : 6.0684078107750326 V\n",
      "Eta Activation : 0.3041956781419353 V\n",
      "Eta Concentration : 0.00012698479353178086 V\n",
      "Eta Ohmic : 0.0010546098289093816 V\n",
      "FC Efficiency : 0.582246339352968 \n",
      "FC Power : 2.72491286817189 W\n",
      "FC Voltage : 4.54152144695315 V\n",
      "Loss : 0.3053772727643765 V\n",
      "PH2 : 0.19710049042472996 atm\n",
      "PH2O : 0.2425966933860498 atm\n",
      "PO2 : 0.1905867044473064 atm\n",
      "Power-Thermal : 0.9650871318281099 W\n",
      "###########\n",
      "I : 0.7\n",
      "E : 6.068406272883388 V\n",
      "Eta Activation : 0.31440243547871893 V\n",
      "Eta Concentration : 0.000148247255132642 V\n",
      "Eta Ohmic : 0.0012307785370829418 V\n",
      "FC Efficiency : 0.5755767905806046 \n",
      "FC Power : 3.142649276570101 W\n",
      "FC Voltage : 4.489498966528716 V\n",
      "Loss : 0.3157814612709345 V\n",
      "PH2 : 0.19708644004311557 atm\n",
      "PH2O : 0.24257939979072127 atm\n",
      "PO2 : 0.19057877160910808 atm\n",
      "Power-Thermal : 1.162350723429899 W\n",
      "###########\n",
      "I : 0.8\n",
      "E : 6.068404734927729 V\n",
      "Eta Activation : 0.3232442167420945 V\n",
      "Eta Concentration : 0.00016953801010392253 V\n",
      "Eta Ohmic : 0.0014070620817435461 V\n",
      "FC Efficiency : 0.5697821347125663 \n",
      "FC Power : 3.555440520606415 W\n",
      "FC Voltage : 4.444300650758018 V\n",
      "Loss : 0.32482081683394204 V\n",
      "PH2 : 0.19707238966150117 atm\n",
      "PH2O : 0.24256210619539273 atm\n",
      "PO2 : 0.1905708387709098 atm\n",
      "Power-Thermal : 1.3645594793935858 W\n",
      "###########\n",
      "I : 0.9\n",
      "E : 6.068403196908046 V\n",
      "Eta Activation : 0.3310434726426763 V\n",
      "Eta Concentration : 0.00019085713384438152 V\n",
      "Eta Ohmic : 0.0015834606415773538 V\n",
      "FC Efficiency : 0.564655672412507 \n",
      "FC Power : 3.9638828203358005 W\n",
      "FC Voltage : 4.404314244817556 V\n",
      "Loss : 0.332817790418098 V\n",
      "PH2 : 0.19705833927988675 atm\n",
      "PH2O : 0.24254481260006414 atm\n",
      "PO2 : 0.19056290593271147 atm\n",
      "Power-Thermal : 1.5711171796642 W\n",
      "###########\n",
      "I : 1.0\n",
      "E : 6.068401658824337 V\n",
      "Eta Activation : 0.33802037026202836 V\n",
      "Eta Concentration : 0.00021220470205456714 V\n",
      "Eta Ohmic : 0.0017599744011013664 V\n",
      "FC Efficiency : 0.5600562707690275 \n",
      "FC Power : 4.368438911998416 W\n",
      "FC Voltage : 4.368438911998416 V\n",
      "Loss : 0.3399925493651843 V\n",
      "PH2 : 0.19704428889827239 atm\n",
      "PH2O : 0.2425275190047356 atm\n",
      "PO2 : 0.1905549730945132 atm\n",
      "Power-Thermal : 1.7815610880015846 W\n",
      "###########\n",
      "I : 1.1\n",
      "E : 6.068400120676597 V\n",
      "Eta Activation : 0.3443319458183834 V\n",
      "Eta Concentration : 0.0002335807907384422 V\n",
      "Eta Ohmic : 0.0019366035503462617 V\n",
      "FC Efficiency : 0.5558832653691355 \n",
      "FC Power : 4.769478416867183 W\n",
      "FC Voltage : 4.335889469879257 V\n",
      "Loss : 0.34650213015946807 V\n",
      "PH2 : 0.197030238516658 atm\n",
      "PH2O : 0.24251022540940706 atm\n",
      "PO2 : 0.19054704025631486 atm\n",
      "Power-Thermal : 1.9955215831328177 W\n",
      "###########\n",
      "I : 1.2\n",
      "E : 6.068398582464819 V\n",
      "Eta Activation : 0.35009414904739194 V\n",
      "Eta Concentration : 0.00025498547620500224 V\n",
      "Eta Ohmic : 0.002113348284589288 V\n",
      "FC Efficiency : 0.5520623292851136 \n",
      "FC Power : 5.167303402108664 W\n",
      "FC Voltage : 4.306086168423887 V\n",
      "Loss : 0.35246248280818626 V\n",
      "PH2 : 0.1970161881350436 atm\n",
      "PH2O : 0.24249293181407852 atm\n",
      "PO2 : 0.19053910741811658 atm\n",
      "Power-Thermal : 2.212696597891336 W\n",
      "###########\n",
      "I : 1.3\n",
      "E : 6.068397044188998 V\n",
      "Eta Activation : 0.35539503345654255 V\n",
      "Eta Concentration : 0.0002764188350699048 V\n",
      "Eta Ohmic : 0.0022902088041253615 V\n",
      "FC Efficiency : 0.548537017783373 \n",
      "FC Power : 5.562165360323403 W\n",
      "FC Voltage : 4.27858873871031 V\n",
      "Loss : 0.3579616610957378 V\n",
      "PH2 : 0.19700213775342923 atm\n",
      "PH2O : 0.24247563821874998 atm\n",
      "PO2 : 0.19053117457991825 atm\n",
      "Power-Thermal : 2.4328346396765976 W\n",
      "###########\n",
      "I : 1.4\n",
      "E : 6.06839550584913 V\n",
      "Eta Activation : 0.36030304442922906 V\n",
      "Eta Concentration : 0.00029788094425712723 V\n",
      "Eta Ohmic : 0.0024671853140681515 V\n",
      "FC Efficiency : 0.5452634554373536 \n",
      "FC Power : 5.954276933375901 W\n",
      "FC Voltage : 4.253054952411358 V\n",
      "Loss : 0.36306811068755435 V\n",
      "PH2 : 0.19698808737181484 atm\n",
      "PH2O : 0.24245834462342142 atm\n",
      "PO2 : 0.19052324174171997 atm\n",
      "Power-Thermal : 2.6557230666240987 W\n",
      "###########\n",
      "I : 1.5\n",
      "E : 6.068393967445208 V\n",
      "Eta Activation : 0.3648724409731032 V\n",
      "Eta Concentration : 0.00031937188100060893 V\n",
      "Eta Ohmic : 0.002644278024175193 V\n",
      "FC Efficiency : 0.5422068606479247 \n",
      "FC Power : 6.343820269580719 W\n",
      "FC Voltage : 4.229213513053812 V\n",
      "Loss : 0.367836090878279 V\n",
      "PH2 : 0.19697403699020044 atm\n",
      "PH2O : 0.24244105102809288 atm\n",
      "PO2 : 0.19051530890352164 atm\n",
      "Power-Thermal : 2.881179730419282 W\n",
      "###########\n",
      "I : 1.6\n",
      "E : 6.068392428977227 V\n",
      "Eta Activation : 0.36914696409844006 V\n",
      "Eta Concentration : 0.0003408917228459314 V\n",
      "Eta Ohmic : 0.0028214871486926026 V\n",
      "FC Efficiency : 0.539339194118889 \n",
      "FC Power : 6.7309531426037355 W\n",
      "FC Voltage : 4.2068457141273345 V\n",
      "Loss : 0.3723093429699786 V\n",
      "PH2 : 0.19695998660858605 atm\n",
      "PH2O : 0.24242375743276434 atm\n",
      "PO2 : 0.19050737606532336 atm\n",
      "Power-Thermal : 3.1090468573962653 W\n",
      "###########\n",
      "I : 1.7\n",
      "E : 6.068390890445182 V\n",
      "Eta Activation : 0.3731623911228729 V\n",
      "Eta Concentration : 0.00036244054765199196 V\n",
      "Eta Ohmic : 0.0029988129062160497 V\n",
      "FC Efficiency : 0.5366375214822406 \n",
      "FC Power : 7.115813534854511 W\n",
      "FC Voltage : 4.185772667561477 V\n",
      "Loss : 0.376523644576741 V\n",
      "PH2 : 0.19694593622697168 atm\n",
      "PH2O : 0.2424064638374358 atm\n",
      "PO2 : 0.19049944322712503 atm\n",
      "Power-Thermal : 3.339186465145489 W\n",
      "###########\n",
      "I : 1.8\n",
      "E : 6.068389351849069 V\n",
      "Eta Activation : 0.3769483587657406 V\n",
      "Eta Concentration : 0.00038401843359268825 V\n",
      "Eta Ohmic : 0.003176255519565377 V\n",
      "FC Efficiency : 0.5340828446480225 \n",
      "FC Power : 7.4985231388582365 W\n",
      "FC Voltage : 4.165846188254576 V\n",
      "Loss : 0.3805086327188987 V\n",
      "PH2 : 0.19693188584535729 atm\n",
      "PH2O : 0.24238917024210727 atm\n",
      "PO2 : 0.19049151038892673 atm\n",
      "Power-Thermal : 3.5714768611417647 W\n",
      "###########\n",
      "I : 1.9\n",
      "E : 6.068387813188879 V\n",
      "Eta Activation : 0.38052969267197334 V\n",
      "Eta Concentration : 0.00040562545915863245 V\n",
      "Eta Ohmic : 0.0033538152156708046 V\n",
      "FC Efficiency : 0.5316592495454955 \n",
      "FC Power : 7.8791900782642434 W\n",
      "FC Voltage : 4.146942146454865 V\n",
      "Loss : 0.38428913334680276 V\n",
      "PH2 : 0.1969178354637429 atm\n",
      "PH2O : 0.24237187664677873 atm\n",
      "PO2 : 0.19048357755072845 atm\n",
      "Power-Thermal : 3.8058099217357566 W\n",
      "###########\n",
      "I : 2.0\n",
      "E : 6.0683862744646095 V\n",
      "Eta Activation : 0.3839273955127959 V\n",
      "Eta Concentration : 0.0004272617031588504 V\n",
      "Eta Ohmic : 0.003531492225469087 V\n",
      "FC Efficiency : 0.5293532727253193 \n",
      "FC Power : 8.257911054514981 W\n",
      "FC Voltage : 4.1289555272574905 V\n",
      "Loss : 0.3878861494414239 V\n",
      "PH2 : 0.19690378508212852 atm\n",
      "PH2O : 0.2423545830514502 atm\n",
      "PO2 : 0.19047564471253012 atm\n",
      "Power-Thermal : 4.04208894548502 W\n",
      "###########\n",
      "I : 2.1\n",
      "E : 6.068384735676256 V\n",
      "Eta Activation : 0.38715939375662295 V\n",
      "Eta Concentration : 0.00044892724472251814 V\n",
      "Eta Ohmic : 0.0037092867838082735 V\n",
      "FC Efficiency : 0.5271534226603188 \n",
      "FC Power : 8.634773063176024 W\n",
      "FC Voltage : 4.1117966967504875 V\n",
      "Loss : 0.39131760778515373 V\n",
      "PH2 : 0.19688973470051413 atm\n",
      "PH2O : 0.24233728945612165 atm\n",
      "PO2 : 0.19046771187433184 atm\n",
      "Power-Thermal : 4.280226936823977 W\n",
      "###########\n",
      "I : 2.2\n",
      "E : 6.068383196823811 V\n",
      "Eta Activation : 0.39024111055794025 V\n",
      "Eta Concentration : 0.00047062216330069346 V\n",
      "Eta Ohmic : 0.0038871991293599716 V\n",
      "FC Efficiency : 0.5250498125090778 \n",
      "FC Power : 9.009854782655777 W\n",
      "FC Voltage : 4.095388537570807 V\n",
      "Loss : 0.3945989318506009 V\n",
      "PH2 : 0.19687568431889974 atm\n",
      "PH2O : 0.2423199958607931 atm\n",
      "PO2 : 0.1904597790361335 atm\n",
      "Power-Thermal : 4.520145217344226 W\n",
      "###########\n",
      "I : 2.3\n",
      "E : 6.068381657907269 V\n",
      "Eta Activation : 0.39318591119501267 V\n",
      "Eta Concentration : 0.0004923465386680586 V\n",
      "Eta Ohmic : 0.004065229504538212 V\n",
      "FC Efficiency : 0.5230338745789967 \n",
      "FC Power : 9.383227709947201 W\n",
      "FC Voltage : 4.0796642217161745 V\n",
      "Loss : 0.3977434872382189 V\n",
      "PH2 : 0.19686163393728537 atm\n",
      "PH2O : 0.24230270226546458 atm\n",
      "PO2 : 0.19045184619793523 atm\n",
      "Power-Thermal : 4.761772290052799 W\n",
      "###########\n",
      "I : 2.4\n",
      "E : 6.068380118926627 V\n",
      "Eta Activation : 0.3960054536369255 V\n",
      "Eta Concentration : 0.0005141004509246927 V\n",
      "Eta Ohmic : 0.004243378155424144 V\n",
      "FC Efficiency : 0.5210981356038789 \n",
      "FC Power : 9.754957098504613 W\n",
      "FC Voltage : 4.0645654577102555 V\n",
      "Loss : 0.40076293224327436 V\n",
      "PH2 : 0.19684758355567097 atm\n",
      "PH2O : 0.242285408670136 atm\n",
      "PO2 : 0.1904439133597369 atm\n",
      "Power-Thermal : 5.005042901495387 W\n",
      "###########\n",
      "I : 2.5\n",
      "E : 6.068378579881878 V\n",
      "Eta Activation : 0.39870996749954657 V\n",
      "Eta Concentration : 0.0005358839804978295 V\n",
      "Eta Ohmic : 0.00442164533169592 V\n",
      "FC Efficiency : 0.5192360379260482 \n",
      "FC Power : 10.12510273955794 W\n",
      "FC Voltage : 4.050041095823176 V\n",
      "Loss : 0.4036674968117403 V\n",
      "PH2 : 0.19683353317405658 atm\n",
      "PH2O : 0.24226811507480747 atm\n",
      "PO2 : 0.19043598052153862 atm\n",
      "Power-Thermal : 5.24989726044206 W\n",
      "###########\n",
      "I : 2.6\n",
      "E : 6.068377040773017 V\n",
      "Eta Activation : 0.40130847825734167 V\n",
      "Eta Concentration : 0.0005576972081436541 V\n",
      "Eta Ohmic : 0.004600031286563196 V\n",
      "FC Efficiency : 0.5174417957708685 \n",
      "FC Power : 10.493719618233213 W\n",
      "FC Voltage : 4.036046007012774 V\n",
      "Loss : 0.40646620675204853 V\n",
      "PH2 : 0.19681948279244216 atm\n",
      "PH2O : 0.2422508214794789 atm\n",
      "PO2 : 0.1904280476833403 atm\n",
      "Power-Thermal : 5.4962803817667885 W\n",
      "###########\n",
      "I : 2.7\n",
      "E : 6.068375501600038 V\n",
      "Eta Activation : 0.4038089891176398 V\n",
      "Eta Concentration : 0.0005795402149490941 V\n",
      "Eta Ohmic : 0.004778536276705824 V\n",
      "FC Efficiency : 0.5157102786607133 \n",
      "FC Power : 10.860858468594623 W\n",
      "FC Voltage : 4.022540173553564 V\n",
      "Loss : 0.4091670656092947 V\n",
      "PH2 : 0.19680543241082776 atm\n",
      "PH2O : 0.24223352788415034 atm\n",
      "PO2 : 0.190420114845142 atm\n",
      "Power-Thermal : 5.744141531405379 W\n",
      "###########\n",
      "I : 2.8\n",
      "E : 6.068373962362936 V\n",
      "Eta Activation : 0.40621862980268425 V\n",
      "Eta Concentration : 0.0006014130823336223 V\n",
      "Eta Ohmic : 0.004957160562216277 V\n",
      "FC Efficiency : 0.5140369160418929 \n",
      "FC Power : 11.226566246354942 W\n",
      "FC Voltage : 4.009487945126765 V\n",
      "Loss : 0.4117772034472342 V\n",
      "PH2 : 0.1967913820292134 atm\n",
      "PH2O : 0.2422162342888218 atm\n",
      "PO2 : 0.19041218200694368 atm\n",
      "Power-Thermal : 5.993433753645058 W\n",
      "###########\n",
      "I : 2.9\n",
      "E : 6.068372423061707 V\n",
      "Eta Activation : 0.4085437792118771 V\n",
      "Eta Concentration : 0.0006233158920510905 V\n",
      "Eta Ohmic : 0.005135904406545483 V\n",
      "FC Efficiency : 0.5124176186550433 \n",
      "FC Power : 11.590886533977079 W\n",
      "FC Voltage : 3.996857425509338 V\n",
      "Loss : 0.4143029995104737 V\n",
      "PH2 : 0.196777331647599 atm\n",
      "PH2O : 0.24219894069349326 atm\n",
      "PO2 : 0.1904042491687454 atm\n",
      "Power-Thermal : 6.244113466022921 W\n",
      "###########\n",
      "I : 3.0\n",
      "E : 6.0683708836963435 V\n",
      "Eta Activation : 0.4107901672807063 V\n",
      "Eta Concentration : 0.0006452487261915484 V\n",
      "Eta Ohmic : 0.005314768076451755 V\n",
      "FC Efficiency : 0.5108487132409738 \n",
      "FC Power : 11.953859889838787 W\n",
      "FC Voltage : 3.9846199632795956 V\n",
      "Loss : 0.4167501840833496 V\n",
      "PH2 : 0.1967632812659846 atm\n",
      "PH2O : 0.24218164709816473 atm\n",
      "PO2 : 0.19039631633054707 atm\n",
      "Power-Thermal : 6.496140110161214 W\n",
      "###########\n",
      "I : 3.1\n",
      "E : 6.068369344266841 V\n",
      "Eta Activation : 0.4129629601316751 V\n",
      "Eta Concentration : 0.0006672116671831024 V\n",
      "Eta Ohmic : 0.0054937518419525275 V\n",
      "FC Efficiency : 0.5093268879567676 \n",
      "FC Power : 12.315524150794642 W\n",
      "FC Voltage : 3.9727497260627875 V\n",
      "Loss : 0.41912392364081075 V\n",
      "PH2 : 0.19674923088437024 atm\n",
      "PH2O : 0.2421643535028362 atm\n",
      "PO2 : 0.1903883834923488 atm\n",
      "Power-Thermal : 6.74947584920536 W\n",
      "###########\n",
      "I : 3.2\n",
      "E : 6.068367804773196 V\n",
      "Eta Activation : 0.41506683170178466 V\n",
      "Eta Concentration : 0.0006892047977937692 V\n",
      "Eta Ohmic : 0.005672855976278701 V\n",
      "FC Efficiency : 0.5078491464607577 \n",
      "FC Power : 12.675914695660513 W\n",
      "FC Voltage : 3.96122334239391 V\n",
      "Loss : 0.42142889247585713 V\n",
      "PH2 : 0.19673518050275585 atm\n",
      "PH2O : 0.24214705990750765 atm\n",
      "PO2 : 0.19038045065415046 atm\n",
      "Power-Thermal : 7.0040853043394895 W\n",
      "###########\n",
      "I : 3.3\n",
      "E : 6.0683662652154 V\n",
      "Eta Activation : 0.417106024344736 V\n",
      "Eta Concentration : 0.0007112282011333409 V\n",
      "Eta Ohmic : 0.005852080755831333 V\n",
      "FC Efficiency : 0.5064127690649867 \n",
      "FC Power : 13.035064675732759 W\n",
      "FC Voltage : 3.9500195987068967 V\n",
      "Loss : 0.42366933330170065 V\n",
      "PH2 : 0.19672113012114145 atm\n",
      "PH2O : 0.2421297663121791 atm\n",
      "PO2 : 0.19037251781595219 atm\n",
      "Power-Thermal : 7.259935324267242 W\n",
      "###########\n",
      "I : 3.4\n",
      "E : 6.06836472559345 V\n",
      "Eta Activation : 0.4190844003836543 V\n",
      "Eta Concentration : 0.0007332819606552831 V\n",
      "Eta Ohmic : 0.0060314264601405215 V\n",
      "FC Efficiency : 0.5050152796886153 \n",
      "FC Power : 13.393005217342077 W\n",
      "FC Voltage : 3.9391191815711992 V\n",
      "Loss : 0.42584910880445015 V\n",
      "PH2 : 0.19670707973952706 atm\n",
      "PH2O : 0.24211247271685057 atm\n",
      "PO2 : 0.19036458497775385 atm\n",
      "Power-Thermal : 7.516994782657924 W\n",
      "###########\n",
      "I : 3.5\n",
      "E : 6.068363185907339 V\n",
      "Eta Activation : 0.42100548618901656 V\n",
      "Eta Concentration : 0.0007553661601586168 V\n",
      "Eta Ohmic : 0.006210893371826288 V\n",
      "FC Efficiency : 0.503654417602863 \n",
      "FC Power : 13.74976560055816 W\n",
      "FC Voltage : 3.9285044573023313 V\n",
      "Loss : 0.4279717457210015 V\n",
      "PH2 : 0.1966930293579127 atm\n",
      "PH2O : 0.24209517912152204 atm\n",
      "PO2 : 0.19035665213955555 atm\n",
      "Power-Thermal : 7.775234399441842 W\n",
      "###########\n",
      "I : 3.6\n",
      "E : 6.068361646157063 V\n",
      "Eta Activation : 0.4228725100457559 V\n",
      "Eta Concentration : 0.000777480883789843 V\n",
      "Eta Ohmic : 0.006390481776561363 V\n",
      "FC Efficiency : 0.5023281131572472 \n",
      "FC Power : 14.105373417455501 W\n",
      "FC Voltage : 3.918159282626528 V\n",
      "Loss : 0.43004047270610707 V\n",
      "PH2 : 0.1966789789762983 atm\n",
      "PH2O : 0.2420778855261935 atm\n",
      "PO2 : 0.19034871930135727 atm\n",
      "Power-Thermal : 8.034626582544501 W\n",
      "###########\n",
      "I : 3.7\n",
      "E : 6.068360106342617 V\n",
      "Eta Activation : 0.4246884348310017 V\n",
      "Eta Concentration : 0.0007996262160448594 V\n",
      "Eta Ohmic : 0.00657019196303564 V\n",
      "FC Efficiency : 0.501034466832334 \n",
      "FC Power : 14.459854712781162 W\n",
      "FC Voltage : 3.9080688412922058 V\n",
      "Loss : 0.4320582530100822 V\n",
      "PH2 : 0.1966649285946839 atm\n",
      "PH2O : 0.24206059193086493 atm\n",
      "PO2 : 0.19034078646315894 atm\n",
      "Power-Thermal : 8.29514528721884 W\n",
      "###########\n",
      "I : 3.8\n",
      "E : 6.068358566463993 V\n",
      "Eta Activation : 0.4264559863331208 V\n",
      "Eta Concentration : 0.0008218022417708932 V\n",
      "Eta Ohmic : 0.006750024222922298 V\n",
      "FC Efficiency : 0.4997717310865285 \n",
      "FC Power : 14.813234109404705 W\n",
      "FC Voltage : 3.8982195024749227 V\n",
      "Loss : 0.43402781279781405 V\n",
      "PH2 : 0.19665087821306954 atm\n",
      "PH2O : 0.2420432983355364 atm\n",
      "PO2 : 0.19033285362496066 atm\n",
      "Power-Thermal : 8.556765890595296 W\n",
      "###########\n",
      "I : 3.9\n",
      "E : 6.068357026521189 V\n",
      "Eta Activation : 0.42817767789163225 V\n",
      "Eta Concentration : 0.0008440090461684635 V\n",
      "Eta Ohmic : 0.006929978850845375 V\n",
      "FC Efficiency : 0.49853829456127663 \n",
      "FC Power : 15.165534920554036 W\n",
      "FC Voltage : 3.888598697577958 V\n",
      "Loss : 0.4359516657886461 V\n",
      "PH2 : 0.19663682783145514 atm\n",
      "PH2O : 0.24202600474020786 atm\n",
      "PO2 : 0.19032492078676233 atm\n",
      "Power-Thermal : 8.819465079445965 W\n",
      "###########\n",
      "Done!\n"
     ]
    }
   ],
   "source": [
    "Data=Dynamic_Analysis(InputMethod=Test_Vector,TestMode=True,PrintMode=True,ReportMode=True)"
   ]
  },
  {
   "cell_type": "markdown",
   "metadata": {},
   "source": [
    "* Notice : \"PrintMode\" & \"ReportMode\" , new in version 0.5"
   ]
  },
  {
   "cell_type": "code",
   "execution_count": 20,
   "metadata": {},
   "outputs": [
    {
     "data": {
      "text/plain": [
       "{'Message': '[Error] Padulles-Amphlett Simulation Failed!(Check Your Inputs)',\n",
       " 'Status': False}"
      ]
     },
     "execution_count": 20,
     "metadata": {},
     "output_type": "execute_result"
    }
   ],
   "source": [
    "Dynamic_Analysis(InputMethod={},TestMode=True,PrintMode=False,ReportMode=True)"
   ]
  },
  {
   "cell_type": "markdown",
   "metadata": {},
   "source": [
    "## Parameters"
   ]
  },
  {
   "cell_type": "markdown",
   "metadata": {},
   "source": [
    "Inputs, Constants & Middle Values\n",
    "1. User : User Input\n",
    "2. System : Simulator Calculation (Middle Value)"
   ]
  },
  {
   "cell_type": "markdown",
   "metadata": {},
   "source": [
    "<table style=\"text-align:center;\">\n",
    "    <tr>\n",
    "        <td>$$Parameter$$</td>\n",
    "        <td>$$Description$$</td>\n",
    "        <td>$$Unit$$</td>\n",
    "        <td>$$Value$$</td>\n",
    "    </tr> \n",
    "    <tr>\n",
    "        <td>$$T$$</td>\n",
    "        <td style=\"text-align:center;\">FuelCell temperature</td>\n",
    "        <td>$$K$$</td>\n",
    "        <td>$$User$$</td>\n",
    "    </tr>\n",
    "    <tr>\n",
    "        <td>$$N_0$$</td>\n",
    "        <td style=\"text-align:center;\">Number of cells</td>\n",
    "        <td>$$--$$</td>\n",
    "        <td>$$User$$</td>\n",
    "    </tr>\n",
    "    <tr>\n",
    "        <td>$$E_0$$</td>\n",
    "        <td style=\"text-align:center;\">No load voltage</td>\n",
    "        <td>$$V$$</td>\n",
    "        <td>$$User$$</td>\n",
    "    </tr>\n",
    "    <tr>\n",
    "        <td>$$K_{H_2}$$</td>\n",
    "        <td style=\"text-align:center;\">Hydrogen valve constant</td>\n",
    "        <td>$$kmol.s^{-1}.atm^{-1}$$</td>\n",
    "        <td>$$User$$</td>\n",
    "    </tr>\n",
    "    <tr>\n",
    "        <td>$$K_{H_2O}$$</td>\n",
    "        <td style=\"text-align:center;\">Water valve constant</td>\n",
    "        <td>$$kmol.s^{-1}.atm^{-1}$$</td>\n",
    "        <td>$$User$$</td>\n",
    "    </tr>\n",
    "    <tr>\n",
    "        <td>$$K_{O_2}$$</td>\n",
    "        <td style=\"text-align:center;\">Oxygen valve constant</td>\n",
    "        <td>$$kmol.s^{-1}.atm^{-1}$$</td>\n",
    "        <td>$$User$$</td>\n",
    "    </tr>\n",
    "    <tr>\n",
    "        <td>$$\\tau_{H_2}^{(s)}$$</td>\n",
    "        <td style=\"text-align:center;\">Hydrogen time constant</td>\n",
    "        <td>$$s$$</td>\n",
    "        <td>$$User$$</td>\n",
    "    </tr>\n",
    "     <tr>\n",
    "        <td>$$\\tau_{H_2O}^{(s)}$$</td>\n",
    "        <td style=\"text-align:center;\">Water time constant</td>\n",
    "        <td>$$s$$</td>\n",
    "        <td>$$User$$</td>\n",
    "    </tr>\n",
    "    <tr>\n",
    "        <td>$$\\tau_{O_2}^{(s)}$$</td>\n",
    "        <td style=\"text-align:center;\">Oxygen time constant</td>\n",
    "        <td>$$s$$</td>\n",
    "        <td>$$User$$</td>\n",
    "    </tr>\n",
    "    <tr>\n",
    "        <td>$$l$$</td>\n",
    "        <td style=\"text-align:center;\">Membrane Thickness</td>\n",
    "        <td>$$cm$$</td>\n",
    "        <td>$$User$$</td>\n",
    "    </tr>\n",
    "    <tr>\n",
    "        <td>$$A$$</td>\n",
    "        <td style=\"text-align:center;\">Active area</td>\n",
    "        <td>$$cm^2$$</td>\n",
    "        <td>$$User$$</td>\n",
    "    </tr>\n",
    "    <tr>\n",
    "        <td>$$\\tau_{1}^{(s)}$$</td>\n",
    "        <td style=\"text-align:center;\">Reformer time constant</td>\n",
    "        <td>$$s$$</td>\n",
    "        <td>$$User$$</td>\n",
    "    </tr>\n",
    "    <tr>\n",
    "        <td>$$\\tau_{2}^{(s)}$$</td>\n",
    "        <td style=\"text-align:center;\">Reformer time constant</td>\n",
    "        <td>$$s$$</td>\n",
    "        <td>$$User$$</td>\n",
    "    </tr>\n",
    "    <tr>\n",
    "        <td>$$CV$$</td>\n",
    "        <td style=\"text-align:center;\">Conversion factor</td>\n",
    "        <td>$$--$$</td>\n",
    "        <td>$$User$$</td>\n",
    "    </tr>\n",
    "    <tr>\n",
    "        <td>$$B$$</td>\n",
    "        <td style=\"text-align:center;\">An empirical constant\n",
    "depending on the cell and its\n",
    "operation state</td>\n",
    "        <td>$$V$$</td>\n",
    "        <td>$$User$$</td>\n",
    "    </tr>\n",
    "      <tr>\n",
    "        <td>$$R_{electronic}$$</td>\n",
    "        <td style=\"text-align:center;\">R-Electronic</td>\n",
    "        <td>$$\\Omega$$</td>\n",
    "        <td>$$User$$</td>\n",
    "    </tr>\n",
    "     <tr>\n",
    "        <td>$$\\lambda$$</td>\n",
    "        <td style=\"text-align:center;\">An adjustable parameter with a possible minimum value of 14 and a maximum value of 23</td>\n",
    "        <td>$$--$$</td>\n",
    "        <td>$$User$$</td>\n",
    "    </tr>\n",
    "     <tr>\n",
    "        <td>$$J_{Max}$$</td>\n",
    "        <td style=\"text-align:center;\">Maximum current density of the cell</td>\n",
    "        <td>$$Acm^{-2}$$</td>\n",
    "        <td>$$User$$</td>\n",
    "    </tr>\n",
    "      <tr>\n",
    "        <td>$$r_{h-o}$$</td>\n",
    "        <td style=\"text-align:center;\">Hydrogen-oxygen flow ratio</td>\n",
    "        <td>$$--$$</td>\n",
    "        <td>$$User$$</td>\n",
    "    </tr>\n",
    "       <tr>\n",
    "        <td>$$q_{methanol}$$</td>\n",
    "        <td style=\"text-align:center;\">Molar flow of methanol</td>\n",
    "        <td>$$kmol.s^{-1}$$</td>\n",
    "        <td>$$User$$</td>\n",
    "     <tr>\n",
    "        <td>$$i_{start}$$</td>\n",
    "        <td style=\"text-align:center;\">Cell operating current start point</td>\n",
    "        <td>$$A$$</td>\n",
    "        <td>$$User$$</td>\n",
    "    </tr>\n",
    "    <tr>\n",
    "        <td>$$i_{step}$$</td>\n",
    "        <td style=\"text-align:center;\">Cell operating current step</td>\n",
    "        <td>$$A$$</td>\n",
    "        <td>$$User$$</td>\n",
    "    </tr>\n",
    "    <tr>\n",
    "        <td>$$i_{stop}$$</td>\n",
    "        <td style=\"text-align:center;\">Cell operating current end point</td>\n",
    "        <td>$$A$$</td>\n",
    "        <td>$$User$$</td>\n",
    "    </tr>\n",
    "     <tr>\n",
    "        <td>$$P_{H_2}$$</td>\n",
    "        <td style=\"text-align:center;\">Hydrogen partial pressure</td>\n",
    "        <td>$$atm$$</td>\n",
    "        <td>$$System$$</td>\n",
    "    </tr>\n",
    "     <tr>\n",
    "        <td>$$P_{H_2O}$$</td>\n",
    "        <td style=\"text-align:center;\">Water partial pressure</td>\n",
    "        <td>$$atm$$</td>\n",
    "        <td>$$System$$</td>\n",
    "    </tr>\n",
    "     <tr>\n",
    "        <td>$$P_{O_2}$$</td>\n",
    "        <td style=\"text-align:center;\">Oxygen partial pressure</td>\n",
    "        <td>$$atm$$</td>\n",
    "        <td>$$System$$</td>\n",
    "    </tr>\n",
    "     <tr>\n",
    "        <td>$$K_r$$</td>\n",
    "        <td style=\"text-align:center;\">Modeling constant</td>\n",
    "        <td>$$kmol.s^{-1}.A^{-1}$$</td>\n",
    "        <td>$$System$$</td>\n",
    "    </tr>\n",
    "      <tr>\n",
    "        <td>$$q_{O_2}^{(inlet)}$$</td>\n",
    "        <td style=\"text-align:center;\">Molar flow of oxygen</td>\n",
    "        <td>$$kmol.s^{-1}$$</td>\n",
    "        <td>$$System$$</td>\n",
    "    </tr>\n",
    "     <tr>\n",
    "        <td>$$q_{H_2O}^{(inlet)}$$</td>\n",
    "        <td style=\"text-align:center;\">Molar flow of water</td>\n",
    "        <td>$$kmol.s^{-1}$$</td>\n",
    "        <td>$$System$$</td>\n",
    "    </tr>\n",
    "    <tr>\n",
    "        <td>$$q_{H_2}^{(inlet)}$$</td>\n",
    "        <td style=\"text-align:center;\">Molar flow of hydrogen</td>\n",
    "        <td>$$kmol.s^{-1}$$</td>\n",
    "        <td>$$System$$</td>\n",
    "    </tr>\n",
    "    <tr>\n",
    "        <td>$$J$$</td>\n",
    "        <td style=\"text-align:center;\">Actual current density of the cell </td>\n",
    "        <td>$$Acm^{-2}$$</td>\n",
    "        <td>$$System$$</td>\n",
    "    </tr> \n",
    "    <tr>\n",
    "        <td>$$C_{O_2}$$</td>\n",
    "        <td style=\"text-align:center;\">Concentration of oxygen in the catalytic interface of the cathode</td>\n",
    "        <td>$$molcm^{-3}$$</td>\n",
    "        <td>$$System$$</td>\n",
    "    </tr> \n",
    "     <tr>\n",
    "        <td>$$C_{H_2}$$</td>\n",
    "        <td style=\"text-align:center;\">Concentration of hydrogen in the catalytic interface of the anode</td>\n",
    "        <td>$$molcm^{-3}$$</td>\n",
    "        <td>$$System$$</td>\n",
    "    </tr> \n",
    "    <tr>\n",
    "        <td>$$R_{Proton}$$</td>\n",
    "        <td style=\"text-align:center;\">Resistance to proton flow</td>\n",
    "        <td>$$\\Omega$$</td>\n",
    "        <td>$$System$$</td>\n",
    "    </tr> \n",
    "     <tr>\n",
    "        <td>$$\\xi_2$$</td>\n",
    "        <td style=\"text-align:center;\">Parametric coefficients for cell model</td>\n",
    "        <td>$$--$$</td>\n",
    "        <td>$$System$$</td>\n",
    "    </tr> \n",
    "     <tr>\n",
    "        <td>$$\\xi_1$$</td>\n",
    "        <td style=\"text-align:center;\">Parametric coefficients for cell model</td>\n",
    "        <td>$$--$$</td>\n",
    "        <td>$$-0.948$$</td>\n",
    "    </tr> \n",
    "     <tr>\n",
    "        <td>$$\\xi_3$$</td>\n",
    "        <td style=\"text-align:center;\">Parametric coefficients for cell model</td>\n",
    "        <td>$$--$$</td>\n",
    "        <td>$$7.6\\times10^{-5}$$</td>\n",
    "    </tr> \n",
    "     <tr>\n",
    "        <td>$$\\xi_4$$</td>\n",
    "        <td style=\"text-align:center;\">Parametric coefficients for cell model</td>\n",
    "        <td>$$--$$</td>\n",
    "        <td>$$-1.93\\times10^{-4}$$</td>\n",
    "    </tr>\n",
    "               <tr>\n",
    "        <td>$$\\mu_F$$</td>\n",
    "        <td style=\"text-align:center;\">The fuel utilization</td>\n",
    "        <td>$$--$$</td>\n",
    "        <td>$$0.95$$</td>\n",
    "    </tr>\n",
    "          <tr>\n",
    "    <td>$$HHV$$</td>\n",
    "        <td style=\"text-align:center;\">Higher Heating Value Potential</td>\n",
    "        <td>$$V$$</td>\n",
    "        <td>$$1.482$$</td>\n",
    "    </tr>\n",
    "             <tr>\n",
    "    <td>$$R$$</td>\n",
    "        <td style=\"text-align:center;\">Universal gas constant</td>\n",
    "        <td>$$J.kmol^{-1}.K^{-1}$$</td>\n",
    "        <td>$$8314.47$$</td>\n",
    "    </tr>\n",
    "             <tr>\n",
    "    <td>$$F$$</td>\n",
    "        <td style=\"text-align:center;\">Faraday’s constant</td>\n",
    "        <td>$$C.kmol^{-1}$$</td>\n",
    "        <td>$$96484600$$</td>\n",
    "    </tr>\n",
    "    <tr>\n",
    "    <td>$$E_{th}$$</td>\n",
    "        <td style=\"text-align:center;\">Theoretical Potential</td>\n",
    "        <td>$$V$$</td>\n",
    "        <td>$$1.23$$</td>\n",
    "    </tr>\n",
    "    \n",
    "    \n",
    "    \n",
    "</table>"
   ]
  },
  {
   "cell_type": "markdown",
   "metadata": {},
   "source": [
    "* $$q_{H_2}=q_{H_2O}$$"
   ]
  },
  {
   "cell_type": "markdown",
   "metadata": {},
   "source": [
    "## Reference\n",
    "<blockquote>\n",
    "1- J. Padulles, G.W. Ault, J.R. McDonald. 2000. \"An integrated SOFC plant dynamic model for power systems\n",
    "simulation.\" Journal of Power Sources (Elsevier) 86 (1-2): 495-500. doi:10.1016/S0378-7753(99)00430-9\n",
    "</blockquote>\n",
    "<blockquote>\n",
    "2- Hauer, K.-H. 2001. \"Analysis tool for fuel cell vehicle hardware and software (controls) with an application\n",
    "to fuel economy comparisons of alternative system designs.\" Ph.D. dissertation, Transportation Technology\n",
    "and Policy, University of California Davis.\n",
    "</blockquote>\n",
    "<blockquote>\n",
    "3- J. C. Amphlett, R. M. Baumert, R. F. Mann, B. A. Peppley, and P. R. Roberge. 1995. \"Performance Modeling\n",
    "of the Ballard Mark IV Solid Polymer Electrolyte Fuel Cell.\" J. Electrochem. Soc. (The Electrochemical Society,\n",
    "Inc.) 142 (1): 9-15. doi: 10.1149/1.2043959.\n",
    "</blockquote>"
   ]
  }
 ],
 "metadata": {
  "kernelspec": {
   "display_name": "Python 3",
   "language": "python",
   "name": "python3"
  },
  "language_info": {
   "codemirror_mode": {
    "name": "ipython",
    "version": 3
   },
   "file_extension": ".py",
   "mimetype": "text/x-python",
   "name": "python",
   "nbconvert_exporter": "python",
   "pygments_lexer": "ipython3",
   "version": "3.5.2"
  }
 },
 "nbformat": 4,
 "nbformat_minor": 2
}
