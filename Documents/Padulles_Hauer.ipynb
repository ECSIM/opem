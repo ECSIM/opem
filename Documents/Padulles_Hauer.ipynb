{
 "cells": [
  {
   "cell_type": "markdown",
   "metadata": {},
   "source": [
    "#  Padulles-Hauer Dynamic Model"
   ]
  },
  {
   "cell_type": "markdown",
   "metadata": {},
   "source": [
    "### Version 0.8"
   ]
  },
  {
   "cell_type": "markdown",
   "metadata": {},
   "source": [
    "<p style=\"text-align:justify;\">\n",
    "The Padulles dynamic model can predict the transient response of cell voltage, temperature of the cell, hydrogen/oxygen out flow rates and cathode and anode channel temperatures/pressures under sudden change in load current. Hence, a dynamic fuel cell simulation is developed in this model, which incorporates the dynamics of flow and pressure in the anode and cathode channels and mass/ heat transfer transient features in the fuel cell body.\n",
    "<br/>This model is based on several assumptions: \n",
    "<ol>    \n",
    "<li>The stack is fed with hydrogen and air</li>   \n",
    "<li>Cell temperature is stable at all times</li>   \n",
    "<li>The ratio of pressures between the interior and exterior of the electrode channels is large</li>  \n",
    "<li>The channels that transport gases along the electrodes have a fixed volume </li>    \n",
    "<li>Only source of voltage loss is ohmic polarization</li>     \n",
    "<li>Nernst equation can be applied too</li> \n",
    "</ol>\n",
    "</p>"
   ]
  },
  {
   "cell_type": "markdown",
   "metadata": {},
   "source": [
    "<p style=\"text-align:justify;\">\n",
    "Padulles-Hauer Dynamic Model is a dynamic electrochemical simulation model of a grid independent proton exchange membrane (PEM) fuel cell. This model includes a methanol reformer to generate hydrogen from methanol and the PEM stack. The model is used to predict the output voltage and power of a PEMFC. It has to be noted that the reformer model is a second order transfer function. \n",
    "</p>"
   ]
  },
  {
   "cell_type": "markdown",
   "metadata": {},
   "source": [
    "<div style=\"text-align:center;\">\n",
    "    \n",
    "<img src=\"images/Padulles-Hauer-Diagram.jpg\">  \n",
    "<p style=\"text-align:center;\">Fig1. Padulles-Hauer Dynamic Model Block Diagram </p>\n",
    "    \n",
    "</div>"
   ]
  },
  {
   "cell_type": "markdown",
   "metadata": {},
   "source": [
    "## Nernst Voltage"
   ]
  },
  {
   "cell_type": "markdown",
   "metadata": {},
   "source": [
    "$$E_{Nernst}=N_0\\times [E_0+\\frac{RT}{2F}ln(\\frac{P_{H_2}\\times \\sqrt{P_{O_2}}}{P_{H_2O}})]$$"
   ]
  },
  {
   "cell_type": "markdown",
   "metadata": {},
   "source": [
    "$$P_{H_2}=\\frac{\\frac{1}{K_{H_2}}}{1+\\tau_{H_2}^{(s)}}[(q_{H_2}^{(inlet)}-(2\\times K_r \\times i)]$$"
   ]
  },
  {
   "cell_type": "markdown",
   "metadata": {},
   "source": [
    "$$\\frac{q_{H_2}^{(inlet)}}{q_{methanol}}=\\frac{CV}{\\tau_{1}^{(s)}+(\\tau_{2}^{(s)})^2+(\\tau_{1}+\\tau_{2})^{(s)}+1}$$"
   ]
  },
  {
   "cell_type": "markdown",
   "metadata": {},
   "source": [
    "$$P_{O_2}=\\frac{\\frac{1}{K_{O_2}}}{1+\\tau_{O_2}^{(s)}}[(q_{O_2}^{(inlet)}-(K_r \\times i)]$$"
   ]
  },
  {
   "cell_type": "markdown",
   "metadata": {},
   "source": [
    "$$P_{H_2O}=\\frac{\\frac{1}{K_{H_2O}}}{1+\\tau_{H_2O}^{(s)}}[(q_{H_2O}^{(inlet)}-(2\\times K_r \\times i)]$$"
   ]
  },
  {
   "cell_type": "markdown",
   "metadata": {},
   "source": [
    "$$K_r=\\frac{N_0}{4F}$$"
   ]
  },
  {
   "cell_type": "markdown",
   "metadata": {},
   "source": [
    "$$q_{O_2}^{(inlet)}=\\frac{q_{H_2}^{(inlet)}}{r_{h-o}}$$"
   ]
  },
  {
   "cell_type": "markdown",
   "metadata": {},
   "source": [
    "$$q_{H_2O}^{(inlet)}=q_{H_2}^{(inlet)}$$"
   ]
  },
  {
   "cell_type": "code",
   "execution_count": 1,
   "metadata": {},
   "outputs": [],
   "source": [
    "from opem.Dynamic.Padulles_Hauer import qH2_Calc,Kr_Calc,qO2_Calc,PH2_Calc,PO2_Calc,PH2O_Calc,Enernst_Calc"
   ]
  },
  {
   "cell_type": "code",
   "execution_count": 2,
   "metadata": {},
   "outputs": [
    {
     "data": {
      "text/plain": [
       "3.6363636363636364e-05"
      ]
     },
     "execution_count": 2,
     "metadata": {},
     "output_type": "execute_result"
    }
   ],
   "source": [
    "qH2=qH2_Calc(qMethanol=0.0002,CV=2,t1=2,t2=2)\n",
    "qH2"
   ]
  },
  {
   "cell_type": "code",
   "execution_count": 3,
   "metadata": {},
   "outputs": [
    {
     "data": {
      "text/plain": [
       "1.2955435375179044e-08"
      ]
     },
     "execution_count": 3,
     "metadata": {},
     "output_type": "execute_result"
    }
   ],
   "source": [
    "Kr=Kr_Calc(N0=5)\n",
    "Kr"
   ]
  },
  {
   "cell_type": "code",
   "execution_count": 4,
   "metadata": {},
   "outputs": [
    {
     "data": {
      "text/plain": [
       "3.113325031133251e-05"
      ]
     },
     "execution_count": 4,
     "metadata": {},
     "output_type": "execute_result"
    }
   ],
   "source": [
    "qO2=qO2_Calc(qH2=qH2,rho=1.168)\n",
    "qO2"
   ]
  },
  {
   "cell_type": "code",
   "execution_count": 5,
   "metadata": {},
   "outputs": [
    {
     "data": {
      "text/plain": [
       "0.19704428889827239"
      ]
     },
     "execution_count": 5,
     "metadata": {},
     "output_type": "execute_result"
    }
   ],
   "source": [
    "PH2=PH2_Calc(KH2=0.0000422,tH2=3.37,Kr=Kr,I=1,qH2=qH2)\n",
    "PH2"
   ]
  },
  {
   "cell_type": "code",
   "execution_count": 6,
   "metadata": {},
   "outputs": [
    {
     "data": {
      "text/plain": [
       "0.1905549730945132"
      ]
     },
     "execution_count": 6,
     "metadata": {},
     "output_type": "execute_result"
    }
   ],
   "source": [
    "PO2=PO2_Calc(KO2=0.0000211,tO2=6.74,Kr=Kr,I=1,qO2=qO2)\n",
    "PO2"
   ]
  },
  {
   "cell_type": "code",
   "execution_count": 7,
   "metadata": {},
   "outputs": [
    {
     "data": {
      "text/plain": [
       "0.2425275190047356"
      ]
     },
     "execution_count": 7,
     "metadata": {},
     "output_type": "execute_result"
    }
   ],
   "source": [
    "PH2O=PH2O_Calc(KH2O=0.000007716,tH2O=18.418,Kr=Kr,I=1,qH2O=qH2)\n",
    "PH2O"
   ]
  },
  {
   "cell_type": "code",
   "execution_count": 8,
   "metadata": {},
   "outputs": [
    {
     "data": {
      "text/plain": [
       "2.9234016588243374"
      ]
     },
     "execution_count": 8,
     "metadata": {},
     "output_type": "execute_result"
    }
   ],
   "source": [
    "Enernst=Enernst_Calc(E0=0.6,N0=5,T=343, PH2=PH2, PO2=PO2,PH2O=PH2O)\n",
    "Enernst"
   ]
  },
  {
   "cell_type": "markdown",
   "metadata": {},
   "source": [
    "### FC Voltage"
   ]
  },
  {
   "cell_type": "markdown",
   "metadata": {},
   "source": [
    "$$V_{Fuelcell}=E_{Nernst}-Bln(Ci)-(R^{int}\\times i)$$"
   ]
  },
  {
   "cell_type": "code",
   "execution_count": 9,
   "metadata": {},
   "outputs": [
    {
     "data": {
      "text/plain": [
       "3.1256720945020287"
      ]
     },
     "execution_count": 9,
     "metadata": {},
     "output_type": "execute_result"
    }
   ],
   "source": [
    "from opem.Dynamic.Padulles_Hauer import Vcell_Calc\n",
    "FC_Voltage=Vcell_Calc(Enernst=Enernst, B=0.04777,C=0.0136,I=1,Rint=0.00303)\n",
    "FC_Voltage"
   ]
  },
  {
   "cell_type": "markdown",
   "metadata": {},
   "source": [
    "## Power Of PEMFC"
   ]
  },
  {
   "cell_type": "markdown",
   "metadata": {},
   "source": [
    "$$P=V_{cell}\\times i$$"
   ]
  },
  {
   "cell_type": "markdown",
   "metadata": {},
   "source": [
    "$$P_{Thermal}=i\\times(N \\times E_{th}-V_{Stack})$$"
   ]
  },
  {
   "cell_type": "markdown",
   "metadata": {},
   "source": [
    "$$E_{th}=\\frac{-\\Delta H}{nF}=1.23V$$"
   ]
  },
  {
   "cell_type": "code",
   "execution_count": 10,
   "metadata": {},
   "outputs": [
    {
     "data": {
      "text/plain": [
       "6.251344189004057"
      ]
     },
     "execution_count": 10,
     "metadata": {},
     "output_type": "execute_result"
    }
   ],
   "source": [
    "from opem.Dynamic.Padulles_Hauer import Power_Calc,Power_Thermal_Calc\n",
    "Power=Power_Calc(Vcell=FC_Voltage,i=2)\n",
    "Power"
   ]
  },
  {
   "cell_type": "code",
   "execution_count": 11,
   "metadata": {},
   "outputs": [
    {
     "data": {
      "text/plain": [
       "6.048655810995943"
      ]
     },
     "execution_count": 11,
     "metadata": {},
     "output_type": "execute_result"
    }
   ],
   "source": [
    "Power_Thermal_Calc(VStack=FC_Voltage,N=5,i=2)"
   ]
  },
  {
   "cell_type": "markdown",
   "metadata": {},
   "source": [
    "## Efficiency of PEMFC"
   ]
  },
  {
   "cell_type": "markdown",
   "metadata": {},
   "source": [
    "$$\\eta=\\frac{\\mu_F\\times V_{Fuelcell}}{N_0\\times HHV}$$"
   ]
  },
  {
   "cell_type": "code",
   "execution_count": 12,
   "metadata": {},
   "outputs": [
    {
     "data": {
      "text/plain": [
       "0.40072719160282416"
      ]
     },
     "execution_count": 12,
     "metadata": {},
     "output_type": "execute_result"
    }
   ],
   "source": [
    "from opem.Dynamic.Padulles_Hauer import Efficiency_Calc\n",
    "Efficiency_Calc(Vcell=FC_Voltage,N=5)"
   ]
  },
  {
   "cell_type": "markdown",
   "metadata": {},
   "source": [
    "## Linear Approximation"
   ]
  },
  {
   "cell_type": "markdown",
   "metadata": {},
   "source": [
    "Sometimes quick calculations regarding fuel cell efficiency–power-size relationships need to be made. Linear approximation is a good method to find a rough estimate of the value of polarization function at a particular point. A linear polarization curve has the following form:\n",
    "$$V_{cell}=V_0-kI$$\n",
    "where V0 is the intercept (actual open circuit voltage is always higher) and k is the slope of the curve.\n",
    "\n",
    "* Notice : <a href=\"https://en.wikipedia.org/wiki/Simple_linear_regression\">Simple linear regression</a> used for this approximation"
   ]
  },
  {
   "cell_type": "markdown",
   "metadata": {},
   "source": [
    "<table style=\"text-align:center;\">\n",
    "    <tr>\n",
    "        <td>$$Parameter$$</td>\n",
    "        <td>$$Description$$</td>\n",
    "        <td>$$Unit$$</td>\n",
    "    </tr> \n",
    "    <tr>\n",
    "        <td>$$V_0$$</td>\n",
    "        <td style=\"text-align:center;\">Intercept of the curve obtained by linear approximation</td>\n",
    "        <td>$$V$$</td>\n",
    "    </tr>\n",
    "    <tr>\n",
    "        <td>$$k$$</td>\n",
    "        <td style=\"text-align:center;\">Slope of the curve obtained by linear approximation</td>\n",
    "        <td>$$A^{-1}$$</td>\n",
    "    </tr>\n",
    "    <tr>\n",
    "        <td>$$P_{max}$$</td>\n",
    "        <td style=\"text-align:center;\">Maximum power obtained by linear approximation</td>\n",
    "        <td>$$W$$</td>\n",
    "    </tr>\n",
    "    <tr>\n",
    "        <td>$$V_{FC}|P_{max}$$</td>\n",
    "        <td style=\"text-align:center;\">Cell voltage at maximum power obtained by linear approximation</td>\n",
    "        <td>$$V$$</td>\n",
    "    </tr>\n",
    "   \n",
    "     \n",
    "    \n",
    "    \n",
    "    \n",
    "</table>"
   ]
  },
  {
   "cell_type": "markdown",
   "metadata": {},
   "source": [
    "* Notice : These parameters are only available in HTML report"
   ]
  },
  {
   "cell_type": "markdown",
   "metadata": {},
   "source": [
    "## Overall Parameters"
   ]
  },
  {
   "cell_type": "markdown",
   "metadata": {},
   "source": [
    "<table style=\"text-align:center;\">\n",
    "    <tr>\n",
    "        <td>$$Parameter$$</td>\n",
    "        <td>$$Description$$</td>\n",
    "        <td>$$Unit$$</td>\n",
    "    </tr> \n",
    "    <tr>\n",
    "        <td>$$\\eta|P_{Max}$$</td>\n",
    "        <td style=\"text-align:center;\">Cell efficiency at maximum power</td>\n",
    "        <td>$$--$$</td>\n",
    "    </tr>\n",
    "    <tr>\n",
    "        <td>$$P_{Max}$$</td>\n",
    "        <td style=\"text-align:center;\">Maximum power </td>\n",
    "        <td>$$W$$</td>\n",
    "    </tr>\n",
    "    <tr>\n",
    "        <td>$$P_{Elec} $$</td>\n",
    "        <td style=\"text-align:center;\">Total electrical power </td>\n",
    "        <td>$$W$$</td>\n",
    "    </tr>\n",
    "    <tr>\n",
    "        <td>$$P_{Thermal} $$</td>\n",
    "        <td style=\"text-align:center;\">Total thermal power   </td>\n",
    "        <td>$$W$$</td>\n",
    "    </tr>\n",
    "    <tr>\n",
    "        <td>$$V_{FC}|P_{Max}$$</td>\n",
    "        <td style=\"text-align:center;\">Cell voltage at maximum power </td>\n",
    "        <td>$$V$$</td>\n",
    "    </tr>\n",
    "   \n",
    "     \n",
    "    \n",
    "    \n",
    "    \n",
    "</table>"
   ]
  },
  {
   "cell_type": "markdown",
   "metadata": {},
   "source": [
    "* Notice : P(Thermal) & P(Elec) calculated by <a href=\"https://en.wikipedia.org/wiki/Simpson%27s_rule\">Simpson's Rule</a>\n",
    "\n",
    "* Notice : These parameters are only available in HTML report"
   ]
  },
  {
   "cell_type": "markdown",
   "metadata": {},
   "source": [
    "## Full Run"
   ]
  },
  {
   "cell_type": "markdown",
   "metadata": {},
   "source": [
    "* Run from `i`=0 to `i`=4 with `step`=0.1"
   ]
  },
  {
   "cell_type": "code",
   "execution_count": 13,
   "metadata": {
    "scrolled": true
   },
   "outputs": [],
   "source": [
    "Test_Vector={\"T\":343,\"E0\":0.6,\"N0\":5,\"KO2\":0.0000211,\"KH2\":0.0000422,\"KH2O\":0.000007716,\"tH2\":3.37,\"tO2\":6.74,\"t1\":2,\"t2\":2,\"tH2O\":18.418,\"B\":0.04777,\"C\":0.0136,\"Rint\":0.00303,\"rho\":1.168,\"qMethanol\":0.0002,\"CV\":2,\"i-start\":0.1,\"i-stop\":4,\"i-step\":0.1,\"Name\":\"Test\"}"
   ]
  },
  {
   "cell_type": "markdown",
   "metadata": {},
   "source": [
    "* Notice : \"Name\", new in version 0.5"
   ]
  },
  {
   "cell_type": "code",
   "execution_count": 14,
   "metadata": {},
   "outputs": [
    {
     "data": {
      "text/plain": [
       "{'EFF': [0.41518043908246366,\n",
       "  0.4108963136482338,\n",
       "  0.4083740564879825,\n",
       "  0.4065731449109761,\n",
       "  0.4051674903968853,\n",
       "  0.4040118444230801,\n",
       "  0.4030287270042349,\n",
       "  0.4021718894938075,\n",
       "  0.4014115005665013,\n",
       "  0.40072719160282416,\n",
       "  0.40010443449551725,\n",
       "  0.39953250222749515,\n",
       "  0.3990032485837277,\n",
       "  0.3985103413824903,\n",
       "  0.3980487608857143,\n",
       "  0.39761446042126253,\n",
       "  0.3972041300730298,\n",
       "  0.39681502801851076,\n",
       "  0.3964448575287326,\n",
       "  0.3960916755547374,\n",
       "  0.39575382364054146,\n",
       "  0.3954298749226794,\n",
       "  0.39511859292081414,\n",
       "  0.39481889910524637,\n",
       "  0.39452984708947947,\n",
       "  0.39425060188740335,\n",
       "  0.3939804230873111,\n",
       "  0.3937186510874208,\n",
       "  0.3934646957478549,\n",
       "  0.39321802696722546,\n",
       "  0.39297816680494896,\n",
       "  0.39274468285467545,\n",
       "  0.3925171826377131,\n",
       "  0.39229530883366054,\n",
       "  0.39207873520256487,\n",
       "  0.3918671630816706,\n",
       "  0.3916603183622587,\n",
       "  0.3914579488697281,\n",
       "  0.3912598220840501],\n",
       " 'I': [0.1,\n",
       "  0.2,\n",
       "  0.3,\n",
       "  0.4,\n",
       "  0.5,\n",
       "  0.6,\n",
       "  0.7,\n",
       "  0.8,\n",
       "  0.9,\n",
       "  1.0,\n",
       "  1.1,\n",
       "  1.2,\n",
       "  1.3,\n",
       "  1.4,\n",
       "  1.5,\n",
       "  1.6,\n",
       "  1.7,\n",
       "  1.8,\n",
       "  1.9,\n",
       "  2.0,\n",
       "  2.1,\n",
       "  2.2,\n",
       "  2.3,\n",
       "  2.4,\n",
       "  2.5,\n",
       "  2.6,\n",
       "  2.7,\n",
       "  2.8,\n",
       "  2.9,\n",
       "  3.0,\n",
       "  3.1,\n",
       "  3.2,\n",
       "  3.3,\n",
       "  3.4,\n",
       "  3.5,\n",
       "  3.6,\n",
       "  3.7,\n",
       "  3.8,\n",
       "  3.9],\n",
       " 'K': -0.03643090556526363,\n",
       " 'P': [0.3238407424843217,\n",
       "  0.6409982492912448,\n",
       "  0.955595292181879,\n",
       "  1.2685082121222457,\n",
       "  1.5801532125478528,\n",
       "  1.8907754319000147,\n",
       "  2.2005368494431226,\n",
       "  2.509552590441359,\n",
       "  2.81790873397684,\n",
       "  3.1256720945020287,\n",
       "  3.4328960479715387,\n",
       "  3.7396242208493544,\n",
       "  4.045892940639,\n",
       "  4.351732927896794,\n",
       "  4.657170502362857,\n",
       "  4.962228466057358,\n",
       "  5.2669267647683755,\n",
       "  5.571282993379892,\n",
       "  5.875312788575817,\n",
       "  6.1790301386539035,\n",
       "  6.482447631232071,\n",
       "  6.78557665367318,\n",
       "  7.088427556999405,\n",
       "  7.391009791250212,\n",
       "  7.693332018244849,\n",
       "  7.995402206276542,\n",
       "  8.297227710218774,\n",
       "  8.59881533974927,\n",
       "  8.900171417816479,\n",
       "  9.201301831033076,\n",
       "  9.502212073343667,\n",
       "  9.8029072840527,\n",
       "  10.103392281094736,\n",
       "  10.403671590268678,\n",
       "  10.703749471030022,\n",
       "  11.003629939333312,\n",
       "  11.303316787934786,\n",
       "  11.602813604498742,\n",
       "  11.902123787796803],\n",
       " 'PH2': [0.19717074233280188,\n",
       "  0.1971566919511875,\n",
       "  0.19714264156957312,\n",
       "  0.19712859118795872,\n",
       "  0.19711454080634436,\n",
       "  0.19710049042472996,\n",
       "  0.19708644004311557,\n",
       "  0.19707238966150117,\n",
       "  0.19705833927988675,\n",
       "  0.19704428889827239,\n",
       "  0.197030238516658,\n",
       "  0.1970161881350436,\n",
       "  0.19700213775342923,\n",
       "  0.19698808737181484,\n",
       "  0.19697403699020044,\n",
       "  0.19695998660858605,\n",
       "  0.19694593622697168,\n",
       "  0.19693188584535729,\n",
       "  0.1969178354637429,\n",
       "  0.19690378508212852,\n",
       "  0.19688973470051413,\n",
       "  0.19687568431889974,\n",
       "  0.19686163393728537,\n",
       "  0.19684758355567097,\n",
       "  0.19683353317405658,\n",
       "  0.19681948279244216,\n",
       "  0.19680543241082776,\n",
       "  0.1967913820292134,\n",
       "  0.196777331647599,\n",
       "  0.1967632812659846,\n",
       "  0.19674923088437024,\n",
       "  0.19673518050275585,\n",
       "  0.19672113012114145,\n",
       "  0.19670707973952706,\n",
       "  0.1966930293579127,\n",
       "  0.1966789789762983,\n",
       "  0.1966649285946839,\n",
       "  0.19665087821306954,\n",
       "  0.19663682783145514],\n",
       " 'PH2O': [0.2426831613626925,\n",
       "  0.24266586776736396,\n",
       "  0.24264857417203542,\n",
       "  0.24263128057670688,\n",
       "  0.24261398698137834,\n",
       "  0.2425966933860498,\n",
       "  0.24257939979072127,\n",
       "  0.24256210619539273,\n",
       "  0.24254481260006414,\n",
       "  0.2425275190047356,\n",
       "  0.24251022540940706,\n",
       "  0.24249293181407852,\n",
       "  0.24247563821874998,\n",
       "  0.24245834462342142,\n",
       "  0.24244105102809288,\n",
       "  0.24242375743276434,\n",
       "  0.2424064638374358,\n",
       "  0.24238917024210727,\n",
       "  0.24237187664677873,\n",
       "  0.2423545830514502,\n",
       "  0.24233728945612165,\n",
       "  0.2423199958607931,\n",
       "  0.24230270226546458,\n",
       "  0.242285408670136,\n",
       "  0.24226811507480747,\n",
       "  0.2422508214794789,\n",
       "  0.24223352788415034,\n",
       "  0.2422162342888218,\n",
       "  0.24219894069349326,\n",
       "  0.24218164709816473,\n",
       "  0.2421643535028362,\n",
       "  0.24214705990750765,\n",
       "  0.2421297663121791,\n",
       "  0.24211247271685057,\n",
       "  0.24209517912152204,\n",
       "  0.2420778855261935,\n",
       "  0.24206059193086493,\n",
       "  0.2420432983355364,\n",
       "  0.24202600474020786],\n",
       " 'PO2': [0.1906263686382979,\n",
       "  0.1906184358000996,\n",
       "  0.1906105029619013,\n",
       "  0.19060257012370302,\n",
       "  0.1905946372855047,\n",
       "  0.1905867044473064,\n",
       "  0.19057877160910808,\n",
       "  0.1905708387709098,\n",
       "  0.19056290593271147,\n",
       "  0.1905549730945132,\n",
       "  0.19054704025631486,\n",
       "  0.19053910741811658,\n",
       "  0.19053117457991825,\n",
       "  0.19052324174171997,\n",
       "  0.19051530890352164,\n",
       "  0.19050737606532336,\n",
       "  0.19049944322712503,\n",
       "  0.19049151038892673,\n",
       "  0.19048357755072845,\n",
       "  0.19047564471253012,\n",
       "  0.19046771187433184,\n",
       "  0.1904597790361335,\n",
       "  0.19045184619793523,\n",
       "  0.1904439133597369,\n",
       "  0.19043598052153862,\n",
       "  0.1904280476833403,\n",
       "  0.190420114845142,\n",
       "  0.19041218200694368,\n",
       "  0.1904042491687454,\n",
       "  0.19039631633054707,\n",
       "  0.1903883834923488,\n",
       "  0.19038045065415046,\n",
       "  0.19037251781595219,\n",
       "  0.19036458497775385,\n",
       "  0.19035665213955555,\n",
       "  0.19034871930135727,\n",
       "  0.19034078646315894,\n",
       "  0.19033285362496066,\n",
       "  0.19032492078676233],\n",
       " 'Ph': [0.2911592575156784,\n",
       "  0.5890017507087553,\n",
       "  0.889404707818121,\n",
       "  1.1914917878777547,\n",
       "  1.4948467874521474,\n",
       "  1.7992245680999854,\n",
       "  2.1044631505568776,\n",
       "  2.4104474095586417,\n",
       "  2.7170912660231608,\n",
       "  3.0243279054979717,\n",
       "  3.3321039520284623,\n",
       "  3.640375779150646,\n",
       "  3.9491070593610007,\n",
       "  4.258267072103206,\n",
       "  4.567829497637144,\n",
       "  4.877771533942644,\n",
       "  5.188073235231625,\n",
       "  5.498717006620109,\n",
       "  5.809687211424183,\n",
       "  6.120969861346097,\n",
       "  6.432552368767931,\n",
       "  6.744423346326822,\n",
       "  7.0565724430005945,\n",
       "  7.368990208749787,\n",
       "  7.681667981755151,\n",
       "  7.99459779372346,\n",
       "  8.307772289781228,\n",
       "  8.62118466025073,\n",
       "  8.934828582183522,\n",
       "  9.248698168966925,\n",
       "  9.562787926656334,\n",
       "  9.877092715947303,\n",
       "  10.191607718905265,\n",
       "  10.506328409731324,\n",
       "  10.82125052896998,\n",
       "  11.13637006066669,\n",
       "  11.451683212065214,\n",
       "  11.767186395501259,\n",
       "  12.082876212203196],\n",
       " 'Status': True,\n",
       " 'V': [3.2384074248432166,\n",
       "  3.204991246456224,\n",
       "  3.1853176406062635,\n",
       "  3.171270530305614,\n",
       "  3.1603064250957056,\n",
       "  3.1512923865000246,\n",
       "  3.1436240706330323,\n",
       "  3.1369407380516985,\n",
       "  3.1310097044187106,\n",
       "  3.1256720945020287,\n",
       "  3.1208145890650347,\n",
       "  3.116353517374462,\n",
       "  3.1122253389530767,\n",
       "  3.1083806627834245,\n",
       "  3.1047803349085714,\n",
       "  3.101392791285848,\n",
       "  3.098192214569633,\n",
       "  3.0951572185443843,\n",
       "  3.0922698887241142,\n",
       "  3.0895150693269517,\n",
       "  3.086879824396224,\n",
       "  3.0843530243968997,\n",
       "  3.0819250247823504,\n",
       "  3.079587413020922,\n",
       "  3.07733280729794,\n",
       "  3.0751546947217467,\n",
       "  3.073047300081027,\n",
       "  3.0710054784818825,\n",
       "  3.0690246268332686,\n",
       "  3.0671006103443585,\n",
       "  3.0652297010786023,\n",
       "  3.0634085262664685,\n",
       "  3.0616340245741624,\n",
       "  3.059903408902552,\n",
       "  3.0582141345800062,\n",
       "  3.0565638720370307,\n",
       "  3.054950483225618,\n",
       "  3.0533720011838796,\n",
       "  3.051826612255591],\n",
       " 'V0': 3.1748727715256186}"
      ]
     },
     "execution_count": 14,
     "metadata": {},
     "output_type": "execute_result"
    }
   ],
   "source": [
    "from opem.Dynamic.Padulles_Hauer import Dynamic_Analysis\n",
    "Dynamic_Analysis(InputMethod=Test_Vector,TestMode=True,PrintMode=False,ReportMode=True)"
   ]
  },
  {
   "cell_type": "markdown",
   "metadata": {},
   "source": [
    "* Notice : \"Status\", \"V0\", \"K\" and \"EFF\" , new in version 0.8"
   ]
  },
  {
   "cell_type": "code",
   "execution_count": 15,
   "metadata": {},
   "outputs": [
    {
     "name": "stdout",
     "output_type": "stream",
     "text": [
      "###########\n",
      "Padulles-Hauer-Model Simulation\n",
      "###########\n",
      "Analyzing . . .\n",
      "I : 0.1\n",
      "E : 2.9234154992732004 V\n",
      "FC Efficiency : 0.41518043908246366 \n",
      "FC Power : 0.3238407424843217 W\n",
      "FC Voltage : 3.2384074248432166 V\n",
      "PH2 : 0.19717074233280188 atm\n",
      "PH2O : 0.2426831613626925 atm\n",
      "PO2 : 0.1906263686382979 atm\n",
      "Power-Thermal : 0.2911592575156784 W\n",
      "###########\n",
      "I : 0.2\n",
      "E : 2.9234139617015558 V\n",
      "FC Efficiency : 0.4108963136482338 \n",
      "FC Power : 0.6409982492912448 W\n",
      "FC Voltage : 3.204991246456224 V\n",
      "PH2 : 0.1971566919511875 atm\n",
      "PH2O : 0.24266586776736396 atm\n",
      "PO2 : 0.1906184358000996 atm\n",
      "Power-Thermal : 0.5890017507087553 W\n",
      "###########\n",
      "I : 0.3\n",
      "E : 2.9234124240659227 V\n",
      "FC Efficiency : 0.4083740564879825 \n",
      "FC Power : 0.955595292181879 W\n",
      "FC Voltage : 3.1853176406062635 V\n",
      "PH2 : 0.19714264156957312 atm\n",
      "PH2O : 0.24264857417203542 atm\n",
      "PO2 : 0.1906105029619013 atm\n",
      "Power-Thermal : 0.889404707818121 W\n",
      "###########\n",
      "I : 0.4\n",
      "E : 2.9234108863662946 V\n",
      "FC Efficiency : 0.4065731449109761 \n",
      "FC Power : 1.2685082121222457 W\n",
      "FC Voltage : 3.171270530305614 V\n",
      "PH2 : 0.19712859118795872 atm\n",
      "PH2O : 0.24263128057670688 atm\n",
      "PO2 : 0.19060257012370302 atm\n",
      "Power-Thermal : 1.1914917878777547 W\n",
      "###########\n",
      "I : 0.5\n",
      "E : 2.9234093486026658 V\n",
      "FC Efficiency : 0.4051674903968853 \n",
      "FC Power : 1.5801532125478528 W\n",
      "FC Voltage : 3.1603064250957056 V\n",
      "PH2 : 0.19711454080634436 atm\n",
      "PH2O : 0.24261398698137834 atm\n",
      "PO2 : 0.1905946372855047 atm\n",
      "Power-Thermal : 1.4948467874521474 W\n",
      "###########\n",
      "I : 0.6\n",
      "E : 2.923407810775032 V\n",
      "FC Efficiency : 0.4040118444230801 \n",
      "FC Power : 1.8907754319000147 W\n",
      "FC Voltage : 3.1512923865000246 V\n",
      "PH2 : 0.19710049042472996 atm\n",
      "PH2O : 0.2425966933860498 atm\n",
      "PO2 : 0.1905867044473064 atm\n",
      "Power-Thermal : 1.7992245680999854 W\n",
      "###########\n",
      "I : 0.7\n",
      "E : 2.923406272883388 V\n",
      "FC Efficiency : 0.4030287270042349 \n",
      "FC Power : 2.2005368494431226 W\n",
      "FC Voltage : 3.1436240706330323 V\n",
      "PH2 : 0.19708644004311557 atm\n",
      "PH2O : 0.24257939979072127 atm\n",
      "PO2 : 0.19057877160910808 atm\n",
      "Power-Thermal : 2.1044631505568776 W\n",
      "###########\n",
      "I : 0.8\n",
      "E : 2.9234047349277277 V\n",
      "FC Efficiency : 0.4021718894938075 \n",
      "FC Power : 2.509552590441359 W\n",
      "FC Voltage : 3.1369407380516985 V\n",
      "PH2 : 0.19707238966150117 atm\n",
      "PH2O : 0.24256210619539273 atm\n",
      "PO2 : 0.1905708387709098 atm\n",
      "Power-Thermal : 2.4104474095586417 W\n",
      "###########\n",
      "I : 0.9\n",
      "E : 2.9234031969080454 V\n",
      "FC Efficiency : 0.4014115005665013 \n",
      "FC Power : 2.81790873397684 W\n",
      "FC Voltage : 3.1310097044187106 V\n",
      "PH2 : 0.19705833927988675 atm\n",
      "PH2O : 0.24254481260006414 atm\n",
      "PO2 : 0.19056290593271147 atm\n",
      "Power-Thermal : 2.7170912660231608 W\n",
      "###########\n",
      "I : 1.0\n",
      "E : 2.9234016588243374 V\n",
      "FC Efficiency : 0.40072719160282416 \n",
      "FC Power : 3.1256720945020287 W\n",
      "FC Voltage : 3.1256720945020287 V\n",
      "PH2 : 0.19704428889827239 atm\n",
      "PH2O : 0.2425275190047356 atm\n",
      "PO2 : 0.1905549730945132 atm\n",
      "Power-Thermal : 3.0243279054979717 W\n",
      "###########\n",
      "I : 1.1\n",
      "E : 2.9234001206765963 V\n",
      "FC Efficiency : 0.40010443449551725 \n",
      "FC Power : 3.4328960479715387 W\n",
      "FC Voltage : 3.1208145890650347 V\n",
      "PH2 : 0.197030238516658 atm\n",
      "PH2O : 0.24251022540940706 atm\n",
      "PO2 : 0.19054704025631486 atm\n",
      "Power-Thermal : 3.3321039520284623 W\n",
      "###########\n",
      "I : 1.2\n",
      "E : 2.9233985824648183 V\n",
      "FC Efficiency : 0.39953250222749515 \n",
      "FC Power : 3.7396242208493544 W\n",
      "FC Voltage : 3.116353517374462 V\n",
      "PH2 : 0.1970161881350436 atm\n",
      "PH2O : 0.24249293181407852 atm\n",
      "PO2 : 0.19053910741811658 atm\n",
      "Power-Thermal : 3.640375779150646 W\n",
      "###########\n",
      "I : 1.3\n",
      "E : 2.923397044188998 V\n",
      "FC Efficiency : 0.3990032485837277 \n",
      "FC Power : 4.045892940639 W\n",
      "FC Voltage : 3.1122253389530767 V\n",
      "PH2 : 0.19700213775342923 atm\n",
      "PH2O : 0.24247563821874998 atm\n",
      "PO2 : 0.19053117457991825 atm\n",
      "Power-Thermal : 3.9491070593610007 W\n",
      "###########\n",
      "I : 1.4\n",
      "E : 2.923395505849129 V\n",
      "FC Efficiency : 0.3985103413824903 \n",
      "FC Power : 4.351732927896794 W\n",
      "FC Voltage : 3.1083806627834245 V\n",
      "PH2 : 0.19698808737181484 atm\n",
      "PH2O : 0.24245834462342142 atm\n",
      "PO2 : 0.19052324174171997 atm\n",
      "Power-Thermal : 4.258267072103206 W\n",
      "###########\n",
      "I : 1.5\n",
      "E : 2.923393967445207 V\n",
      "FC Efficiency : 0.3980487608857143 \n",
      "FC Power : 4.657170502362857 W\n",
      "FC Voltage : 3.1047803349085714 V\n",
      "PH2 : 0.19697403699020044 atm\n",
      "PH2O : 0.24244105102809288 atm\n",
      "PO2 : 0.19051530890352164 atm\n",
      "Power-Thermal : 4.567829497637144 W\n",
      "###########\n",
      "I : 1.6\n",
      "E : 2.923392428977226 V\n",
      "FC Efficiency : 0.39761446042126253 \n",
      "FC Power : 4.962228466057358 W\n",
      "FC Voltage : 3.101392791285848 V\n",
      "PH2 : 0.19695998660858605 atm\n",
      "PH2O : 0.24242375743276434 atm\n",
      "PO2 : 0.19050737606532336 atm\n",
      "Power-Thermal : 4.877771533942644 W\n",
      "###########\n",
      "I : 1.7\n",
      "E : 2.9233908904451815 V\n",
      "FC Efficiency : 0.3972041300730298 \n",
      "FC Power : 5.2669267647683755 W\n",
      "FC Voltage : 3.098192214569633 V\n",
      "PH2 : 0.19694593622697168 atm\n",
      "PH2O : 0.2424064638374358 atm\n",
      "PO2 : 0.19049944322712503 atm\n",
      "Power-Thermal : 5.188073235231625 W\n",
      "###########\n",
      "I : 1.8\n",
      "E : 2.9233893518490675 V\n",
      "FC Efficiency : 0.39681502801851076 \n",
      "FC Power : 5.571282993379892 W\n",
      "FC Voltage : 3.0951572185443843 V\n",
      "PH2 : 0.19693188584535729 atm\n",
      "PH2O : 0.24238917024210727 atm\n",
      "PO2 : 0.19049151038892673 atm\n",
      "Power-Thermal : 5.498717006620109 W\n",
      "###########\n",
      "I : 1.9\n",
      "E : 2.9233878131888784 V\n",
      "FC Efficiency : 0.3964448575287326 \n",
      "FC Power : 5.875312788575817 W\n",
      "FC Voltage : 3.0922698887241142 V\n",
      "PH2 : 0.1969178354637429 atm\n",
      "PH2O : 0.24237187664677873 atm\n",
      "PO2 : 0.19048357755072845 atm\n",
      "Power-Thermal : 5.809687211424183 W\n",
      "###########\n",
      "I : 2.0\n",
      "E : 2.9233862744646095 V\n",
      "FC Efficiency : 0.3960916755547374 \n",
      "FC Power : 6.1790301386539035 W\n",
      "FC Voltage : 3.0895150693269517 V\n",
      "PH2 : 0.19690378508212852 atm\n",
      "PH2O : 0.2423545830514502 atm\n",
      "PO2 : 0.19047564471253012 atm\n",
      "Power-Thermal : 6.120969861346097 W\n",
      "###########\n",
      "I : 2.1\n",
      "E : 2.923384735676255 V\n",
      "FC Efficiency : 0.39575382364054146 \n",
      "FC Power : 6.482447631232071 W\n",
      "FC Voltage : 3.086879824396224 V\n",
      "PH2 : 0.19688973470051413 atm\n",
      "PH2O : 0.24233728945612165 atm\n",
      "PO2 : 0.19046771187433184 atm\n",
      "Power-Thermal : 6.432552368767931 W\n",
      "###########\n",
      "I : 2.2\n",
      "E : 2.92338319682381 V\n",
      "FC Efficiency : 0.3954298749226794 \n",
      "FC Power : 6.78557665367318 W\n",
      "FC Voltage : 3.0843530243968997 V\n",
      "PH2 : 0.19687568431889974 atm\n",
      "PH2O : 0.2423199958607931 atm\n",
      "PO2 : 0.1904597790361335 atm\n",
      "Power-Thermal : 6.744423346326822 W\n",
      "###########\n",
      "I : 2.3\n",
      "E : 2.923381657907269 V\n",
      "FC Efficiency : 0.39511859292081414 \n",
      "FC Power : 7.088427556999405 W\n",
      "FC Voltage : 3.0819250247823504 V\n",
      "PH2 : 0.19686163393728537 atm\n",
      "PH2O : 0.24230270226546458 atm\n",
      "PO2 : 0.19045184619793523 atm\n",
      "Power-Thermal : 7.0565724430005945 W\n",
      "###########\n",
      "I : 2.4\n",
      "E : 2.9233801189266266 V\n",
      "FC Efficiency : 0.39481889910524637 \n",
      "FC Power : 7.391009791250212 W\n",
      "FC Voltage : 3.079587413020922 V\n",
      "PH2 : 0.19684758355567097 atm\n",
      "PH2O : 0.242285408670136 atm\n",
      "PO2 : 0.1904439133597369 atm\n",
      "Power-Thermal : 7.368990208749787 W\n",
      "###########\n",
      "I : 2.5\n",
      "E : 2.923378579881877 V\n",
      "FC Efficiency : 0.39452984708947947 \n",
      "FC Power : 7.693332018244849 W\n",
      "FC Voltage : 3.07733280729794 V\n",
      "PH2 : 0.19683353317405658 atm\n",
      "PH2O : 0.24226811507480747 atm\n",
      "PO2 : 0.19043598052153862 atm\n",
      "Power-Thermal : 7.681667981755151 W\n",
      "###########\n",
      "I : 2.6\n",
      "E : 2.923377040773016 V\n",
      "FC Efficiency : 0.39425060188740335 \n",
      "FC Power : 7.995402206276542 W\n",
      "FC Voltage : 3.0751546947217467 V\n",
      "PH2 : 0.19681948279244216 atm\n",
      "PH2O : 0.2422508214794789 atm\n",
      "PO2 : 0.1904280476833403 atm\n",
      "Power-Thermal : 7.99459779372346 W\n",
      "###########\n",
      "I : 2.7\n",
      "E : 2.923375501600037 V\n",
      "FC Efficiency : 0.3939804230873111 \n",
      "FC Power : 8.297227710218774 W\n",
      "FC Voltage : 3.073047300081027 V\n",
      "PH2 : 0.19680543241082776 atm\n",
      "PH2O : 0.24223352788415034 atm\n",
      "PO2 : 0.190420114845142 atm\n",
      "Power-Thermal : 8.307772289781228 W\n",
      "###########\n",
      "I : 2.8\n",
      "E : 2.923373962362936 V\n",
      "FC Efficiency : 0.3937186510874208 \n",
      "FC Power : 8.59881533974927 W\n",
      "FC Voltage : 3.0710054784818825 V\n",
      "PH2 : 0.1967913820292134 atm\n",
      "PH2O : 0.2422162342888218 atm\n",
      "PO2 : 0.19041218200694368 atm\n",
      "Power-Thermal : 8.62118466025073 W\n",
      "###########\n",
      "I : 2.9\n",
      "E : 2.9233724230617057 V\n",
      "FC Efficiency : 0.3934646957478549 \n",
      "FC Power : 8.900171417816479 W\n",
      "FC Voltage : 3.0690246268332686 V\n",
      "PH2 : 0.196777331647599 atm\n",
      "PH2O : 0.24219894069349326 atm\n",
      "PO2 : 0.1904042491687454 atm\n",
      "Power-Thermal : 8.934828582183522 W\n",
      "###########\n",
      "I : 3.0\n",
      "E : 2.923370883696343 V\n",
      "FC Efficiency : 0.39321802696722546 \n",
      "FC Power : 9.201301831033076 W\n",
      "FC Voltage : 3.0671006103443585 V\n",
      "PH2 : 0.1967632812659846 atm\n",
      "PH2O : 0.24218164709816473 atm\n",
      "PO2 : 0.19039631633054707 atm\n",
      "Power-Thermal : 9.248698168966925 W\n",
      "###########\n",
      "I : 3.1\n",
      "E : 2.9233693442668414 V\n",
      "FC Efficiency : 0.39297816680494896 \n",
      "FC Power : 9.502212073343667 W\n",
      "FC Voltage : 3.0652297010786023 V\n",
      "PH2 : 0.19674923088437024 atm\n",
      "PH2O : 0.2421643535028362 atm\n",
      "PO2 : 0.1903883834923488 atm\n",
      "Power-Thermal : 9.562787926656334 W\n",
      "###########\n",
      "I : 3.2\n",
      "E : 2.9233678047731946 V\n",
      "FC Efficiency : 0.39274468285467545 \n",
      "FC Power : 9.8029072840527 W\n",
      "FC Voltage : 3.0634085262664685 V\n",
      "PH2 : 0.19673518050275585 atm\n",
      "PH2O : 0.24214705990750765 atm\n",
      "PO2 : 0.19038045065415046 atm\n",
      "Power-Thermal : 9.877092715947303 W\n",
      "###########\n",
      "I : 3.3\n",
      "E : 2.9233662652153996 V\n",
      "FC Efficiency : 0.3925171826377131 \n",
      "FC Power : 10.103392281094736 W\n",
      "FC Voltage : 3.0616340245741624 V\n",
      "PH2 : 0.19672113012114145 atm\n",
      "PH2O : 0.2421297663121791 atm\n",
      "PO2 : 0.19037251781595219 atm\n",
      "Power-Thermal : 10.191607718905265 W\n",
      "###########\n",
      "I : 3.4\n",
      "E : 2.923364725593449 V\n",
      "FC Efficiency : 0.39229530883366054 \n",
      "FC Power : 10.403671590268678 W\n",
      "FC Voltage : 3.059903408902552 V\n",
      "PH2 : 0.19670707973952706 atm\n",
      "PH2O : 0.24211247271685057 atm\n",
      "PO2 : 0.19036458497775385 atm\n",
      "Power-Thermal : 10.506328409731324 W\n",
      "###########\n",
      "I : 3.5\n",
      "E : 2.923363185907339 V\n",
      "FC Efficiency : 0.39207873520256487 \n",
      "FC Power : 10.703749471030022 W\n",
      "FC Voltage : 3.0582141345800062 V\n",
      "PH2 : 0.1966930293579127 atm\n",
      "PH2O : 0.24209517912152204 atm\n",
      "PO2 : 0.19035665213955555 atm\n",
      "Power-Thermal : 10.82125052896998 W\n",
      "###########\n",
      "I : 3.6\n",
      "E : 2.923361646157063 V\n",
      "FC Efficiency : 0.3918671630816706 \n",
      "FC Power : 11.003629939333312 W\n",
      "FC Voltage : 3.0565638720370307 V\n",
      "PH2 : 0.1966789789762983 atm\n",
      "PH2O : 0.2420778855261935 atm\n",
      "PO2 : 0.19034871930135727 atm\n",
      "Power-Thermal : 11.13637006066669 W\n",
      "###########\n",
      "I : 3.7\n",
      "E : 2.923360106342616 V\n",
      "FC Efficiency : 0.3916603183622587 \n",
      "FC Power : 11.303316787934786 W\n",
      "FC Voltage : 3.054950483225618 V\n",
      "PH2 : 0.1966649285946839 atm\n",
      "PH2O : 0.24206059193086493 atm\n",
      "PO2 : 0.19034078646315894 atm\n",
      "Power-Thermal : 11.451683212065214 W\n",
      "###########\n",
      "I : 3.8\n",
      "E : 2.9233585664639925 V\n",
      "FC Efficiency : 0.3914579488697281 \n",
      "FC Power : 11.602813604498742 W\n",
      "FC Voltage : 3.0533720011838796 V\n",
      "PH2 : 0.19665087821306954 atm\n",
      "PH2O : 0.2420432983355364 atm\n",
      "PO2 : 0.19033285362496066 atm\n",
      "Power-Thermal : 11.767186395501259 W\n",
      "###########\n",
      "I : 3.9\n",
      "E : 2.9233570265211877 V\n",
      "FC Efficiency : 0.3912598220840501 \n",
      "FC Power : 11.902123787796803 W\n",
      "FC Voltage : 3.051826612255591 V\n",
      "PH2 : 0.19663682783145514 atm\n",
      "PH2O : 0.24202600474020786 atm\n",
      "PO2 : 0.19032492078676233 atm\n",
      "Power-Thermal : 12.082876212203196 W\n",
      "###########\n",
      "Done!\n"
     ]
    }
   ],
   "source": [
    "Data=Dynamic_Analysis(InputMethod=Test_Vector,TestMode=True,PrintMode=True,ReportMode=True)"
   ]
  },
  {
   "cell_type": "markdown",
   "metadata": {},
   "source": [
    "* Notice : \"PrintMode\" & \"ReportMode\" , new in version 0.5"
   ]
  },
  {
   "cell_type": "code",
   "execution_count": 16,
   "metadata": {},
   "outputs": [
    {
     "data": {
      "text/plain": [
       "{'Message': '[Error] Padulles-Hauer Simulation Failed!(Check Your Inputs)',\n",
       " 'Status': False}"
      ]
     },
     "execution_count": 16,
     "metadata": {},
     "output_type": "execute_result"
    }
   ],
   "source": [
    "Dynamic_Analysis(InputMethod={},TestMode=True,PrintMode=False,ReportMode=True)"
   ]
  },
  {
   "cell_type": "markdown",
   "metadata": {},
   "source": [
    "## Parameters"
   ]
  },
  {
   "cell_type": "markdown",
   "metadata": {},
   "source": [
    "Inputs, Constants & Middle Values\n",
    "1. User : User Input\n",
    "2. System : Simulator Calculation (Middle Value)"
   ]
  },
  {
   "cell_type": "markdown",
   "metadata": {},
   "source": [
    "<table style=\"text-align:center;\">\n",
    "    <tr>\n",
    "        <td>$$Parameter$$</td>\n",
    "        <td>$$Description$$</td>\n",
    "        <td>$$Unit$$</td>\n",
    "        <td>$$Value$$</td>\n",
    "    </tr>\n",
    "     <tr>\n",
    "        <td>$$T$$</td>\n",
    "        <td style=\"text-align:center;\">FuelCell temperature</td>\n",
    "        <td>$$K$$</td>\n",
    "        <td>$$User$$</td>\n",
    "    </tr>\n",
    "    <tr>\n",
    "        <td>$$N_0$$</td>\n",
    "        <td style=\"text-align:center;\">Number of cells</td>\n",
    "        <td>$$--$$</td>\n",
    "        <td>$$User$$</td>\n",
    "    </tr>\n",
    "    <tr>\n",
    "        <td>$$E_0$$</td>\n",
    "        <td style=\"text-align:center;\">No load voltage</td>\n",
    "        <td>$$V$$</td>\n",
    "        <td>$$User$$</td>\n",
    "    </tr>\n",
    "    <tr>\n",
    "        <td>$$K_{H_2}$$</td>\n",
    "        <td style=\"text-align:center;\">Hydrogen valve constant</td>\n",
    "        <td>$$kmol.s^{-1}.atm^{-1}$$</td>\n",
    "        <td>$$User$$</td>\n",
    "    </tr>\n",
    "    <tr>\n",
    "        <td>$$K_{H_2O}$$</td>\n",
    "        <td style=\"text-align:center;\">Water valve constant</td>\n",
    "        <td>$$kmol.s^{-1}.atm^{-1}$$</td>\n",
    "        <td>$$User$$</td>\n",
    "    </tr>\n",
    "    <tr>\n",
    "        <td>$$K_{O_2}$$</td>\n",
    "        <td style=\"text-align:center;\">Oxygen valve constant</td>\n",
    "        <td>$$kmol.s^{-1}.atm^{-1}$$</td>\n",
    "        <td>$$User$$</td>\n",
    "    </tr>\n",
    "    <tr>\n",
    "        <td>$$\\tau_{H_2}^{(s)}$$</td>\n",
    "        <td style=\"text-align:center;\">Hydrogen time constant</td>\n",
    "        <td>$$s$$</td>\n",
    "        <td>$$User$$</td>\n",
    "    </tr>\n",
    "     <tr>\n",
    "        <td>$$\\tau_{H_2O}^{(s)}$$</td>\n",
    "        <td style=\"text-align:center;\">Water time constant</td>\n",
    "        <td>$$s$$</td>\n",
    "        <td>$$User$$</td>\n",
    "    </tr>\n",
    "    <tr>\n",
    "        <td>$$\\tau_{O_2}^{(s)}$$</td>\n",
    "        <td style=\"text-align:center;\">Oxygen time constant</td>\n",
    "        <td>$$s$$</td>\n",
    "        <td>$$User$$</td>\n",
    "    </tr>\n",
    "    <tr>\n",
    "        <td>$$\\tau_{1}^{(s)}$$</td>\n",
    "        <td style=\"text-align:center;\">Reformer time constant</td>\n",
    "        <td>$$s$$</td>\n",
    "        <td>$$User$$</td>\n",
    "    </tr>\n",
    "    <tr>\n",
    "        <td>$$\\tau_{2}^{(s)}$$</td>\n",
    "        <td style=\"text-align:center;\">Reformer time constant</td>\n",
    "        <td>$$s$$</td>\n",
    "        <td>$$User$$</td>\n",
    "    </tr>\n",
    "    <tr>\n",
    "        <td>$$CV$$</td>\n",
    "        <td style=\"text-align:center;\">Conversion factor</td>\n",
    "        <td>$$--$$</td>\n",
    "        <td>$$User$$</td>\n",
    "    </tr>\n",
    "    <tr>\n",
    "        <td>$$B$$</td>\n",
    "        <td style=\"text-align:center;\">Activation voltage constant</td>\n",
    "        <td>$$V$$</td>\n",
    "        <td>$$User$$</td>\n",
    "    </tr>\n",
    "    <tr>\n",
    "        <td>$$C$$</td>\n",
    "        <td style=\"text-align:center;\">Activation constant parameter</td>\n",
    "        <td>$$A^{-1}$$</td>\n",
    "        <td>$$User$$</td>\n",
    "    </tr>\n",
    "    <tr>\n",
    "        <td>$$R^{int}$$</td>\n",
    "        <td style=\"text-align:center;\">FuelCell internal resistance</td>\n",
    "        <td>$$\\Omega$$</td>\n",
    "        <td>$$User$$</td>\n",
    "    </tr>\n",
    "      <tr>\n",
    "        <td>$$r_{h-o}$$</td>\n",
    "        <td style=\"text-align:center;\">Hydrogen-oxygen flow ratio</td>\n",
    "        <td>$$--$$</td>\n",
    "        <td>$$User$$</td>\n",
    "    </tr>\n",
    "       <tr>\n",
    "        <td>$$q_{methanol}$$</td>\n",
    "        <td style=\"text-align:center;\">Molar flow of methanol</td>\n",
    "        <td>$$kmol.s^{-1}$$</td>\n",
    "        <td>$$User$$</td>\n",
    "     <tr>\n",
    "        <td>$$i_{start}$$</td>\n",
    "        <td style=\"text-align:center;\">Cell operating current start point</td>\n",
    "        <td>$$A$$</td>\n",
    "        <td>$$User$$</td>\n",
    "    </tr>\n",
    "    <tr>\n",
    "        <td>$$i_{step}$$</td>\n",
    "        <td style=\"text-align:center;\">Cell operating current step</td>\n",
    "        <td>$$A$$</td>\n",
    "        <td>$$User$$</td>\n",
    "    </tr>\n",
    "    <tr>\n",
    "        <td>$$i_{stop}$$</td>\n",
    "        <td style=\"text-align:center;\">Cell operating current end point</td>\n",
    "        <td>$$A$$</td>\n",
    "        <td>$$User$$</td>\n",
    "    </tr>\n",
    "     <tr>\n",
    "        <td>$$P_{H_2}$$</td>\n",
    "        <td style=\"text-align:center;\">Hydrogen partial pressure</td>\n",
    "        <td>$$atm$$</td>\n",
    "        <td>$$System$$</td>\n",
    "    </tr>\n",
    "     <tr>\n",
    "        <td>$$P_{H_2O}$$</td>\n",
    "        <td style=\"text-align:center;\">Water partial pressure</td>\n",
    "        <td>$$atm$$</td>\n",
    "        <td>$$System$$</td>\n",
    "    </tr>\n",
    "     <tr>\n",
    "        <td>$$P_{O_2}$$</td>\n",
    "        <td style=\"text-align:center;\">Oxygen partial pressure</td>\n",
    "        <td>$$atm$$</td>\n",
    "        <td>$$System$$</td>\n",
    "    </tr>\n",
    "     <tr>\n",
    "        <td>$$K_r$$</td>\n",
    "        <td style=\"text-align:center;\">Modeling constant</td>\n",
    "        <td>$$kmol.s^{-1}.A^{-1}$$</td>\n",
    "        <td>$$System$$</td>\n",
    "    </tr>\n",
    "      <tr>\n",
    "        <td>$$q_{O_2}^{(inlet)}$$</td>\n",
    "        <td style=\"text-align:center;\">Molar flow of oxygen</td>\n",
    "        <td>$$kmol.s^{-1}$$</td>\n",
    "        <td>$$System$$</td>\n",
    "    </tr>\n",
    "     <tr>\n",
    "        <td>$$q_{H_2O}^{(inlet)}$$</td>\n",
    "        <td style=\"text-align:center;\">Molar flow of water</td>\n",
    "        <td>$$kmol.s^{-1}$$</td>\n",
    "        <td>$$System$$</td>\n",
    "    </tr>\n",
    "    <tr>\n",
    "        <td>$$q_{H_2}^{(inlet)}$$</td>\n",
    "        <td style=\"text-align:center;\">Molar flow of hydrogen</td>\n",
    "        <td>$$kmol.s^{-1}$$</td>\n",
    "        <td>$$System$$</td>\n",
    "    </tr>\n",
    "               <tr>\n",
    "        <td>$$\\mu_F$$</td>\n",
    "        <td style=\"text-align:center;\">The fuel utilization</td>\n",
    "        <td>$$--$$</td>\n",
    "        <td>$$0.95$$</td>\n",
    "    </tr>\n",
    "          <tr>\n",
    "    <td>$$HHV$$</td>\n",
    "        <td style=\"text-align:center;\">Higher Heating Value Potential</td>\n",
    "        <td>$$V$$</td>\n",
    "        <td>$$1.482$$</td>\n",
    "    </tr>\n",
    "             <tr>\n",
    "    <td>$$R$$</td>\n",
    "        <td style=\"text-align:center;\">Universal gas constant</td>\n",
    "        <td>$$J.kmol^{-1}.K^{-1}$$</td>\n",
    "        <td>$$8314.47$$</td>\n",
    "    </tr>\n",
    "             <tr>\n",
    "    <td>$$F$$</td>\n",
    "        <td style=\"text-align:center;\">Faraday’s constant</td>\n",
    "        <td>$$C.kmol^{-1}$$</td>\n",
    "        <td>$$96484600$$</td>\n",
    "    </tr>\n",
    "    <tr>\n",
    "    <td>$$E_{th}$$</td>\n",
    "        <td style=\"text-align:center;\">Theoretical Potential</td>\n",
    "        <td>$$V$$</td>\n",
    "        <td>$$1.23$$</td>\n",
    "    </tr>\n",
    "    \n",
    "    \n",
    "    \n",
    "</table>"
   ]
  },
  {
   "cell_type": "markdown",
   "metadata": {},
   "source": [
    "* $$q_{H_2}=q_{H_2O}$$"
   ]
  },
  {
   "cell_type": "markdown",
   "metadata": {},
   "source": [
    "## Reference\n",
    "<blockquote>\n",
    "1- J. Padulles, G.W. Ault, J.R. McDonald. 2000. \"An integrated SOFC plant dynamic model for power systems\n",
    "simulation.\" Journal of Power Sources (Elsevier) 86 (1-2): 495-500. doi:10.1016/S0378-7753(99)00430-9\n",
    "</blockquote>\n",
    "<blockquote>\n",
    "2- Hauer, K.-H. 2001. \"Analysis tool for fuel cell vehicle hardware and software (controls) with an application\n",
    "to fuel economy comparisons of alternative system designs.\" Ph.D. dissertation, Transportation Technology\n",
    "and Policy, University of California Davis.\n",
    "</blockquote>"
   ]
  }
 ],
 "metadata": {
  "kernelspec": {
   "display_name": "Python 3",
   "language": "python",
   "name": "python3"
  },
  "language_info": {
   "codemirror_mode": {
    "name": "ipython",
    "version": 3
   },
   "file_extension": ".py",
   "mimetype": "text/x-python",
   "name": "python",
   "nbconvert_exporter": "python",
   "pygments_lexer": "ipython3",
   "version": "3.5.2"
  }
 },
 "nbformat": 4,
 "nbformat_minor": 2
}
