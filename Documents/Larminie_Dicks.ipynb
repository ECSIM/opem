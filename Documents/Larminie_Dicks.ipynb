{
 "cells": [
  {
   "cell_type": "markdown",
   "metadata": {},
   "source": [
    "#  Larminie-Dicks Static Model"
   ]
  },
  {
   "cell_type": "markdown",
   "metadata": {},
   "source": [
    "### Version 0.8"
   ]
  },
  {
   "cell_type": "markdown",
   "metadata": {},
   "source": [
    "<p style=\"text-align:justify;\">\n",
    "Larminie-Dicks model is obtained for large variation of the load parameters. In this model, the fuel cell is represented by means of its voltage–current characteristic obtained in static operating mode. In fact, Larminie-Dicks static model presents the fuel cell voltage as a function of the current magnitude. The obtained polarization curve is composed of three main regions corresponding to the predominance of electrochemical activation phenomena (region I), a linear part (region II) where the voltage drop is mainly due to electronic and ionic internal resistances and the last region where the diffusion kinetics of gases through the electrodes becomes the limiting factor (region III). This last zone is characterized by a rapid voltage fall.\n",
    "It has to be noted that this curve is common to all fuel cells and consequently no units are depicted on it.\n",
    "</p>"
   ]
  },
  {
   "cell_type": "markdown",
   "metadata": {},
   "source": [
    "<div style=\"text-align:center;\">\n",
    "   \n",
    "<img src=\"images/Static-Model-Graphic.jpg\">  \n",
    "<p style=\"text-align:center;\">Fig1. Graphical Abstract of Static Models</p>\n",
    "</div>"
   ]
  },
  {
   "cell_type": "markdown",
   "metadata": {},
   "source": [
    "## Vcell\n",
    "\n",
    "$$V_{cell}=E_0-A\\times ln(\\frac{i+i_n}{i_0})-R_m\\times (i+i_n)+B\\times ln(1-\\frac{i+i_n}{i_L})$$\n"
   ]
  },
  {
   "cell_type": "code",
   "execution_count": 1,
   "metadata": {},
   "outputs": [
    {
     "data": {
      "text/plain": [
       "0.8677440917797067"
      ]
     },
     "execution_count": 1,
     "metadata": {},
     "output_type": "execute_result"
    }
   ],
   "source": [
    "from opem.Static.Larminie_Dicks import Vcell_Calc\n",
    "Vcell=Vcell_Calc(E0=1.178, i=1,i_0=0.00654,i_n=0.23 ,i_L=100.0 ,R_M=0.0018,A=0.0587,B=0.0517)\n",
    "Vcell"
   ]
  },
  {
   "cell_type": "markdown",
   "metadata": {},
   "source": [
    "* Notice : from opem.Larminie_Dicks in version (0.3>)"
   ]
  },
  {
   "cell_type": "markdown",
   "metadata": {},
   "source": [
    "### VStack"
   ]
  },
  {
   "cell_type": "markdown",
   "metadata": {},
   "source": [
    "$$V_{Stack}=N\\times V_{cell}$$"
   ]
  },
  {
   "cell_type": "code",
   "execution_count": 2,
   "metadata": {},
   "outputs": [
    {
     "data": {
      "text/plain": [
       "19.958114110933252"
      ]
     },
     "execution_count": 2,
     "metadata": {},
     "output_type": "execute_result"
    }
   ],
   "source": [
    "from opem.Static.Larminie_Dicks import VStack_Calc\n",
    "VStack=VStack_Calc(Vcell=Vcell,N=23)\n",
    "VStack"
   ]
  },
  {
   "cell_type": "markdown",
   "metadata": {},
   "source": [
    "## Power Of PEMFC"
   ]
  },
  {
   "cell_type": "markdown",
   "metadata": {},
   "source": [
    "$$P=V_{cell}\\times i$$"
   ]
  },
  {
   "cell_type": "markdown",
   "metadata": {},
   "source": [
    "$$P_{Stack}=N\\times P$$"
   ]
  },
  {
   "cell_type": "markdown",
   "metadata": {},
   "source": [
    "$$P_{Thermal}=i\\times(N \\times E_{th}-V_{Stack})$$"
   ]
  },
  {
   "cell_type": "markdown",
   "metadata": {},
   "source": [
    "$$E_{th}=\\frac{-\\Delta H}{nF}=1.23V$$"
   ]
  },
  {
   "cell_type": "code",
   "execution_count": 3,
   "metadata": {},
   "outputs": [
    {
     "data": {
      "text/plain": [
       "1.7354881835594134"
      ]
     },
     "execution_count": 3,
     "metadata": {},
     "output_type": "execute_result"
    }
   ],
   "source": [
    "from opem.Static.Larminie_Dicks import Power_Calc,PowerStack_Calc,Power_Thermal_Calc\n",
    "Power=Power_Calc(Vcell=Vcell,i=2)\n",
    "Power"
   ]
  },
  {
   "cell_type": "code",
   "execution_count": 4,
   "metadata": {},
   "outputs": [
    {
     "data": {
      "text/plain": [
       "39.916228221866504"
      ]
     },
     "execution_count": 4,
     "metadata": {},
     "output_type": "execute_result"
    }
   ],
   "source": [
    "PowerStack_Calc(Power=Power,N=23)"
   ]
  },
  {
   "cell_type": "code",
   "execution_count": 5,
   "metadata": {},
   "outputs": [
    {
     "data": {
      "text/plain": [
       "16.663771778133494"
      ]
     },
     "execution_count": 5,
     "metadata": {},
     "output_type": "execute_result"
    }
   ],
   "source": [
    "Power_Thermal_Calc(VStack=VStack,N=23,i=2)"
   ]
  },
  {
   "cell_type": "markdown",
   "metadata": {},
   "source": [
    "## Efficiency of PEMFC"
   ]
  },
  {
   "cell_type": "markdown",
   "metadata": {},
   "source": [
    "$$\\eta=\\frac{\\mu_F\\times V_{cell}}{HHV}$$"
   ]
  },
  {
   "cell_type": "code",
   "execution_count": 6,
   "metadata": {},
   "outputs": [
    {
     "data": {
      "text/plain": [
       "0.5562462126792992"
      ]
     },
     "execution_count": 6,
     "metadata": {},
     "output_type": "execute_result"
    }
   ],
   "source": [
    "from opem.Static.Larminie_Dicks import Efficiency_Calc\n",
    "Efficiency_Calc(Vcell=Vcell)"
   ]
  },
  {
   "cell_type": "markdown",
   "metadata": {},
   "source": [
    "## Linear Approximation"
   ]
  },
  {
   "cell_type": "markdown",
   "metadata": {},
   "source": [
    "Sometimes quick calculations regarding fuel cell efficiency–power-size relationships need to be made. Linear approximation is a good method to find a rough estimate of the value of polarization function at a particular point. A linear polarization curve has the following form:\n",
    "$$V_{cell}=V_0-kI$$\n",
    "where V0 is the intercept (actual open circuit voltage is always higher) and k is the slope of the curve.\n",
    "\n",
    "* Notice : <a href=\"https://en.wikipedia.org/wiki/Simple_linear_regression\">Simple linear regression</a> used for this approximation"
   ]
  },
  {
   "cell_type": "markdown",
   "metadata": {},
   "source": [
    "<table style=\"text-align:center;\">\n",
    "    <tr>\n",
    "        <td>$$Parameter$$</td>\n",
    "        <td>$$Description$$</td>\n",
    "        <td>$$Unit$$</td>\n",
    "    </tr> \n",
    "    <tr>\n",
    "        <td>$$V_0$$</td>\n",
    "        <td style=\"text-align:center;\">Intercept of the curve obtained by linear approximation</td>\n",
    "        <td>$$V$$</td>\n",
    "    </tr>\n",
    "    <tr>\n",
    "        <td>$$k$$</td>\n",
    "        <td style=\"text-align:center;\">Slope of the curve obtained by linear approximation</td>\n",
    "        <td>$$A^{-1}$$</td>\n",
    "    </tr>\n",
    "    <tr>\n",
    "        <td>$$P_{max}$$</td>\n",
    "        <td style=\"text-align:center;\">Maximum power obtained by linear approximation</td>\n",
    "        <td>$$W$$</td>\n",
    "    </tr>\n",
    "    <tr>\n",
    "        <td>$$V_{FC}|P_{max}$$</td>\n",
    "        <td style=\"text-align:center;\">Cell voltage at maximum power obtained by linear approximation</td>\n",
    "        <td>$$V$$</td>\n",
    "    </tr>\n",
    "   \n",
    "     \n",
    "    \n",
    "    \n",
    "    \n",
    "</table>"
   ]
  },
  {
   "cell_type": "markdown",
   "metadata": {},
   "source": [
    "* Notice : These parameters are only available in HTML report"
   ]
  },
  {
   "cell_type": "markdown",
   "metadata": {},
   "source": [
    "## Overall Parameters"
   ]
  },
  {
   "cell_type": "markdown",
   "metadata": {},
   "source": [
    "<table style=\"text-align:center;\">\n",
    "    <tr>\n",
    "        <td>$$Parameter$$</td>\n",
    "        <td>$$Description$$</td>\n",
    "        <td>$$Unit$$</td>\n",
    "    </tr> \n",
    "    <tr>\n",
    "        <td>$$\\eta|P_{Max}$$</td>\n",
    "        <td style=\"text-align:center;\">Cell efficiency at maximum power</td>\n",
    "        <td>$$--$$</td>\n",
    "    </tr>\n",
    "    <tr>\n",
    "        <td>$$P_{Max}$$</td>\n",
    "        <td style=\"text-align:center;\">Maximum power </td>\n",
    "        <td>$$W$$</td>\n",
    "    </tr>\n",
    "    <tr>\n",
    "        <td>$$P_{Elec} $$</td>\n",
    "        <td style=\"text-align:center;\">Total electrical power </td>\n",
    "        <td>$$W$$</td>\n",
    "    </tr>\n",
    "    <tr>\n",
    "        <td>$$P_{Thermal} $$</td>\n",
    "        <td style=\"text-align:center;\">Total thermal power   </td>\n",
    "        <td>$$W$$</td>\n",
    "    </tr>\n",
    "    <tr>\n",
    "        <td>$$V_{FC}|P_{Max}$$</td>\n",
    "        <td style=\"text-align:center;\">Cell voltage at maximum power </td>\n",
    "        <td>$$V$$</td>\n",
    "    </tr>\n",
    "   \n",
    "     \n",
    "    \n",
    "    \n",
    "    \n",
    "</table>"
   ]
  },
  {
   "cell_type": "markdown",
   "metadata": {},
   "source": [
    "* Notice : P(Thermal) & P(Elec) calculated by <a href=\"https://en.wikipedia.org/wiki/Simpson%27s_rule\">Simpson's Rule</a>\n",
    "\n",
    "* Notice : These parameters are only available in HTML report"
   ]
  },
  {
   "cell_type": "markdown",
   "metadata": {},
   "source": [
    "## Full Run"
   ]
  },
  {
   "cell_type": "markdown",
   "metadata": {},
   "source": [
    "* Run from `i`=0 to `i`=4 with `step`=0.1"
   ]
  },
  {
   "cell_type": "code",
   "execution_count": 7,
   "metadata": {
    "scrolled": true
   },
   "outputs": [],
   "source": [
    "Test_Vector={\"A\":0.0587,\"E0\":1.178,\"B\":0.0517,\"RM\":0.0018,\"i_0\":0.00654,\"i_L\":100.0,\"i_n\":0.23,\"N\":23,\"i-start\":0.1,\"i-stop\":4,\"i-step\":0.1,\"Name\":\"Test\"}"
   ]
  },
  {
   "cell_type": "markdown",
   "metadata": {},
   "source": [
    "* Notice : \"Name\", new in version 0.5"
   ]
  },
  {
   "cell_type": "code",
   "execution_count": 8,
   "metadata": {},
   "outputs": [
    {
     "data": {
      "text/plain": [
       "{'EFF': [0.6070918465825977,\n",
       "  0.596983288796134,\n",
       "  0.5889668542476844,\n",
       "  0.5823143704480743,\n",
       "  0.576622053314997,\n",
       "  0.5716425142657562,\n",
       "  0.5672131517182866,\n",
       "  0.5632213484876261,\n",
       "  0.5595858755325545,\n",
       "  0.5562462126792992,\n",
       "  0.5531560572234717,\n",
       "  0.5502791922121564,\n",
       "  0.5475867544887774,\n",
       "  0.5450553693735705,\n",
       "  0.5426658416714328,\n",
       "  0.5404022150580957,\n",
       "  0.5382510820424253,\n",
       "  0.536201068437617,\n",
       "  0.5342424419218519,\n",
       "  0.532366810486187,\n",
       "  0.5305668870842597,\n",
       "  0.5288363037744284,\n",
       "  0.527169463367337,\n",
       "  0.5255614198480028,\n",
       "  0.5240077811244296,\n",
       "  0.5225046292799733,\n",
       "  0.52104845467996,\n",
       "  0.5196361011410657,\n",
       "  0.5182647200068938,\n",
       "  0.5169317314482642,\n",
       "  0.515634791665824,\n",
       "  0.514371764946645,\n",
       "  0.5131406997374682,\n",
       "  0.5119398080610783,\n",
       "  0.5107674477304784,\n",
       "  0.5096221069165698,\n",
       "  0.5085023907052405,\n",
       "  0.5074070093438323,\n",
       "  0.5063347679284521],\n",
       " 'I': [0.1,\n",
       "  0.2,\n",
       "  0.3,\n",
       "  0.4,\n",
       "  0.5,\n",
       "  0.6,\n",
       "  0.7,\n",
       "  0.8,\n",
       "  0.9,\n",
       "  1.0,\n",
       "  1.1,\n",
       "  1.2,\n",
       "  1.3,\n",
       "  1.4,\n",
       "  1.5,\n",
       "  1.6,\n",
       "  1.7,\n",
       "  1.8,\n",
       "  1.9,\n",
       "  2.0,\n",
       "  2.1,\n",
       "  2.2,\n",
       "  2.3,\n",
       "  2.4,\n",
       "  2.5,\n",
       "  2.6,\n",
       "  2.7,\n",
       "  2.8,\n",
       "  2.9,\n",
       "  3.0,\n",
       "  3.1,\n",
       "  3.2,\n",
       "  3.3,\n",
       "  3.4,\n",
       "  3.5,\n",
       "  3.6,\n",
       "  3.7,\n",
       "  3.8,\n",
       "  3.9],\n",
       " 'K': -0.8085109813421083,\n",
       " 'P': [2.178245545538361,\n",
       "  4.2839520804010585,\n",
       "  6.339639219122075,\n",
       "  8.357375844670763,\n",
       "  10.344599636471047,\n",
       "  12.3063200471132,\n",
       "  14.246125518556482,\n",
       "  16.16670558698882,\n",
       "  18.070147092697248,\n",
       "  19.958114110933252,\n",
       "  21.831963266495983,\n",
       "  23.692820899886605,\n",
       "  25.541636576374536,\n",
       "  27.379221314373194,\n",
       "  29.206275598756516,\n",
       "  31.02341036205516,\n",
       "  32.83116300025978,\n",
       "  34.63000980397505,\n",
       "  36.420375750696486,\n",
       "  38.20264232048878,\n",
       "  39.97715380802481,\n",
       "  41.74422247473829,\n",
       "  43.504132794926115,\n",
       "  45.257144985951214,\n",
       "  47.00349796686133,\n",
       "  48.74341185627015,\n",
       "  50.47709009557581,\n",
       "  52.20472126503602,\n",
       "  53.926480646157316,\n",
       "  55.64253157309116,\n",
       "  57.35302660740627,\n",
       "  59.05810856411401,\n",
       "  60.75791141171519,\n",
       "  62.452561064987066,\n",
       "  64.14217608599348,\n",
       "  65.82686830619949,\n",
       "  67.50674338046491,\n",
       "  69.18190128197547,\n",
       "  70.85243674576417],\n",
       " 'Ph': [0.650754454461639,\n",
       "  1.3740479195989417,\n",
       "  2.1473607808779245,\n",
       "  2.958624155329237,\n",
       "  3.8004003635289525,\n",
       "  4.6676799528867985,\n",
       "  5.556874481443514,\n",
       "  6.465294413011179,\n",
       "  7.390852907302754,\n",
       "  8.331885889066747,\n",
       "  9.287036733504017,\n",
       "  10.255179100113395,\n",
       "  11.235363423625465,\n",
       "  12.226778685626805,\n",
       "  13.228724401243484,\n",
       "  14.24058963794484,\n",
       "  15.261836999740217,\n",
       "  16.29199019602495,\n",
       "  17.330624249303508,\n",
       "  18.37735767951122,\n",
       "  19.431846191975197,\n",
       "  20.49377752526172,\n",
       "  21.562867205073875,\n",
       "  22.638855014048787,\n",
       "  23.721502033138655,\n",
       "  24.810588143729856,\n",
       "  25.905909904424192,\n",
       "  27.007278734963975,\n",
       "  28.11451935384268,\n",
       "  29.22746842690884,\n",
       "  30.345973392593724,\n",
       "  31.469891435885998,\n",
       "  32.5990885882848,\n",
       "  33.73343893501293,\n",
       "  34.872823914006524,\n",
       "  36.017131693800515,\n",
       "  37.16625661953508,\n",
       "  38.32009871802452,\n",
       "  39.47856325423582],\n",
       " 'Status': True,\n",
       " 'V': [21.78245545538361,\n",
       "  21.41976040200529,\n",
       "  21.132130730406917,\n",
       "  20.893439611676907,\n",
       "  20.689199272942094,\n",
       "  20.510533411855334,\n",
       "  20.35160788365212,\n",
       "  20.208381983736025,\n",
       "  20.07794121410805,\n",
       "  19.958114110933252,\n",
       "  19.847239333178166,\n",
       "  19.74401741657217,\n",
       "  19.647412751057335,\n",
       "  19.55658665312371,\n",
       "  19.47085039917101,\n",
       "  19.389631476284475,\n",
       "  19.312448823682224,\n",
       "  19.238894335541694,\n",
       "  19.168618816156048,\n",
       "  19.10132116024439,\n",
       "  19.03673990858324,\n",
       "  18.97464657942649,\n",
       "  18.914840345620053,\n",
       "  18.857143744146338,\n",
       "  18.801399186744536,\n",
       "  18.74746609856544,\n",
       "  18.695218553916966,\n",
       "  18.644543308941437,\n",
       "  18.59533815384735,\n",
       "  18.54751052436372,\n",
       "  18.500976324969766,\n",
       "  18.455658926285626,\n",
       "  18.411488306580363,\n",
       "  18.36840031323149,\n",
       "  18.326336024569564,\n",
       "  18.285241196166524,\n",
       "  18.24506577850403,\n",
       "  18.205763495256704,\n",
       "  18.167291473272865],\n",
       " 'V0': 20.957577180240715}"
      ]
     },
     "execution_count": 8,
     "metadata": {},
     "output_type": "execute_result"
    }
   ],
   "source": [
    "from opem.Static.Larminie_Dicks import Static_Analysis\n",
    "Static_Analysis(InputMethod=Test_Vector,TestMode=True,PrintMode=False,ReportMode=True)"
   ]
  },
  {
   "cell_type": "markdown",
   "metadata": {},
   "source": [
    "* Notice : \"Status\", \"V0\", \"K\" and \"EFF\" , new in version 0.8"
   ]
  },
  {
   "cell_type": "code",
   "execution_count": 9,
   "metadata": {},
   "outputs": [
    {
     "name": "stdout",
     "output_type": "stream",
     "text": [
      "###########\n",
      "Larminie-Dicks-Model Simulation\n",
      "###########\n",
      "Analyzing . . .\n",
      "I : 0.1\n",
      "PEM Efficiency : 0.6070918465825977 \n",
      "Power : 0.09470632806688527 W\n",
      "Power-Stack : 2.178245545538361 W\n",
      "Power-Thermal : 0.650754454461639 W\n",
      "VStack : 21.78245545538361 V\n",
      "Vcell : 0.9470632806688526 V\n",
      "###########\n",
      "I : 0.2\n",
      "PEM Efficiency : 0.596983288796134 \n",
      "Power : 0.18625878610439384 W\n",
      "Power-Stack : 4.2839520804010585 W\n",
      "Power-Thermal : 1.3740479195989417 W\n",
      "VStack : 21.41976040200529 V\n",
      "Vcell : 0.9312939305219692 V\n",
      "###########\n",
      "I : 0.3\n",
      "PEM Efficiency : 0.5889668542476844 \n",
      "Power : 0.27563648778791633 W\n",
      "Power-Stack : 6.339639219122075 W\n",
      "Power-Thermal : 2.1473607808779245 W\n",
      "VStack : 21.132130730406917 V\n",
      "Vcell : 0.9187882926263877 V\n",
      "###########\n",
      "I : 0.4\n",
      "PEM Efficiency : 0.5823143704480743 \n",
      "Power : 0.3633641671595984 W\n",
      "Power-Stack : 8.357375844670763 W\n",
      "Power-Thermal : 2.958624155329237 W\n",
      "VStack : 20.893439611676907 V\n",
      "Vcell : 0.908410417898996 V\n",
      "###########\n",
      "I : 0.5\n",
      "PEM Efficiency : 0.576622053314997 \n",
      "Power : 0.4497652015856977 W\n",
      "Power-Stack : 10.344599636471047 W\n",
      "Power-Thermal : 3.8004003635289525 W\n",
      "VStack : 20.689199272942094 V\n",
      "Vcell : 0.8995304031713954 V\n",
      "###########\n",
      "I : 0.6\n",
      "PEM Efficiency : 0.5716425142657562 \n",
      "Power : 0.5350573933527478 W\n",
      "Power-Stack : 12.3063200471132 W\n",
      "Power-Thermal : 4.6676799528867985 W\n",
      "VStack : 20.510533411855334 V\n",
      "Vcell : 0.8917623222545797 V\n",
      "###########\n",
      "I : 0.7\n",
      "PEM Efficiency : 0.5672131517182866 \n",
      "Power : 0.6193967616763688 W\n",
      "Power-Stack : 14.246125518556482 W\n",
      "Power-Thermal : 5.556874481443514 W\n",
      "VStack : 20.35160788365212 V\n",
      "Vcell : 0.884852516680527 V\n",
      "###########\n",
      "I : 0.8\n",
      "PEM Efficiency : 0.5632213484876261 \n",
      "Power : 0.7029002429125574 W\n",
      "Power-Stack : 16.16670558698882 W\n",
      "Power-Thermal : 6.465294413011179 W\n",
      "VStack : 20.208381983736025 V\n",
      "Vcell : 0.8786253036406967 V\n",
      "###########\n",
      "I : 0.9\n",
      "PEM Efficiency : 0.5595858755325545 \n",
      "Power : 0.7856585692477064 W\n",
      "Power-Stack : 18.070147092697248 W\n",
      "Power-Thermal : 7.390852907302754 W\n",
      "VStack : 20.07794121410805 V\n",
      "Vcell : 0.8729539658307849 V\n",
      "###########\n",
      "I : 1.0\n",
      "PEM Efficiency : 0.5562462126792992 \n",
      "Power : 0.8677440917797067 W\n",
      "Power-Stack : 19.958114110933252 W\n",
      "Power-Thermal : 8.331885889066747 W\n",
      "VStack : 19.958114110933252 V\n",
      "Vcell : 0.8677440917797067 V\n",
      "###########\n",
      "I : 1.1\n",
      "PEM Efficiency : 0.5531560572234717 \n",
      "Power : 0.9492157941954775 W\n",
      "Power-Stack : 21.831963266495983 W\n",
      "Power-Thermal : 9.287036733504017 W\n",
      "VStack : 19.847239333178166 V\n",
      "Vcell : 0.8629234492686159 V\n",
      "###########\n",
      "I : 1.2\n",
      "PEM Efficiency : 0.5502791922121564 \n",
      "Power : 1.0301226478211567 W\n",
      "Power-Stack : 23.692820899886605 W\n",
      "Power-Thermal : 10.255179100113395 W\n",
      "VStack : 19.74401741657217 V\n",
      "Vcell : 0.858435539850964 V\n",
      "###########\n",
      "I : 1.3\n",
      "PEM Efficiency : 0.5475867544887774 \n",
      "Power : 1.1105059381032407 W\n",
      "Power-Stack : 25.541636576374536 W\n",
      "Power-Thermal : 11.235363423625465 W\n",
      "VStack : 19.647412751057335 V\n",
      "Vcell : 0.8542353370024928 V\n",
      "###########\n",
      "I : 1.4\n",
      "PEM Efficiency : 0.5450553693735705 \n",
      "Power : 1.190400926711878 W\n",
      "Power-Stack : 27.379221314373194 W\n",
      "Power-Thermal : 12.226778685626805 W\n",
      "VStack : 19.55658665312371 V\n",
      "Vcell : 0.85028637622277 V\n",
      "###########\n",
      "I : 1.5\n",
      "PEM Efficiency : 0.5426658416714328 \n",
      "Power : 1.2698380695111529 W\n",
      "Power-Stack : 29.206275598756516 W\n",
      "Power-Thermal : 13.228724401243484 W\n",
      "VStack : 19.47085039917101 V\n",
      "Vcell : 0.8465587130074352 V\n",
      "###########\n",
      "I : 1.6\n",
      "PEM Efficiency : 0.5404022150580957 \n",
      "Power : 1.348843928785007 W\n",
      "Power-Stack : 31.02341036205516 W\n",
      "Power-Thermal : 14.24058963794484 W\n",
      "VStack : 19.389631476284475 V\n",
      "Vcell : 0.8430274554906293 V\n",
      "###########\n",
      "I : 1.7\n",
      "PEM Efficiency : 0.5382510820424253 \n",
      "Power : 1.427441869576512 W\n",
      "Power-Stack : 32.83116300025978 W\n",
      "Power-Thermal : 15.261836999740217 W\n",
      "VStack : 19.312448823682224 V\n",
      "Vcell : 0.8396716879861836 V\n",
      "###########\n",
      "I : 1.8\n",
      "PEM Efficiency : 0.536201068437617 \n",
      "Power : 1.5056526001728283 W\n",
      "Power-Stack : 34.63000980397505 W\n",
      "Power-Thermal : 16.29199019602495 W\n",
      "VStack : 19.238894335541694 V\n",
      "Vcell : 0.8364736667626824 V\n",
      "###########\n",
      "I : 1.9\n",
      "PEM Efficiency : 0.5342424419218519 \n",
      "Power : 1.583494597856369 W\n",
      "Power-Stack : 36.420375750696486 W\n",
      "Power-Thermal : 17.330624249303508 W\n",
      "VStack : 19.168618816156048 V\n",
      "Vcell : 0.833418209398089 V\n",
      "###########\n",
      "I : 2.0\n",
      "PEM Efficiency : 0.532366810486187 \n",
      "Power : 1.6609844487169034 W\n",
      "Power-Stack : 38.20264232048878 W\n",
      "Power-Thermal : 18.37735767951122 W\n",
      "VStack : 19.10132116024439 V\n",
      "Vcell : 0.8304922243584517 V\n",
      "###########\n",
      "I : 2.1\n",
      "PEM Efficiency : 0.5305668870842597 \n",
      "Power : 1.738137122088035 W\n",
      "Power-Stack : 39.97715380802481 W\n",
      "Power-Thermal : 19.431846191975197 W\n",
      "VStack : 19.03673990858324 V\n",
      "Vcell : 0.8276843438514452 V\n",
      "###########\n",
      "I : 2.2\n",
      "PEM Efficiency : 0.5288363037744284 \n",
      "Power : 1.8149661945538385 W\n",
      "Power-Stack : 41.74422247473829 W\n",
      "Power-Thermal : 20.49377752526172 W\n",
      "VStack : 18.97464657942649 V\n",
      "Vcell : 0.8249846338881083 V\n",
      "###########\n",
      "I : 2.3\n",
      "PEM Efficiency : 0.527169463367337 \n",
      "Power : 1.891484034562005 W\n",
      "Power-Stack : 43.504132794926115 W\n",
      "Power-Thermal : 21.562867205073875 W\n",
      "VStack : 18.914840345620053 V\n",
      "Vcell : 0.8223843628530457 V\n",
      "###########\n",
      "I : 2.4\n",
      "PEM Efficiency : 0.5255614198480028 \n",
      "Power : 1.9677019559109223 W\n",
      "Power-Stack : 45.257144985951214 W\n",
      "Power-Thermal : 22.638855014048787 W\n",
      "VStack : 18.857143744146338 V\n",
      "Vcell : 0.8198758149628843 V\n",
      "###########\n",
      "I : 2.5\n",
      "PEM Efficiency : 0.5240077811244296 \n",
      "Power : 2.0436303463852754 W\n",
      "Power-Stack : 47.00349796686133 W\n",
      "Power-Thermal : 23.721502033138655 W\n",
      "VStack : 18.801399186744536 V\n",
      "Vcell : 0.8174521385541103 V\n",
      "###########\n",
      "I : 2.6\n",
      "PEM Efficiency : 0.5225046292799733 \n",
      "Power : 2.1192787763595717 W\n",
      "Power-Stack : 48.74341185627015 W\n",
      "Power-Thermal : 24.810588143729856 W\n",
      "VStack : 18.74746609856544 V\n",
      "Vcell : 0.8151072216767583 V\n",
      "###########\n",
      "I : 2.7\n",
      "PEM Efficiency : 0.52104845467996 \n",
      "Power : 2.194656091111992 W\n",
      "Power-Stack : 50.47709009557581 W\n",
      "Power-Thermal : 25.905909904424192 W\n",
      "VStack : 18.695218553916966 V\n",
      "Vcell : 0.8128355893007376 V\n",
      "###########\n",
      "I : 2.8\n",
      "PEM Efficiency : 0.5196361011410657 \n",
      "Power : 2.269770489784175 W\n",
      "Power-Stack : 52.20472126503602 W\n",
      "Power-Thermal : 27.007278734963975 W\n",
      "VStack : 18.644543308941437 V\n",
      "Vcell : 0.8106323177800625 V\n",
      "###########\n",
      "I : 2.9\n",
      "PEM Efficiency : 0.5182647200068938 \n",
      "Power : 2.3446295933111876 W\n",
      "Power-Stack : 53.926480646157316 W\n",
      "Power-Thermal : 28.11451935384268 W\n",
      "VStack : 18.59533815384735 V\n",
      "Vcell : 0.8084929632107544 V\n",
      "###########\n",
      "I : 3.0\n",
      "PEM Efficiency : 0.5169317314482642 \n",
      "Power : 2.4192405031778765 W\n",
      "Power-Stack : 55.64253157309116 W\n",
      "Power-Thermal : 29.22746842690884 W\n",
      "VStack : 18.54751052436372 V\n",
      "Vcell : 0.8064135010592922 V\n",
      "###########\n",
      "I : 3.1\n",
      "PEM Efficiency : 0.515634791665824 \n",
      "Power : 2.4936098524959247 W\n",
      "Power-Stack : 57.35302660740627 W\n",
      "Power-Thermal : 30.345973392593724 W\n",
      "VStack : 18.500976324969766 V\n",
      "Vcell : 0.8043902749986854 V\n",
      "###########\n",
      "I : 3.2\n",
      "PEM Efficiency : 0.514371764946645 \n",
      "Power : 2.5677438506136525 W\n",
      "Power-Stack : 59.05810856411401 W\n",
      "Power-Thermal : 31.469891435885998 W\n",
      "VStack : 18.455658926285626 V\n",
      "Vcell : 0.8024199533167663 V\n",
      "###########\n",
      "I : 3.3\n",
      "PEM Efficiency : 0.5131406997374682 \n",
      "Power : 2.6416483222484866 W\n",
      "Power-Stack : 60.75791141171519 W\n",
      "Power-Thermal : 32.5990885882848 W\n",
      "VStack : 18.411488306580363 V\n",
      "Vcell : 0.8004994915904505 V\n",
      "###########\n",
      "I : 3.4\n",
      "PEM Efficiency : 0.5119398080610783 \n",
      "Power : 2.7153287419559593 W\n",
      "Power-Stack : 62.452561064987066 W\n",
      "Power-Thermal : 33.73343893501293 W\n",
      "VStack : 18.36840031323149 V\n",
      "Vcell : 0.7986261005752822 V\n",
      "###########\n",
      "I : 3.5\n",
      "PEM Efficiency : 0.5107674477304784 \n",
      "Power : 2.788790264608412 W\n",
      "Power-Stack : 64.14217608599348 W\n",
      "Power-Thermal : 34.872823914006524 W\n",
      "VStack : 18.326336024569564 V\n",
      "Vcell : 0.7967972184595463 V\n",
      "###########\n",
      "I : 3.6\n",
      "PEM Efficiency : 0.5096221069165698 \n",
      "Power : 2.862037752443456 W\n",
      "Power-Stack : 65.82686830619949 W\n",
      "Power-Thermal : 36.017131693800515 W\n",
      "VStack : 18.285241196166524 V\n",
      "Vcell : 0.7950104867898489 V\n",
      "###########\n",
      "I : 3.7\n",
      "PEM Efficiency : 0.5085023907052405 \n",
      "Power : 2.935075799150648 W\n",
      "Power-Stack : 67.50674338046491 W\n",
      "Power-Thermal : 37.16625661953508 W\n",
      "VStack : 18.24506577850403 V\n",
      "Vcell : 0.7932637295001752 V\n",
      "###########\n",
      "I : 3.8\n",
      "PEM Efficiency : 0.5074070093438323 \n",
      "Power : 3.007908751390238 W\n",
      "Power-Stack : 69.18190128197547 W\n",
      "Power-Thermal : 38.32009871802452 W\n",
      "VStack : 18.205763495256704 V\n",
      "Vcell : 0.7915549345763785 V\n",
      "###########\n",
      "I : 3.9\n",
      "PEM Efficiency : 0.5063347679284521 \n",
      "Power : 3.080540728076703 W\n",
      "Power-Stack : 70.85243674576417 W\n",
      "Power-Thermal : 39.47856325423582 W\n",
      "VStack : 18.167291473272865 V\n",
      "Vcell : 0.7898822379683854 V\n",
      "###########\n",
      "Done!\n"
     ]
    }
   ],
   "source": [
    "Data=Static_Analysis(InputMethod=Test_Vector,TestMode=True,PrintMode=True,ReportMode=True)"
   ]
  },
  {
   "cell_type": "markdown",
   "metadata": {},
   "source": [
    "* Notice : \"PrintMode\" & \"ReportMode\" , new in version 0.5"
   ]
  },
  {
   "cell_type": "code",
   "execution_count": 10,
   "metadata": {},
   "outputs": [
    {
     "data": {
      "text/plain": [
       "{'Message': '[Error] Larminie-Dicks Simulation Failed!(Check Your Inputs)',\n",
       " 'Status': False}"
      ]
     },
     "execution_count": 10,
     "metadata": {},
     "output_type": "execute_result"
    }
   ],
   "source": [
    "Static_Analysis(InputMethod={},TestMode=True,PrintMode=False,ReportMode=True)"
   ]
  },
  {
   "cell_type": "markdown",
   "metadata": {},
   "source": [
    "## Parameters"
   ]
  },
  {
   "cell_type": "markdown",
   "metadata": {},
   "source": [
    "Inputs, Constants & Middle Values\n",
    "1. User : User Input\n",
    "2. System : Simulator Calculation (Middle Value)"
   ]
  },
  {
   "cell_type": "markdown",
   "metadata": {},
   "source": [
    "<table style=\"text-align:center;\">\n",
    "    <tr>\n",
    "        <td>$$Parameter$$</td>\n",
    "        <td>$$Description$$</td>\n",
    "        <td>$$Unit$$</td>\n",
    "        <td>$$Value$$</td>\n",
    "    </tr> \n",
    "    <tr>\n",
    "        <td>$$E_0$$</td>\n",
    "        <td style=\"text-align:center;\">Fuel Cell reversible no loss voltage</td>\n",
    "        <td>$$V$$</td>\n",
    "        <td>$$User$$</td>\n",
    "    </tr>\n",
    "    <tr>\n",
    "        <td>$$A$$</td>\n",
    "        <td style=\"text-align:center;\">The slope of the Tafel line</td>\n",
    "        <td>$$V$$</td>\n",
    "        <td>$$User$$</td>\n",
    "    </tr>\n",
    "    <tr>\n",
    "        <td>$$i_n$$</td>\n",
    "        <td style=\"text-align:center;\">Internal current</td>\n",
    "        <td>$$A$$</td>\n",
    "        <td>$$User$$</td>\n",
    "    </tr>\n",
    "    <tr>\n",
    "        <td>$$i_0$$</td>\n",
    "        <td style=\"text-align:center;\">Exchange current at which the overvoltage begins to move\n",
    "from zero</td>\n",
    "        <td>$$A$$</td>\n",
    "        <td>$$User$$</td>\n",
    "    </tr>\n",
    "    <tr>\n",
    "        <td>$$i_L$$</td>\n",
    "        <td style=\"text-align:center;\">Limiting current</td>\n",
    "        <td>$$A$$</td>\n",
    "        <td>$$User$$</td>\n",
    "    </tr>\n",
    "    <tr>\n",
    "        <td>$$B$$</td>\n",
    "        <td style=\"text-align:center;\">Constant in the mass transfer term </td>\n",
    "        <td>$$V$$</td>\n",
    "        <td>$$User$$</td>\n",
    "    </tr>\n",
    "    <tr>\n",
    "        <td>$$R_m$$</td>\n",
    "        <td style=\"text-align:center;\">The membrane and contact resistances</td>\n",
    "        <td>$$\\Omega$$</td>\n",
    "        <td>$$User$$</td>\n",
    "    </tr>\n",
    "    \n",
    "    \n",
    "    \n",
    "    <tr>\n",
    "        <td>$$N$$</td>\n",
    "        <td style=\"text-align:center;\">Number of single cells</td>\n",
    "        <td>$$--$$</td>\n",
    "        <td>$$User$$</td>\n",
    "    </tr>\n",
    "         <tr>\n",
    "        <td>$$i_{start}$$</td>\n",
    "        <td style=\"text-align:center;\">Cell operating current start point</td>\n",
    "        <td>$$A$$</td>\n",
    "        <td>$$User$$</td>\n",
    "    </tr>\n",
    "    \n",
    "    <tr>\n",
    "        <td>$$i_{step}$$</td>\n",
    "        <td style=\"text-align:center;\">Cell operating current step</td>\n",
    "        <td>$$A$$</td>\n",
    "        <td>$$User$$</td>\n",
    "    </tr>\n",
    "    \n",
    "    <tr>\n",
    "        <td>$$i_{stop}$$</td>\n",
    "        <td style=\"text-align:center;\">Cell operating current end point</td>\n",
    "        <td>$$A$$</td>\n",
    "        <td>$$User$$</td>\n",
    "    </tr>\n",
    "    \n",
    "               <tr>\n",
    "        <td>$$\\mu_F$$</td>\n",
    "        <td style=\"text-align:center;\">The fuel utilization</td>\n",
    "        <td>$$--$$</td>\n",
    "        <td>$$0.95$$</td>\n",
    "    </tr>\n",
    "          <tr>\n",
    "    <td>$$HHV$$</td>\n",
    "        <td style=\"text-align:center;\">Higher Heating Value Potential</td>\n",
    "        <td>$$V$$</td>\n",
    "        <td>$$1.482$$</td>\n",
    "    </tr>\n",
    "    <tr>\n",
    "    <td>$$E_{th}$$</td>\n",
    "        <td style=\"text-align:center;\">Theoretical Potential</td>\n",
    "        <td>$$V$$</td>\n",
    "        <td>$$1.23$$</td>\n",
    "    </tr>\n",
    "    \n",
    "    \n",
    "    \n",
    "</table>"
   ]
  },
  {
   "cell_type": "markdown",
   "metadata": {},
   "source": [
    "## Reference\n",
    "<blockquote>\n",
    "I. Sadli, P. Thounthong, J.-P. Martin, S. Rael, B. Davat. 2006.\n",
    "\"Behaviour of a PEMFC supplying a low voltage static converter.\"\n",
    "Journal of Power Sources (Elsevier) 156: 119–125.\n",
    "doi:10.1016/j.jpowsour.2005.08.021.\n",
    "</blockquote>"
   ]
  }
 ],
 "metadata": {
  "kernelspec": {
   "display_name": "Python 3",
   "language": "python",
   "name": "python3"
  },
  "language_info": {
   "codemirror_mode": {
    "name": "ipython",
    "version": 3
   },
   "file_extension": ".py",
   "mimetype": "text/x-python",
   "name": "python",
   "nbconvert_exporter": "python",
   "pygments_lexer": "ipython3",
   "version": "3.5.2"
  }
 },
 "nbformat": 4,
 "nbformat_minor": 2
}
